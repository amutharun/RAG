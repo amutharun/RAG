{
  "cells": [
    {
      "cell_type": "markdown",
      "metadata": {
        "id": "view-in-github",
        "colab_type": "text"
      },
      "source": [
        "<a href=\"https://colab.research.google.com/github/amutharun/RAG/blob/main/02_Advanced_RAG_Retriever.ipynb\" target=\"_parent\"><img src=\"https://colab.research.google.com/assets/colab-badge.svg\" alt=\"Open In Colab\"/></a>"
      ]
    },
    {
      "cell_type": "markdown",
      "id": "0147a54f-b97f-4863-ac20-f8da92d7aa75",
      "metadata": {
        "execution": {
          "iopub.execute_input": "2024-02-01T17:05:06.590540Z",
          "iopub.status.busy": "2024-02-01T17:05:06.590271Z",
          "iopub.status.idle": "2024-02-01T17:05:06.593399Z",
          "shell.execute_reply": "2024-02-01T17:05:06.592931Z",
          "shell.execute_reply.started": "2024-02-01T17:05:06.590476Z"
        },
        "id": "0147a54f-b97f-4863-ac20-f8da92d7aa75"
      },
      "source": [
        "# Advanced Retrieval-Augmented Generation (RAG): LangChain Implementation\n",
        "This Notebook implements an advanced RAG system with the following components\n",
        "* How to handle **multiple data sources**\n",
        "* Showcases the power of various **Advanced Retrievers**"
      ]
    },
    {
      "cell_type": "code",
      "source": [
        "!git clone https://github.com/amutharun/RAG.git"
      ],
      "metadata": {
        "colab": {
          "base_uri": "https://localhost:8080/"
        },
        "id": "U5Tou03U1--E",
        "outputId": "c0e15b20-c83a-4432-d5b2-1af8e00c8d40"
      },
      "id": "U5Tou03U1--E",
      "execution_count": 1,
      "outputs": [
        {
          "output_type": "stream",
          "name": "stdout",
          "text": [
            "Cloning into 'RAG'...\n",
            "remote: Enumerating objects: 22, done.\u001b[K\n",
            "remote: Counting objects: 100% (22/22), done.\u001b[K\n",
            "remote: Compressing objects: 100% (21/21), done.\u001b[K\n",
            "remote: Total 22 (delta 5), reused 0 (delta 0), pack-reused 0\u001b[K\n",
            "Receiving objects: 100% (22/22), 5.41 MiB | 13.98 MiB/s, done.\n",
            "Resolving deltas: 100% (5/5), done.\n"
          ]
        }
      ]
    },
    {
      "cell_type": "code",
      "source": [
        "!pip install -r /content/RAG/rag_requirements.txt"
      ],
      "metadata": {
        "colab": {
          "base_uri": "https://localhost:8080/"
        },
        "id": "dpJXBEgH2Fbg",
        "outputId": "57c87ce9-b357-4930-8ff3-5fa321be225b"
      },
      "id": "dpJXBEgH2Fbg",
      "execution_count": 2,
      "outputs": [
        {
          "output_type": "stream",
          "name": "stdout",
          "text": [
            "Collecting faiss-cpu==1.7.4 (from -r /content/RAG/rag_requirements.txt (line 1))\n",
            "  Downloading faiss_cpu-1.7.4-cp310-cp310-manylinux_2_17_x86_64.manylinux2014_x86_64.whl (17.6 MB)\n",
            "\u001b[2K     \u001b[90m━━━━━━━━━━━━━━━━━━━━━━━━━━━━━━━━━━━━━━━━\u001b[0m \u001b[32m17.6/17.6 MB\u001b[0m \u001b[31m56.7 MB/s\u001b[0m eta \u001b[36m0:00:00\u001b[0m\n",
            "\u001b[?25hCollecting langchain==0.0.309 (from -r /content/RAG/rag_requirements.txt (line 2))\n",
            "  Downloading langchain-0.0.309-py3-none-any.whl (1.8 MB)\n",
            "\u001b[2K     \u001b[90m━━━━━━━━━━━━━━━━━━━━━━━━━━━━━━━━━━━━━━━━\u001b[0m \u001b[32m1.8/1.8 MB\u001b[0m \u001b[31m73.3 MB/s\u001b[0m eta \u001b[36m0:00:00\u001b[0m\n",
            "\u001b[?25hCollecting chromadb==0.4.15 (from -r /content/RAG/rag_requirements.txt (line 3))\n",
            "  Downloading chromadb-0.4.15-py3-none-any.whl (479 kB)\n",
            "\u001b[2K     \u001b[90m━━━━━━━━━━━━━━━━━━━━━━━━━━━━━━━━━━━━━━━━\u001b[0m \u001b[32m479.8/479.8 kB\u001b[0m \u001b[31m53.3 MB/s\u001b[0m eta \u001b[36m0:00:00\u001b[0m\n",
            "\u001b[?25hCollecting xlsxwriter==1.4.3 (from -r /content/RAG/rag_requirements.txt (line 4))\n",
            "  Downloading XlsxWriter-1.4.3-py2.py3-none-any.whl (149 kB)\n",
            "\u001b[2K     \u001b[90m━━━━━━━━━━━━━━━━━━━━━━━━━━━━━━━━━━━━━━━━\u001b[0m \u001b[32m149.4/149.4 kB\u001b[0m \u001b[31m22.1 MB/s\u001b[0m eta \u001b[36m0:00:00\u001b[0m\n",
            "\u001b[?25hCollecting xlrd==1.2.0 (from -r /content/RAG/rag_requirements.txt (line 5))\n",
            "  Downloading xlrd-1.2.0-py2.py3-none-any.whl (103 kB)\n",
            "\u001b[2K     \u001b[90m━━━━━━━━━━━━━━━━━━━━━━━━━━━━━━━━━━━━━━━━\u001b[0m \u001b[32m103.3/103.3 kB\u001b[0m \u001b[31m17.5 MB/s\u001b[0m eta \u001b[36m0:00:00\u001b[0m\n",
            "\u001b[?25hRequirement already satisfied: openpyxl==3.1.2 in /usr/local/lib/python3.10/dist-packages (from -r /content/RAG/rag_requirements.txt (line 6)) (3.1.2)\n",
            "Collecting sentence_transformers==2.2.2 (from -r /content/RAG/rag_requirements.txt (line 7))\n",
            "  Downloading sentence-transformers-2.2.2.tar.gz (85 kB)\n",
            "\u001b[2K     \u001b[90m━━━━━━━━━━━━━━━━━━━━━━━━━━━━━━━━━━━━━━━━\u001b[0m \u001b[32m86.0/86.0 kB\u001b[0m \u001b[31m13.9 MB/s\u001b[0m eta \u001b[36m0:00:00\u001b[0m\n",
            "\u001b[?25h  Preparing metadata (setup.py) ... \u001b[?25l\u001b[?25hdone\n",
            "Collecting pypdf==3.16.2 (from -r /content/RAG/rag_requirements.txt (line 8))\n",
            "  Downloading pypdf-3.16.2-py3-none-any.whl (276 kB)\n",
            "\u001b[2K     \u001b[90m━━━━━━━━━━━━━━━━━━━━━━━━━━━━━━━━━━━━━━━━\u001b[0m \u001b[32m276.3/276.3 kB\u001b[0m \u001b[31m35.2 MB/s\u001b[0m eta \u001b[36m0:00:00\u001b[0m\n",
            "\u001b[?25hCollecting tiktoken==0.5.1 (from -r /content/RAG/rag_requirements.txt (line 9))\n",
            "  Downloading tiktoken-0.5.1-cp310-cp310-manylinux_2_17_x86_64.manylinux2014_x86_64.whl (2.0 MB)\n",
            "\u001b[2K     \u001b[90m━━━━━━━━━━━━━━━━━━━━━━━━━━━━━━━━━━━━━━━━\u001b[0m \u001b[32m2.0/2.0 MB\u001b[0m \u001b[31m51.6 MB/s\u001b[0m eta \u001b[36m0:00:00\u001b[0m\n",
            "\u001b[?25hCollecting openai==0.28.1 (from -r /content/RAG/rag_requirements.txt (line 10))\n",
            "  Downloading openai-0.28.1-py3-none-any.whl (76 kB)\n",
            "\u001b[2K     \u001b[90m━━━━━━━━━━━━━━━━━━━━━━━━━━━━━━━━━━━━━━━━\u001b[0m \u001b[32m77.0/77.0 kB\u001b[0m \u001b[31m10.7 MB/s\u001b[0m eta \u001b[36m0:00:00\u001b[0m\n",
            "\u001b[?25hCollecting umap-learn==0.5.5 (from -r /content/RAG/rag_requirements.txt (line 11))\n",
            "  Downloading umap-learn-0.5.5.tar.gz (90 kB)\n",
            "\u001b[2K     \u001b[90m━━━━━━━━━━━━━━━━━━━━━━━━━━━━━━━━━━━━━━━━\u001b[0m \u001b[32m90.9/90.9 kB\u001b[0m \u001b[31m12.7 MB/s\u001b[0m eta \u001b[36m0:00:00\u001b[0m\n",
            "\u001b[?25h  Preparing metadata (setup.py) ... \u001b[?25l\u001b[?25hdone\n",
            "Requirement already satisfied: PyYAML>=5.3 in /usr/local/lib/python3.10/dist-packages (from langchain==0.0.309->-r /content/RAG/rag_requirements.txt (line 2)) (6.0.1)\n",
            "Requirement already satisfied: SQLAlchemy<3,>=1.4 in /usr/local/lib/python3.10/dist-packages (from langchain==0.0.309->-r /content/RAG/rag_requirements.txt (line 2)) (2.0.27)\n",
            "Requirement already satisfied: aiohttp<4.0.0,>=3.8.3 in /usr/local/lib/python3.10/dist-packages (from langchain==0.0.309->-r /content/RAG/rag_requirements.txt (line 2)) (3.9.3)\n",
            "Requirement already satisfied: anyio<4.0 in /usr/local/lib/python3.10/dist-packages (from langchain==0.0.309->-r /content/RAG/rag_requirements.txt (line 2)) (3.7.1)\n",
            "Requirement already satisfied: async-timeout<5.0.0,>=4.0.0 in /usr/local/lib/python3.10/dist-packages (from langchain==0.0.309->-r /content/RAG/rag_requirements.txt (line 2)) (4.0.3)\n",
            "Collecting dataclasses-json<0.7,>=0.5.7 (from langchain==0.0.309->-r /content/RAG/rag_requirements.txt (line 2))\n",
            "  Downloading dataclasses_json-0.6.4-py3-none-any.whl (28 kB)\n",
            "Collecting jsonpatch<2.0,>=1.33 (from langchain==0.0.309->-r /content/RAG/rag_requirements.txt (line 2))\n",
            "  Downloading jsonpatch-1.33-py2.py3-none-any.whl (12 kB)\n",
            "Collecting langsmith<0.1.0,>=0.0.40 (from langchain==0.0.309->-r /content/RAG/rag_requirements.txt (line 2))\n",
            "  Downloading langsmith-0.0.92-py3-none-any.whl (56 kB)\n",
            "\u001b[2K     \u001b[90m━━━━━━━━━━━━━━━━━━━━━━━━━━━━━━━━━━━━━━━━\u001b[0m \u001b[32m56.5/56.5 kB\u001b[0m \u001b[31m8.6 MB/s\u001b[0m eta \u001b[36m0:00:00\u001b[0m\n",
            "\u001b[?25hRequirement already satisfied: numpy<2,>=1 in /usr/local/lib/python3.10/dist-packages (from langchain==0.0.309->-r /content/RAG/rag_requirements.txt (line 2)) (1.25.2)\n",
            "Requirement already satisfied: pydantic<3,>=1 in /usr/local/lib/python3.10/dist-packages (from langchain==0.0.309->-r /content/RAG/rag_requirements.txt (line 2)) (2.6.3)\n",
            "Requirement already satisfied: requests<3,>=2 in /usr/local/lib/python3.10/dist-packages (from langchain==0.0.309->-r /content/RAG/rag_requirements.txt (line 2)) (2.31.0)\n",
            "Requirement already satisfied: tenacity<9.0.0,>=8.1.0 in /usr/local/lib/python3.10/dist-packages (from langchain==0.0.309->-r /content/RAG/rag_requirements.txt (line 2)) (8.2.3)\n",
            "Collecting chroma-hnswlib==0.7.3 (from chromadb==0.4.15->-r /content/RAG/rag_requirements.txt (line 3))\n",
            "  Downloading chroma_hnswlib-0.7.3-cp310-cp310-manylinux_2_17_x86_64.manylinux2014_x86_64.whl (2.4 MB)\n",
            "\u001b[2K     \u001b[90m━━━━━━━━━━━━━━━━━━━━━━━━━━━━━━━━━━━━━━━━\u001b[0m \u001b[32m2.4/2.4 MB\u001b[0m \u001b[31m88.3 MB/s\u001b[0m eta \u001b[36m0:00:00\u001b[0m\n",
            "\u001b[?25hCollecting fastapi>=0.95.2 (from chromadb==0.4.15->-r /content/RAG/rag_requirements.txt (line 3))\n",
            "  Downloading fastapi-0.110.0-py3-none-any.whl (92 kB)\n",
            "\u001b[2K     \u001b[90m━━━━━━━━━━━━━━━━━━━━━━━━━━━━━━━━━━━━━━━━\u001b[0m \u001b[32m92.1/92.1 kB\u001b[0m \u001b[31m13.9 MB/s\u001b[0m eta \u001b[36m0:00:00\u001b[0m\n",
            "\u001b[?25hCollecting uvicorn[standard]>=0.18.3 (from chromadb==0.4.15->-r /content/RAG/rag_requirements.txt (line 3))\n",
            "  Downloading uvicorn-0.27.1-py3-none-any.whl (60 kB)\n",
            "\u001b[2K     \u001b[90m━━━━━━━━━━━━━━━━━━━━━━━━━━━━━━━━━━━━━━━━\u001b[0m \u001b[32m60.8/60.8 kB\u001b[0m \u001b[31m9.9 MB/s\u001b[0m eta \u001b[36m0:00:00\u001b[0m\n",
            "\u001b[?25hCollecting posthog>=2.4.0 (from chromadb==0.4.15->-r /content/RAG/rag_requirements.txt (line 3))\n",
            "  Downloading posthog-3.4.2-py2.py3-none-any.whl (41 kB)\n",
            "\u001b[2K     \u001b[90m━━━━━━━━━━━━━━━━━━━━━━━━━━━━━━━━━━━━━━━━\u001b[0m \u001b[32m41.2/41.2 kB\u001b[0m \u001b[31m6.5 MB/s\u001b[0m eta \u001b[36m0:00:00\u001b[0m\n",
            "\u001b[?25hRequirement already satisfied: typing-extensions>=4.5.0 in /usr/local/lib/python3.10/dist-packages (from chromadb==0.4.15->-r /content/RAG/rag_requirements.txt (line 3)) (4.10.0)\n",
            "Collecting pulsar-client>=3.1.0 (from chromadb==0.4.15->-r /content/RAG/rag_requirements.txt (line 3))\n",
            "  Downloading pulsar_client-3.4.0-cp310-cp310-manylinux_2_17_x86_64.manylinux2014_x86_64.whl (5.4 MB)\n",
            "\u001b[2K     \u001b[90m━━━━━━━━━━━━━━━━━━━━━━━━━━━━━━━━━━━━━━━━\u001b[0m \u001b[32m5.4/5.4 MB\u001b[0m \u001b[31m35.9 MB/s\u001b[0m eta \u001b[36m0:00:00\u001b[0m\n",
            "\u001b[?25hCollecting onnxruntime>=1.14.1 (from chromadb==0.4.15->-r /content/RAG/rag_requirements.txt (line 3))\n",
            "  Downloading onnxruntime-1.17.1-cp310-cp310-manylinux_2_27_x86_64.manylinux_2_28_x86_64.whl (6.8 MB)\n",
            "\u001b[2K     \u001b[90m━━━━━━━━━━━━━━━━━━━━━━━━━━━━━━━━━━━━━━━━\u001b[0m \u001b[32m6.8/6.8 MB\u001b[0m \u001b[31m104.4 MB/s\u001b[0m eta \u001b[36m0:00:00\u001b[0m\n",
            "\u001b[?25hCollecting opentelemetry-api>=1.2.0 (from chromadb==0.4.15->-r /content/RAG/rag_requirements.txt (line 3))\n",
            "  Downloading opentelemetry_api-1.23.0-py3-none-any.whl (58 kB)\n",
            "\u001b[2K     \u001b[90m━━━━━━━━━━━━━━━━━━━━━━━━━━━━━━━━━━━━━━━━\u001b[0m \u001b[32m58.4/58.4 kB\u001b[0m \u001b[31m10.0 MB/s\u001b[0m eta \u001b[36m0:00:00\u001b[0m\n",
            "\u001b[?25hCollecting opentelemetry-exporter-otlp-proto-grpc>=1.2.0 (from chromadb==0.4.15->-r /content/RAG/rag_requirements.txt (line 3))\n",
            "  Downloading opentelemetry_exporter_otlp_proto_grpc-1.23.0-py3-none-any.whl (18 kB)\n",
            "Collecting opentelemetry-sdk>=1.2.0 (from chromadb==0.4.15->-r /content/RAG/rag_requirements.txt (line 3))\n",
            "  Downloading opentelemetry_sdk-1.23.0-py3-none-any.whl (105 kB)\n",
            "\u001b[2K     \u001b[90m━━━━━━━━━━━━━━━━━━━━━━━━━━━━━━━━━━━━━━━━\u001b[0m \u001b[32m105.7/105.7 kB\u001b[0m \u001b[31m15.7 MB/s\u001b[0m eta \u001b[36m0:00:00\u001b[0m\n",
            "\u001b[?25hRequirement already satisfied: tokenizers>=0.13.2 in /usr/local/lib/python3.10/dist-packages (from chromadb==0.4.15->-r /content/RAG/rag_requirements.txt (line 3)) (0.15.2)\n",
            "Collecting pypika>=0.48.9 (from chromadb==0.4.15->-r /content/RAG/rag_requirements.txt (line 3))\n",
            "  Downloading PyPika-0.48.9.tar.gz (67 kB)\n",
            "\u001b[2K     \u001b[90m━━━━━━━━━━━━━━━━━━━━━━━━━━━━━━━━━━━━━━━━\u001b[0m \u001b[32m67.3/67.3 kB\u001b[0m \u001b[31m10.8 MB/s\u001b[0m eta \u001b[36m0:00:00\u001b[0m\n",
            "\u001b[?25h  Installing build dependencies ... \u001b[?25l\u001b[?25hdone\n",
            "  Getting requirements to build wheel ... \u001b[?25l\u001b[?25hdone\n",
            "  Preparing metadata (pyproject.toml) ... \u001b[?25l\u001b[?25hdone\n",
            "Requirement already satisfied: tqdm>=4.65.0 in /usr/local/lib/python3.10/dist-packages (from chromadb==0.4.15->-r /content/RAG/rag_requirements.txt (line 3)) (4.66.2)\n",
            "Collecting overrides>=7.3.1 (from chromadb==0.4.15->-r /content/RAG/rag_requirements.txt (line 3))\n",
            "  Downloading overrides-7.7.0-py3-none-any.whl (17 kB)\n",
            "Requirement already satisfied: importlib-resources in /usr/local/lib/python3.10/dist-packages (from chromadb==0.4.15->-r /content/RAG/rag_requirements.txt (line 3)) (6.1.2)\n",
            "Requirement already satisfied: grpcio>=1.58.0 in /usr/local/lib/python3.10/dist-packages (from chromadb==0.4.15->-r /content/RAG/rag_requirements.txt (line 3)) (1.62.0)\n",
            "Collecting bcrypt>=4.0.1 (from chromadb==0.4.15->-r /content/RAG/rag_requirements.txt (line 3))\n",
            "  Downloading bcrypt-4.1.2-cp39-abi3-manylinux_2_28_x86_64.whl (698 kB)\n",
            "\u001b[2K     \u001b[90m━━━━━━━━━━━━━━━━━━━━━━━━━━━━━━━━━━━━━━━━\u001b[0m \u001b[32m698.9/698.9 kB\u001b[0m \u001b[31m63.5 MB/s\u001b[0m eta \u001b[36m0:00:00\u001b[0m\n",
            "\u001b[?25hRequirement already satisfied: typer>=0.9.0 in /usr/local/lib/python3.10/dist-packages (from chromadb==0.4.15->-r /content/RAG/rag_requirements.txt (line 3)) (0.9.0)\n",
            "Collecting kubernetes>=28.1.0 (from chromadb==0.4.15->-r /content/RAG/rag_requirements.txt (line 3))\n",
            "  Downloading kubernetes-29.0.0-py2.py3-none-any.whl (1.6 MB)\n",
            "\u001b[2K     \u001b[90m━━━━━━━━━━━━━━━━━━━━━━━━━━━━━━━━━━━━━━━━\u001b[0m \u001b[32m1.6/1.6 MB\u001b[0m \u001b[31m87.5 MB/s\u001b[0m eta \u001b[36m0:00:00\u001b[0m\n",
            "\u001b[?25hRequirement already satisfied: et-xmlfile in /usr/local/lib/python3.10/dist-packages (from openpyxl==3.1.2->-r /content/RAG/rag_requirements.txt (line 6)) (1.1.0)\n",
            "Requirement already satisfied: transformers<5.0.0,>=4.6.0 in /usr/local/lib/python3.10/dist-packages (from sentence_transformers==2.2.2->-r /content/RAG/rag_requirements.txt (line 7)) (4.38.1)\n",
            "Requirement already satisfied: torch>=1.6.0 in /usr/local/lib/python3.10/dist-packages (from sentence_transformers==2.2.2->-r /content/RAG/rag_requirements.txt (line 7)) (2.1.0+cu121)\n",
            "Requirement already satisfied: torchvision in /usr/local/lib/python3.10/dist-packages (from sentence_transformers==2.2.2->-r /content/RAG/rag_requirements.txt (line 7)) (0.16.0+cu121)\n",
            "Requirement already satisfied: scikit-learn in /usr/local/lib/python3.10/dist-packages (from sentence_transformers==2.2.2->-r /content/RAG/rag_requirements.txt (line 7)) (1.2.2)\n",
            "Requirement already satisfied: scipy in /usr/local/lib/python3.10/dist-packages (from sentence_transformers==2.2.2->-r /content/RAG/rag_requirements.txt (line 7)) (1.11.4)\n",
            "Requirement already satisfied: nltk in /usr/local/lib/python3.10/dist-packages (from sentence_transformers==2.2.2->-r /content/RAG/rag_requirements.txt (line 7)) (3.8.1)\n",
            "Requirement already satisfied: sentencepiece in /usr/local/lib/python3.10/dist-packages (from sentence_transformers==2.2.2->-r /content/RAG/rag_requirements.txt (line 7)) (0.1.99)\n",
            "Requirement already satisfied: huggingface-hub>=0.4.0 in /usr/local/lib/python3.10/dist-packages (from sentence_transformers==2.2.2->-r /content/RAG/rag_requirements.txt (line 7)) (0.20.3)\n",
            "Requirement already satisfied: regex>=2022.1.18 in /usr/local/lib/python3.10/dist-packages (from tiktoken==0.5.1->-r /content/RAG/rag_requirements.txt (line 9)) (2023.12.25)\n",
            "Requirement already satisfied: numba>=0.51.2 in /usr/local/lib/python3.10/dist-packages (from umap-learn==0.5.5->-r /content/RAG/rag_requirements.txt (line 11)) (0.58.1)\n",
            "Collecting pynndescent>=0.5 (from umap-learn==0.5.5->-r /content/RAG/rag_requirements.txt (line 11))\n",
            "  Downloading pynndescent-0.5.11-py3-none-any.whl (55 kB)\n",
            "\u001b[2K     \u001b[90m━━━━━━━━━━━━━━━━━━━━━━━━━━━━━━━━━━━━━━━━\u001b[0m \u001b[32m55.8/55.8 kB\u001b[0m \u001b[31m10.2 MB/s\u001b[0m eta \u001b[36m0:00:00\u001b[0m\n",
            "\u001b[?25hRequirement already satisfied: aiosignal>=1.1.2 in /usr/local/lib/python3.10/dist-packages (from aiohttp<4.0.0,>=3.8.3->langchain==0.0.309->-r /content/RAG/rag_requirements.txt (line 2)) (1.3.1)\n",
            "Requirement already satisfied: attrs>=17.3.0 in /usr/local/lib/python3.10/dist-packages (from aiohttp<4.0.0,>=3.8.3->langchain==0.0.309->-r /content/RAG/rag_requirements.txt (line 2)) (23.2.0)\n",
            "Requirement already satisfied: frozenlist>=1.1.1 in /usr/local/lib/python3.10/dist-packages (from aiohttp<4.0.0,>=3.8.3->langchain==0.0.309->-r /content/RAG/rag_requirements.txt (line 2)) (1.4.1)\n",
            "Requirement already satisfied: multidict<7.0,>=4.5 in /usr/local/lib/python3.10/dist-packages (from aiohttp<4.0.0,>=3.8.3->langchain==0.0.309->-r /content/RAG/rag_requirements.txt (line 2)) (6.0.5)\n",
            "Requirement already satisfied: yarl<2.0,>=1.0 in /usr/local/lib/python3.10/dist-packages (from aiohttp<4.0.0,>=3.8.3->langchain==0.0.309->-r /content/RAG/rag_requirements.txt (line 2)) (1.9.4)\n",
            "Requirement already satisfied: idna>=2.8 in /usr/local/lib/python3.10/dist-packages (from anyio<4.0->langchain==0.0.309->-r /content/RAG/rag_requirements.txt (line 2)) (3.6)\n",
            "Requirement already satisfied: sniffio>=1.1 in /usr/local/lib/python3.10/dist-packages (from anyio<4.0->langchain==0.0.309->-r /content/RAG/rag_requirements.txt (line 2)) (1.3.1)\n",
            "Requirement already satisfied: exceptiongroup in /usr/local/lib/python3.10/dist-packages (from anyio<4.0->langchain==0.0.309->-r /content/RAG/rag_requirements.txt (line 2)) (1.2.0)\n",
            "Collecting marshmallow<4.0.0,>=3.18.0 (from dataclasses-json<0.7,>=0.5.7->langchain==0.0.309->-r /content/RAG/rag_requirements.txt (line 2))\n",
            "  Downloading marshmallow-3.21.0-py3-none-any.whl (49 kB)\n",
            "\u001b[2K     \u001b[90m━━━━━━━━━━━━━━━━━━━━━━━━━━━━━━━━━━━━━━━━\u001b[0m \u001b[32m49.4/49.4 kB\u001b[0m \u001b[31m8.2 MB/s\u001b[0m eta \u001b[36m0:00:00\u001b[0m\n",
            "\u001b[?25hCollecting typing-inspect<1,>=0.4.0 (from dataclasses-json<0.7,>=0.5.7->langchain==0.0.309->-r /content/RAG/rag_requirements.txt (line 2))\n",
            "  Downloading typing_inspect-0.9.0-py3-none-any.whl (8.8 kB)\n",
            "Collecting starlette<0.37.0,>=0.36.3 (from fastapi>=0.95.2->chromadb==0.4.15->-r /content/RAG/rag_requirements.txt (line 3))\n",
            "  Downloading starlette-0.36.3-py3-none-any.whl (71 kB)\n",
            "\u001b[2K     \u001b[90m━━━━━━━━━━━━━━━━━━━━━━━━━━━━━━━━━━━━━━━━\u001b[0m \u001b[32m71.5/71.5 kB\u001b[0m \u001b[31m12.3 MB/s\u001b[0m eta \u001b[36m0:00:00\u001b[0m\n",
            "\u001b[?25hRequirement already satisfied: filelock in /usr/local/lib/python3.10/dist-packages (from huggingface-hub>=0.4.0->sentence_transformers==2.2.2->-r /content/RAG/rag_requirements.txt (line 7)) (3.13.1)\n",
            "Requirement already satisfied: fsspec>=2023.5.0 in /usr/local/lib/python3.10/dist-packages (from huggingface-hub>=0.4.0->sentence_transformers==2.2.2->-r /content/RAG/rag_requirements.txt (line 7)) (2023.6.0)\n",
            "Requirement already satisfied: packaging>=20.9 in /usr/local/lib/python3.10/dist-packages (from huggingface-hub>=0.4.0->sentence_transformers==2.2.2->-r /content/RAG/rag_requirements.txt (line 7)) (23.2)\n",
            "Collecting jsonpointer>=1.9 (from jsonpatch<2.0,>=1.33->langchain==0.0.309->-r /content/RAG/rag_requirements.txt (line 2))\n",
            "  Downloading jsonpointer-2.4-py2.py3-none-any.whl (7.8 kB)\n",
            "Requirement already satisfied: certifi>=14.05.14 in /usr/local/lib/python3.10/dist-packages (from kubernetes>=28.1.0->chromadb==0.4.15->-r /content/RAG/rag_requirements.txt (line 3)) (2024.2.2)\n",
            "Requirement already satisfied: six>=1.9.0 in /usr/local/lib/python3.10/dist-packages (from kubernetes>=28.1.0->chromadb==0.4.15->-r /content/RAG/rag_requirements.txt (line 3)) (1.16.0)\n",
            "Requirement already satisfied: python-dateutil>=2.5.3 in /usr/local/lib/python3.10/dist-packages (from kubernetes>=28.1.0->chromadb==0.4.15->-r /content/RAG/rag_requirements.txt (line 3)) (2.8.2)\n",
            "Requirement already satisfied: google-auth>=1.0.1 in /usr/local/lib/python3.10/dist-packages (from kubernetes>=28.1.0->chromadb==0.4.15->-r /content/RAG/rag_requirements.txt (line 3)) (2.27.0)\n",
            "Requirement already satisfied: websocket-client!=0.40.0,!=0.41.*,!=0.42.*,>=0.32.0 in /usr/local/lib/python3.10/dist-packages (from kubernetes>=28.1.0->chromadb==0.4.15->-r /content/RAG/rag_requirements.txt (line 3)) (1.7.0)\n",
            "Requirement already satisfied: requests-oauthlib in /usr/local/lib/python3.10/dist-packages (from kubernetes>=28.1.0->chromadb==0.4.15->-r /content/RAG/rag_requirements.txt (line 3)) (1.3.1)\n",
            "Requirement already satisfied: oauthlib>=3.2.2 in /usr/local/lib/python3.10/dist-packages (from kubernetes>=28.1.0->chromadb==0.4.15->-r /content/RAG/rag_requirements.txt (line 3)) (3.2.2)\n",
            "Requirement already satisfied: urllib3>=1.24.2 in /usr/local/lib/python3.10/dist-packages (from kubernetes>=28.1.0->chromadb==0.4.15->-r /content/RAG/rag_requirements.txt (line 3)) (2.0.7)\n",
            "Requirement already satisfied: llvmlite<0.42,>=0.41.0dev0 in /usr/local/lib/python3.10/dist-packages (from numba>=0.51.2->umap-learn==0.5.5->-r /content/RAG/rag_requirements.txt (line 11)) (0.41.1)\n",
            "Collecting coloredlogs (from onnxruntime>=1.14.1->chromadb==0.4.15->-r /content/RAG/rag_requirements.txt (line 3))\n",
            "  Downloading coloredlogs-15.0.1-py2.py3-none-any.whl (46 kB)\n",
            "\u001b[2K     \u001b[90m━━━━━━━━━━━━━━━━━━━━━━━━━━━━━━━━━━━━━━━━\u001b[0m \u001b[32m46.0/46.0 kB\u001b[0m \u001b[31m7.7 MB/s\u001b[0m eta \u001b[36m0:00:00\u001b[0m\n",
            "\u001b[?25hRequirement already satisfied: flatbuffers in /usr/local/lib/python3.10/dist-packages (from onnxruntime>=1.14.1->chromadb==0.4.15->-r /content/RAG/rag_requirements.txt (line 3)) (23.5.26)\n",
            "Requirement already satisfied: protobuf in /usr/local/lib/python3.10/dist-packages (from onnxruntime>=1.14.1->chromadb==0.4.15->-r /content/RAG/rag_requirements.txt (line 3)) (3.20.3)\n",
            "Requirement already satisfied: sympy in /usr/local/lib/python3.10/dist-packages (from onnxruntime>=1.14.1->chromadb==0.4.15->-r /content/RAG/rag_requirements.txt (line 3)) (1.12)\n",
            "Collecting deprecated>=1.2.6 (from opentelemetry-api>=1.2.0->chromadb==0.4.15->-r /content/RAG/rag_requirements.txt (line 3))\n",
            "  Downloading Deprecated-1.2.14-py2.py3-none-any.whl (9.6 kB)\n",
            "Collecting importlib-metadata<7.0,>=6.0 (from opentelemetry-api>=1.2.0->chromadb==0.4.15->-r /content/RAG/rag_requirements.txt (line 3))\n",
            "  Downloading importlib_metadata-6.11.0-py3-none-any.whl (23 kB)\n",
            "Requirement already satisfied: googleapis-common-protos~=1.52 in /usr/local/lib/python3.10/dist-packages (from opentelemetry-exporter-otlp-proto-grpc>=1.2.0->chromadb==0.4.15->-r /content/RAG/rag_requirements.txt (line 3)) (1.62.0)\n",
            "Collecting opentelemetry-exporter-otlp-proto-common==1.23.0 (from opentelemetry-exporter-otlp-proto-grpc>=1.2.0->chromadb==0.4.15->-r /content/RAG/rag_requirements.txt (line 3))\n",
            "  Downloading opentelemetry_exporter_otlp_proto_common-1.23.0-py3-none-any.whl (17 kB)\n",
            "Collecting opentelemetry-proto==1.23.0 (from opentelemetry-exporter-otlp-proto-grpc>=1.2.0->chromadb==0.4.15->-r /content/RAG/rag_requirements.txt (line 3))\n",
            "  Downloading opentelemetry_proto-1.23.0-py3-none-any.whl (50 kB)\n",
            "\u001b[2K     \u001b[90m━━━━━━━━━━━━━━━━━━━━━━━━━━━━━━━━━━━━━━━━\u001b[0m \u001b[32m50.8/50.8 kB\u001b[0m \u001b[31m8.8 MB/s\u001b[0m eta \u001b[36m0:00:00\u001b[0m\n",
            "\u001b[?25hCollecting opentelemetry-semantic-conventions==0.44b0 (from opentelemetry-sdk>=1.2.0->chromadb==0.4.15->-r /content/RAG/rag_requirements.txt (line 3))\n",
            "  Downloading opentelemetry_semantic_conventions-0.44b0-py3-none-any.whl (36 kB)\n",
            "Collecting monotonic>=1.5 (from posthog>=2.4.0->chromadb==0.4.15->-r /content/RAG/rag_requirements.txt (line 3))\n",
            "  Downloading monotonic-1.6-py2.py3-none-any.whl (8.2 kB)\n",
            "Collecting backoff>=1.10.0 (from posthog>=2.4.0->chromadb==0.4.15->-r /content/RAG/rag_requirements.txt (line 3))\n",
            "  Downloading backoff-2.2.1-py3-none-any.whl (15 kB)\n",
            "Requirement already satisfied: annotated-types>=0.4.0 in /usr/local/lib/python3.10/dist-packages (from pydantic<3,>=1->langchain==0.0.309->-r /content/RAG/rag_requirements.txt (line 2)) (0.6.0)\n",
            "Requirement already satisfied: pydantic-core==2.16.3 in /usr/local/lib/python3.10/dist-packages (from pydantic<3,>=1->langchain==0.0.309->-r /content/RAG/rag_requirements.txt (line 2)) (2.16.3)\n",
            "Requirement already satisfied: joblib>=0.11 in /usr/local/lib/python3.10/dist-packages (from pynndescent>=0.5->umap-learn==0.5.5->-r /content/RAG/rag_requirements.txt (line 11)) (1.3.2)\n",
            "Requirement already satisfied: charset-normalizer<4,>=2 in /usr/local/lib/python3.10/dist-packages (from requests<3,>=2->langchain==0.0.309->-r /content/RAG/rag_requirements.txt (line 2)) (3.3.2)\n",
            "Requirement already satisfied: threadpoolctl>=2.0.0 in /usr/local/lib/python3.10/dist-packages (from scikit-learn->sentence_transformers==2.2.2->-r /content/RAG/rag_requirements.txt (line 7)) (3.3.0)\n",
            "Requirement already satisfied: greenlet!=0.4.17 in /usr/local/lib/python3.10/dist-packages (from SQLAlchemy<3,>=1.4->langchain==0.0.309->-r /content/RAG/rag_requirements.txt (line 2)) (3.0.3)\n",
            "Requirement already satisfied: networkx in /usr/local/lib/python3.10/dist-packages (from torch>=1.6.0->sentence_transformers==2.2.2->-r /content/RAG/rag_requirements.txt (line 7)) (3.2.1)\n",
            "Requirement already satisfied: jinja2 in /usr/local/lib/python3.10/dist-packages (from torch>=1.6.0->sentence_transformers==2.2.2->-r /content/RAG/rag_requirements.txt (line 7)) (3.1.3)\n",
            "Requirement already satisfied: triton==2.1.0 in /usr/local/lib/python3.10/dist-packages (from torch>=1.6.0->sentence_transformers==2.2.2->-r /content/RAG/rag_requirements.txt (line 7)) (2.1.0)\n",
            "Requirement already satisfied: safetensors>=0.4.1 in /usr/local/lib/python3.10/dist-packages (from transformers<5.0.0,>=4.6.0->sentence_transformers==2.2.2->-r /content/RAG/rag_requirements.txt (line 7)) (0.4.2)\n",
            "Requirement already satisfied: click<9.0.0,>=7.1.1 in /usr/local/lib/python3.10/dist-packages (from typer>=0.9.0->chromadb==0.4.15->-r /content/RAG/rag_requirements.txt (line 3)) (8.1.7)\n",
            "Collecting h11>=0.8 (from uvicorn[standard]>=0.18.3->chromadb==0.4.15->-r /content/RAG/rag_requirements.txt (line 3))\n",
            "  Downloading h11-0.14.0-py3-none-any.whl (58 kB)\n",
            "\u001b[2K     \u001b[90m━━━━━━━━━━━━━━━━━━━━━━━━━━━━━━━━━━━━━━━━\u001b[0m \u001b[32m58.3/58.3 kB\u001b[0m \u001b[31m7.8 MB/s\u001b[0m eta \u001b[36m0:00:00\u001b[0m\n",
            "\u001b[?25hCollecting httptools>=0.5.0 (from uvicorn[standard]>=0.18.3->chromadb==0.4.15->-r /content/RAG/rag_requirements.txt (line 3))\n",
            "  Downloading httptools-0.6.1-cp310-cp310-manylinux_2_5_x86_64.manylinux1_x86_64.manylinux_2_17_x86_64.manylinux2014_x86_64.whl (341 kB)\n",
            "\u001b[2K     \u001b[90m━━━━━━━━━━━━━━━━━━━━━━━━━━━━━━━━━━━━━━━━\u001b[0m \u001b[32m341.4/341.4 kB\u001b[0m \u001b[31m4.9 MB/s\u001b[0m eta \u001b[36m0:00:00\u001b[0m\n",
            "\u001b[?25hCollecting python-dotenv>=0.13 (from uvicorn[standard]>=0.18.3->chromadb==0.4.15->-r /content/RAG/rag_requirements.txt (line 3))\n",
            "  Downloading python_dotenv-1.0.1-py3-none-any.whl (19 kB)\n",
            "Collecting uvloop!=0.15.0,!=0.15.1,>=0.14.0 (from uvicorn[standard]>=0.18.3->chromadb==0.4.15->-r /content/RAG/rag_requirements.txt (line 3))\n",
            "  Downloading uvloop-0.19.0-cp310-cp310-manylinux_2_17_x86_64.manylinux2014_x86_64.whl (3.4 MB)\n",
            "\u001b[2K     \u001b[90m━━━━━━━━━━━━━━━━━━━━━━━━━━━━━━━━━━━━━━━━\u001b[0m \u001b[32m3.4/3.4 MB\u001b[0m \u001b[31m106.3 MB/s\u001b[0m eta \u001b[36m0:00:00\u001b[0m\n",
            "\u001b[?25hCollecting watchfiles>=0.13 (from uvicorn[standard]>=0.18.3->chromadb==0.4.15->-r /content/RAG/rag_requirements.txt (line 3))\n",
            "  Downloading watchfiles-0.21.0-cp310-cp310-manylinux_2_17_x86_64.manylinux2014_x86_64.whl (1.3 MB)\n",
            "\u001b[2K     \u001b[90m━━━━━━━━━━━━━━━━━━━━━━━━━━━━━━━━━━━━━━━━\u001b[0m \u001b[32m1.3/1.3 MB\u001b[0m \u001b[31m86.3 MB/s\u001b[0m eta \u001b[36m0:00:00\u001b[0m\n",
            "\u001b[?25hCollecting websockets>=10.4 (from uvicorn[standard]>=0.18.3->chromadb==0.4.15->-r /content/RAG/rag_requirements.txt (line 3))\n",
            "  Downloading websockets-12.0-cp310-cp310-manylinux_2_5_x86_64.manylinux1_x86_64.manylinux_2_17_x86_64.manylinux2014_x86_64.whl (130 kB)\n",
            "\u001b[2K     \u001b[90m━━━━━━━━━━━━━━━━━━━━━━━━━━━━━━━━━━━━━━━━\u001b[0m \u001b[32m130.2/130.2 kB\u001b[0m \u001b[31m20.3 MB/s\u001b[0m eta \u001b[36m0:00:00\u001b[0m\n",
            "\u001b[?25hRequirement already satisfied: pillow!=8.3.*,>=5.3.0 in /usr/local/lib/python3.10/dist-packages (from torchvision->sentence_transformers==2.2.2->-r /content/RAG/rag_requirements.txt (line 7)) (9.4.0)\n",
            "Requirement already satisfied: wrapt<2,>=1.10 in /usr/local/lib/python3.10/dist-packages (from deprecated>=1.2.6->opentelemetry-api>=1.2.0->chromadb==0.4.15->-r /content/RAG/rag_requirements.txt (line 3)) (1.14.1)\n",
            "Requirement already satisfied: cachetools<6.0,>=2.0.0 in /usr/local/lib/python3.10/dist-packages (from google-auth>=1.0.1->kubernetes>=28.1.0->chromadb==0.4.15->-r /content/RAG/rag_requirements.txt (line 3)) (5.3.3)\n",
            "Requirement already satisfied: pyasn1-modules>=0.2.1 in /usr/local/lib/python3.10/dist-packages (from google-auth>=1.0.1->kubernetes>=28.1.0->chromadb==0.4.15->-r /content/RAG/rag_requirements.txt (line 3)) (0.3.0)\n",
            "Requirement already satisfied: rsa<5,>=3.1.4 in /usr/local/lib/python3.10/dist-packages (from google-auth>=1.0.1->kubernetes>=28.1.0->chromadb==0.4.15->-r /content/RAG/rag_requirements.txt (line 3)) (4.9)\n",
            "Requirement already satisfied: zipp>=0.5 in /usr/local/lib/python3.10/dist-packages (from importlib-metadata<7.0,>=6.0->opentelemetry-api>=1.2.0->chromadb==0.4.15->-r /content/RAG/rag_requirements.txt (line 3)) (3.17.0)\n",
            "Collecting mypy-extensions>=0.3.0 (from typing-inspect<1,>=0.4.0->dataclasses-json<0.7,>=0.5.7->langchain==0.0.309->-r /content/RAG/rag_requirements.txt (line 2))\n",
            "  Downloading mypy_extensions-1.0.0-py3-none-any.whl (4.7 kB)\n",
            "Collecting humanfriendly>=9.1 (from coloredlogs->onnxruntime>=1.14.1->chromadb==0.4.15->-r /content/RAG/rag_requirements.txt (line 3))\n",
            "  Downloading humanfriendly-10.0-py2.py3-none-any.whl (86 kB)\n",
            "\u001b[2K     \u001b[90m━━━━━━━━━━━━━━━━━━━━━━━━━━━━━━━━━━━━━━━━\u001b[0m \u001b[32m86.8/86.8 kB\u001b[0m \u001b[31m14.5 MB/s\u001b[0m eta \u001b[36m0:00:00\u001b[0m\n",
            "\u001b[?25hRequirement already satisfied: MarkupSafe>=2.0 in /usr/local/lib/python3.10/dist-packages (from jinja2->torch>=1.6.0->sentence_transformers==2.2.2->-r /content/RAG/rag_requirements.txt (line 7)) (2.1.5)\n",
            "Requirement already satisfied: mpmath>=0.19 in /usr/local/lib/python3.10/dist-packages (from sympy->onnxruntime>=1.14.1->chromadb==0.4.15->-r /content/RAG/rag_requirements.txt (line 3)) (1.3.0)\n",
            "Requirement already satisfied: pyasn1<0.6.0,>=0.4.6 in /usr/local/lib/python3.10/dist-packages (from pyasn1-modules>=0.2.1->google-auth>=1.0.1->kubernetes>=28.1.0->chromadb==0.4.15->-r /content/RAG/rag_requirements.txt (line 3)) (0.5.1)\n",
            "Building wheels for collected packages: sentence_transformers, umap-learn, pypika\n",
            "  Building wheel for sentence_transformers (setup.py) ... \u001b[?25l\u001b[?25hdone\n",
            "  Created wheel for sentence_transformers: filename=sentence_transformers-2.2.2-py3-none-any.whl size=125923 sha256=dcaad3af428f3a80d4c73a0d1b95a50a6ff2702e40fdfd550db173017d663f01\n",
            "  Stored in directory: /root/.cache/pip/wheels/62/f2/10/1e606fd5f02395388f74e7462910fe851042f97238cbbd902f\n",
            "  Building wheel for umap-learn (setup.py) ... \u001b[?25l\u001b[?25hdone\n",
            "  Created wheel for umap-learn: filename=umap_learn-0.5.5-py3-none-any.whl size=86832 sha256=205ab096f2462e008d3774f7461f657f533c739d293bf526c6bfd644ab62e951\n",
            "  Stored in directory: /root/.cache/pip/wheels/3a/70/07/428d2b58660a1a3b431db59b806a10da736612ebbc66c1bcc5\n",
            "  Building wheel for pypika (pyproject.toml) ... \u001b[?25l\u001b[?25hdone\n",
            "  Created wheel for pypika: filename=PyPika-0.48.9-py2.py3-none-any.whl size=53723 sha256=a65a3ffcd65a6501901153bb406a3459d9898613b0c5999e7f92a3e9ebfd82de\n",
            "  Stored in directory: /root/.cache/pip/wheels/e1/26/51/d0bffb3d2fd82256676d7ad3003faea3bd6dddc9577af665f4\n",
            "Successfully built sentence_transformers umap-learn pypika\n",
            "Installing collected packages: xlsxwriter, pypika, monotonic, faiss-cpu, xlrd, websockets, uvloop, python-dotenv, pypdf, pulsar-client, overrides, opentelemetry-semantic-conventions, opentelemetry-proto, mypy-extensions, marshmallow, jsonpointer, importlib-metadata, humanfriendly, httptools, h11, deprecated, chroma-hnswlib, bcrypt, backoff, watchfiles, uvicorn, typing-inspect, tiktoken, starlette, posthog, opentelemetry-exporter-otlp-proto-common, opentelemetry-api, jsonpatch, coloredlogs, pynndescent, opentelemetry-sdk, openai, onnxruntime, langsmith, kubernetes, fastapi, dataclasses-json, umap-learn, opentelemetry-exporter-otlp-proto-grpc, langchain, sentence_transformers, chromadb\n",
            "  Attempting uninstall: xlrd\n",
            "    Found existing installation: xlrd 2.0.1\n",
            "    Uninstalling xlrd-2.0.1:\n",
            "      Successfully uninstalled xlrd-2.0.1\n",
            "  Attempting uninstall: importlib-metadata\n",
            "    Found existing installation: importlib-metadata 7.0.1\n",
            "    Uninstalling importlib-metadata-7.0.1:\n",
            "      Successfully uninstalled importlib-metadata-7.0.1\n",
            "Successfully installed backoff-2.2.1 bcrypt-4.1.2 chroma-hnswlib-0.7.3 chromadb-0.4.15 coloredlogs-15.0.1 dataclasses-json-0.6.4 deprecated-1.2.14 faiss-cpu-1.7.4 fastapi-0.110.0 h11-0.14.0 httptools-0.6.1 humanfriendly-10.0 importlib-metadata-6.11.0 jsonpatch-1.33 jsonpointer-2.4 kubernetes-29.0.0 langchain-0.0.309 langsmith-0.0.92 marshmallow-3.21.0 monotonic-1.6 mypy-extensions-1.0.0 onnxruntime-1.17.1 openai-0.28.1 opentelemetry-api-1.23.0 opentelemetry-exporter-otlp-proto-common-1.23.0 opentelemetry-exporter-otlp-proto-grpc-1.23.0 opentelemetry-proto-1.23.0 opentelemetry-sdk-1.23.0 opentelemetry-semantic-conventions-0.44b0 overrides-7.7.0 posthog-3.4.2 pulsar-client-3.4.0 pynndescent-0.5.11 pypdf-3.16.2 pypika-0.48.9 python-dotenv-1.0.1 sentence_transformers-2.2.2 starlette-0.36.3 tiktoken-0.5.1 typing-inspect-0.9.0 umap-learn-0.5.5 uvicorn-0.27.1 uvloop-0.19.0 watchfiles-0.21.0 websockets-12.0 xlrd-1.2.0 xlsxwriter-1.4.3\n"
          ]
        }
      ]
    },
    {
      "cell_type": "markdown",
      "id": "5aba0735-87f6-4005-8b45-bc110ddb615a",
      "metadata": {
        "id": "5aba0735-87f6-4005-8b45-bc110ddb615a"
      },
      "source": [
        "## Imports"
      ]
    },
    {
      "cell_type": "code",
      "execution_count": 75,
      "id": "950cbc52-97f9-4104-a318-584a534c557b",
      "metadata": {
        "execution": {
          "iopub.execute_input": "2024-02-27T18:40:25.310195Z",
          "iopub.status.busy": "2024-02-27T18:40:25.309822Z",
          "iopub.status.idle": "2024-02-27T18:40:44.263959Z",
          "shell.execute_reply": "2024-02-27T18:40:44.263306Z",
          "shell.execute_reply.started": "2024-02-27T18:40:25.310167Z"
        },
        "tags": [],
        "colab": {
          "base_uri": "https://localhost:8080/"
        },
        "id": "950cbc52-97f9-4104-a318-584a534c557b",
        "outputId": "e6e27e05-8f1c-4847-94a7-4f63c5ed9a46"
      },
      "outputs": [
        {
          "output_type": "execute_result",
          "data": {
            "text/plain": [
              "True"
            ]
          },
          "metadata": {},
          "execution_count": 75
        }
      ],
      "source": [
        "import os\n",
        "import time\n",
        "import warnings\n",
        "warnings.filterwarnings(\"ignore\")\n",
        "\n",
        "from dotenv import load_dotenv\n",
        "load_dotenv()"
      ]
    },
    {
      "cell_type": "code",
      "source": [
        "from RAG.utils import pretty_print_result, pretty_print_docs"
      ],
      "metadata": {
        "id": "H8F3aGtJ27mL"
      },
      "id": "H8F3aGtJ27mL",
      "execution_count": 76,
      "outputs": []
    },
    {
      "cell_type": "markdown",
      "id": "c24065bf-3184-4ec9-975a-ab730d081362",
      "metadata": {
        "id": "c24065bf-3184-4ec9-975a-ab730d081362"
      },
      "source": [
        "## Azure - Model & Embeddings Configuration\n",
        "Define relevant environment variables in a .env file"
      ]
    },
    {
      "cell_type": "code",
      "execution_count": 74,
      "id": "1fee8af6-2554-48ed-9393-a653a91e7491",
      "metadata": {
        "execution": {
          "iopub.execute_input": "2024-02-27T18:40:57.978515Z",
          "iopub.status.busy": "2024-02-27T18:40:57.977899Z",
          "iopub.status.idle": "2024-02-27T18:40:58.088508Z",
          "shell.execute_reply": "2024-02-27T18:40:58.087934Z",
          "shell.execute_reply.started": "2024-02-27T18:40:57.978466Z"
        },
        "tags": [],
        "id": "1fee8af6-2554-48ed-9393-a653a91e7491"
      },
      "outputs": [],
      "source": [
        "# Setting up the env vars\n",
        "\n",
        "# if directly using open ai api key\n",
        "# import openai\n",
        "# openai.api_key = os.getenv(\"OPENAI_API_KEY\")\n",
        "# openai.api_type = \"openai\"\n",
        "\n",
        "# Fetch the Azure Open AI env variables\n",
        "GPT4_TURBO_DEPLOYMENT_NAME = os.getenv('GPT4_TURBO_DEPLOYMENT_NAME')\n",
        "API_KEY = os.getenv('API_KEY')\n",
        "API_BASE = os.getenv('API_BASE')\n",
        "API_TYPE = os.getenv('API_TYPE')\n",
        "API_VERSION = os.getenv('API_VERSION')\n",
        "\n",
        "EMBEDDING_API_KEY = os.getenv('API_KEY')\n",
        "EMBEDDING_API_BASE = os.getenv('API_BASE')\n",
        "EMBEDDING_DEPLOYMENT_NAME = os.getenv('EMBEDDING_DEPLOYMENT_NAME')"
      ]
    },
    {
      "cell_type": "markdown",
      "id": "de028353-bcb1-44d0-8ebf-54873abef18a",
      "metadata": {
        "id": "de028353-bcb1-44d0-8ebf-54873abef18a"
      },
      "source": [
        "## Step1: Document Loading\n",
        "Load 4 documents - 2022 & 2023 Annual Reports of Apple and Microsoft"
      ]
    },
    {
      "cell_type": "code",
      "execution_count": 15,
      "id": "054a6f01-4068-4e64-a5a8-534e52c27b7e",
      "metadata": {
        "execution": {
          "iopub.execute_input": "2024-02-27T18:47:05.668569Z",
          "iopub.status.busy": "2024-02-27T18:47:05.668167Z",
          "iopub.status.idle": "2024-02-27T18:47:40.520880Z",
          "shell.execute_reply": "2024-02-27T18:47:40.520282Z",
          "shell.execute_reply.started": "2024-02-27T18:47:05.668543Z"
        },
        "tags": [],
        "colab": {
          "base_uri": "https://localhost:8080/"
        },
        "id": "054a6f01-4068-4e64-a5a8-534e52c27b7e",
        "outputId": "1584df97-7df5-4b81-f5b2-5ea150dbe5db"
      },
      "outputs": [
        {
          "output_type": "stream",
          "name": "stdout",
          "text": [
            "356\n"
          ]
        }
      ],
      "source": [
        "from langchain.document_loaders import DirectoryLoader, PyPDFLoader\n",
        "\n",
        "loader = DirectoryLoader('/content/RAG/data/', glob=\"**/*.pdf\", loader_cls = PyPDFLoader, use_multithreading=True)\n",
        "documents = loader.load()\n",
        "print(len(documents))"
      ]
    },
    {
      "cell_type": "markdown",
      "id": "4c48a35b-6f0c-459e-8614-06f012253dc0",
      "metadata": {
        "id": "4c48a35b-6f0c-459e-8614-06f012253dc0"
      },
      "source": [
        "## Step2: Document Splitting"
      ]
    },
    {
      "cell_type": "code",
      "execution_count": 16,
      "id": "b71b2e8f-f764-45de-8d64-a6db0872c55a",
      "metadata": {
        "execution": {
          "iopub.execute_input": "2024-02-27T18:47:40.522245Z",
          "iopub.status.busy": "2024-02-27T18:47:40.521968Z",
          "iopub.status.idle": "2024-02-27T18:47:40.600341Z",
          "shell.execute_reply": "2024-02-27T18:47:40.599774Z",
          "shell.execute_reply.started": "2024-02-27T18:47:40.522224Z"
        },
        "tags": [],
        "colab": {
          "base_uri": "https://localhost:8080/"
        },
        "id": "b71b2e8f-f764-45de-8d64-a6db0872c55a",
        "outputId": "2c02d622-0bf8-4014-ef9a-973a5e1cc45d"
      },
      "outputs": [
        {
          "output_type": "stream",
          "name": "stdout",
          "text": [
            "562\n"
          ]
        }
      ],
      "source": [
        "from langchain.text_splitter import RecursiveCharacterTextSplitter\n",
        "\n",
        "def chunkByWord(text):\n",
        "    return len(text.split(\" \"))\n",
        "\n",
        "text_splitter = RecursiveCharacterTextSplitter(chunk_size=700, length_function = chunkByWord, chunk_overlap=50, add_start_index = False)\n",
        "\n",
        "docs = text_splitter.split_documents(documents)\n",
        "\n",
        "print(len(docs))"
      ]
    },
    {
      "cell_type": "markdown",
      "id": "66a50cbc-5a23-4c61-9e41-2f82a4a9c00a",
      "metadata": {
        "id": "66a50cbc-5a23-4c61-9e41-2f82a4a9c00a"
      },
      "source": [
        "## Step3: Vectorstores & Embeddings"
      ]
    },
    {
      "cell_type": "code",
      "execution_count": 77,
      "id": "db2700b4-58be-441f-8e57-56951e927167",
      "metadata": {
        "execution": {
          "iopub.execute_input": "2024-02-27T18:47:40.601416Z",
          "iopub.status.busy": "2024-02-27T18:47:40.601113Z",
          "iopub.status.idle": "2024-02-27T18:47:41.741621Z",
          "shell.execute_reply": "2024-02-27T18:47:41.741020Z",
          "shell.execute_reply.started": "2024-02-27T18:47:40.601387Z"
        },
        "tags": [],
        "id": "db2700b4-58be-441f-8e57-56951e927167"
      },
      "outputs": [],
      "source": [
        "from langchain.vectorstores import Chroma\n",
        "from langchain.embeddings.openai import OpenAIEmbeddings\n",
        "\n",
        "# Direct open ai way\n",
        "# embeddings = OpenAIEmbeddings()\n",
        "\n",
        "# Azure open ai way\n",
        "embeddings = OpenAIEmbeddings(deployment=EMBEDDING_DEPLOYMENT_NAME,\n",
        "                              openai_api_key=EMBEDDING_API_KEY,\n",
        "                              openai_api_base=EMBEDDING_API_BASE,\n",
        "                              openai_api_version=API_VERSION,\n",
        "                              openai_api_type=API_TYPE,\n",
        "                              chunk_size=1)"
      ]
    },
    {
      "cell_type": "code",
      "source": [
        "## save to disk\n",
        "# vectorstore = Chroma.from_documents(documents=docs, embedding=embeddings, persist_directory='vectorstore/annual_reports/')\n",
        "\n",
        "## load from disk\n",
        "vectorstore = Chroma(persist_directory='vectorstore/annual_reports/',embedding_function=embeddings)"
      ],
      "metadata": {
        "id": "wjpANrYE3bAf"
      },
      "id": "wjpANrYE3bAf",
      "execution_count": 78,
      "outputs": []
    },
    {
      "cell_type": "code",
      "source": [
        "from langchain.chat_models import AzureChatOpenAI, ChatOpenAI\n",
        "\n",
        "# Open AI way\n",
        "# llm = ChatOpenAI(model=\"gpt-4-0125-preview\",temperature=0)\n",
        "\n",
        "# Azure Open AI way\n",
        "llm = AzureChatOpenAI(\n",
        "        openai_api_base=API_BASE,\n",
        "        openai_api_version=API_VERSION,\n",
        "        deployment_name=GPT4_TURBO_DEPLOYMENT_NAME,\n",
        "        openai_api_key=API_KEY,\n",
        "        openai_api_type=API_TYPE,\n",
        "        temperature=0\n",
        "    )"
      ],
      "metadata": {
        "id": "SC8ipHT54Cii"
      },
      "id": "SC8ipHT54Cii",
      "execution_count": 79,
      "outputs": []
    },
    {
      "cell_type": "markdown",
      "id": "fc438194-81f7-4fd8-828c-be2ed993cd50",
      "metadata": {
        "id": "fc438194-81f7-4fd8-828c-be2ed993cd50"
      },
      "source": [
        "## Step4: Retrieval"
      ]
    },
    {
      "cell_type": "markdown",
      "id": "12c511e2-6eec-4268-85c0-9303f35a618f",
      "metadata": {
        "id": "12c511e2-6eec-4268-85c0-9303f35a618f"
      },
      "source": [
        "### Type1 - LOTR (Merger Retriever) - Handling multiple retrievers\n",
        "Lord of the Retrievers, also known as MergerRetriever, takes a list of retrievers as input and merges the results of their get_relevant_documents() methods into a single list. The merged results will be a list of documents that are relevant to the query and that have been ranked by the different retrievers.\n",
        "\n",
        "The MergerRetriever class can be used to improve the accuracy of document retrieval in a number of ways. First, it can combine the results of multiple retrievers, which can help to reduce the risk of bias in the results. Second, it can rank the results of the different retrievers, which can help to ensure that the most relevant documents are returned first."
      ]
    },
    {
      "cell_type": "code",
      "execution_count": 80,
      "id": "c001a19c-40f2-485b-ae2f-3d6835650c86",
      "metadata": {
        "execution": {
          "iopub.execute_input": "2024-02-27T18:47:41.743162Z",
          "iopub.status.busy": "2024-02-27T18:47:41.742800Z",
          "iopub.status.idle": "2024-02-27T18:47:42.239710Z",
          "shell.execute_reply": "2024-02-27T18:47:42.239109Z",
          "shell.execute_reply.started": "2024-02-27T18:47:41.743141Z"
        },
        "tags": [],
        "id": "c001a19c-40f2-485b-ae2f-3d6835650c86"
      },
      "outputs": [],
      "source": [
        "from langchain.retrievers import MergerRetriever\n",
        "\n",
        "# Define 2 diff retrievers with 2 diff search type.\n",
        "retriever_1 = vectorstore.as_retriever(search_type=\"similarity\",\n",
        "                                                 search_kwargs={\"k\": 5, \"include_metadata\": True}\n",
        "                                                )\n",
        "\n",
        "retriever_2 = vectorstore.as_retriever(search_type=\"mmr\",\n",
        "                                                 search_kwargs={\"k\": 5, \"include_metadata\": True}\n",
        "                                                )\n",
        "\n",
        "lotr = MergerRetriever(retrievers=[retriever_1, retriever_2])"
      ]
    },
    {
      "cell_type": "code",
      "source": [
        "from RAG.utils import *"
      ],
      "metadata": {
        "id": "CxJdQ01R7eaX"
      },
      "id": "CxJdQ01R7eaX",
      "execution_count": 81,
      "outputs": []
    },
    {
      "cell_type": "code",
      "source": [
        "def pretty_print_result(query, _llm, retriever):\n",
        "    \"\"\"\n",
        "    Custom function to print clean output\n",
        "    \"\"\"\n",
        "    chain = ConversationalRetrievalChain.from_llm(llm=_llm,\n",
        "                                           combine_docs_chain_kwargs={\"prompt\": RAG_prompt},\n",
        "                                          retriever=retriever,\n",
        "                                           memory=memory,\n",
        "                                           return_source_documents=True)\n",
        "    try:\n",
        "        result = chain({\"question\": query})\n",
        "        display(Markdown(\"Answer: \" + result[\"answer\"].replace('$','`$`')))\n",
        "        print(\"=============================================================================================================\")\n",
        "        display(Markdown(f\"\\n{'-.' * 100}\\n\\n\".join([f\"Document {i+1}:\\n\\n\" + d.page_content.replace('$','`$`') +\"\\n\\n\" + str(d.metadata) for i, d in enumerate(result['source_documents'])])))\n",
        "    except Exception as e:\n",
        "        print(e)\n",
        "        pass\n",
        "    print(\"No of documents retrieved\" + str(len(result['source_documents'])))\n",
        "    return\n"
      ],
      "metadata": {
        "id": "Z-oDwyr06yb2"
      },
      "id": "Z-oDwyr06yb2",
      "execution_count": 82,
      "outputs": []
    },
    {
      "cell_type": "code",
      "execution_count": 83,
      "id": "adce0bf9-16ad-4d76-a0d7-b326eaebdbe1",
      "metadata": {
        "collapsed": true,
        "execution": {
          "iopub.execute_input": "2024-02-26T10:25:14.720573Z",
          "iopub.status.busy": "2024-02-26T10:25:14.720296Z",
          "iopub.status.idle": "2024-02-26T10:25:31.159624Z",
          "shell.execute_reply": "2024-02-26T10:25:31.159034Z",
          "shell.execute_reply.started": "2024-02-26T10:25:14.720552Z"
        },
        "jupyter": {
          "outputs_hidden": true
        },
        "tags": [],
        "colab": {
          "base_uri": "https://localhost:8080/",
          "height": 1000
        },
        "id": "adce0bf9-16ad-4d76-a0d7-b326eaebdbe1",
        "outputId": "486a5b41-d811-4618-d700-90da7223977c"
      },
      "outputs": [
        {
          "output_type": "display_data",
          "data": {
            "text/plain": [
              "<IPython.core.display.Markdown object>"
            ],
            "text/markdown": "Answer: Between fiscal years 2022 and 2023, Microsoft's revenue increased from `$`198,270 million to `$`211,915 million, marking an increase in revenue. Revenue growth was driven by Intelligent Cloud, Productivity and Business Processes, and More Personal Computing segments. Intelligent Cloud saw a significant increase due to Azure and other cloud services. Productivity and Business Processes benefited from Office 365 Commercial and LinkedIn, while More Personal Computing was bolstered by Windows and Search and news advertising."
          },
          "metadata": {}
        },
        {
          "output_type": "stream",
          "name": "stdout",
          "text": [
            "=============================================================================================================\n"
          ]
        },
        {
          "output_type": "display_data",
          "data": {
            "text/plain": [
              "<IPython.core.display.Markdown object>"
            ],
            "text/markdown": "Document 1:\n\nStatements (Part II, Item 8 of this Form 10 -K) for further discussion.  \nFiscal Year 2022 Compared with Fiscal Year 2021  \nRevenue increased  `$`30.2  billion  or 18% driven by growth across each of our segments. Intelligent Cloud revenue \nincreased  driven by Azure and other cloud services. Productivity and Business Processes revenue increased  driven \nby Office 365 Commercial and LinkedIn. More Personal Computing revenue increased  driven by Search and news \nadvertising and Windows .  \nCost of revenue increased  `$`10.4 billion  or 20% driven by growth in Microsoft Cloud.  \nGross margin increased  `$`19.8 billion  or 17% driven by growth across each of our segments.  \n• Gross margin percentage decreased slightly. Excluding the impact of the fiscal year 2021 change in \naccounting estimate  for the useful lives of our server and network equipment , gross margin percentage \nincreased 1 point driven by improvement  in Productivity and Business Processes .\n\n{'page': 40, 'source': '/content/RAG/data/Microsoft_2022.pdf'}\n-.-.-.-.-.-.-.-.-.-.-.-.-.-.-.-.-.-.-.-.-.-.-.-.-.-.-.-.-.-.-.-.-.-.-.-.-.-.-.-.-.-.-.-.-.-.-.-.-.-.-.-.-.-.-.-.-.-.-.-.-.-.-.-.-.-.-.-.-.-.-.-.-.-.-.-.-.-.-.-.-.-.-.-.-.-.-.-.-.-.-.-.-.-.-.-.-.-.-.-.\n\nDocument 2:\n\nStatements (Part II, Item 8 of this Form 10 -K) for further discussion.  \nFiscal Year 2022 Compared with Fiscal Year 2021  \nRevenue increased  `$`30.2  billion  or 18% driven by growth across each of our segments. Intelligent Cloud revenue \nincreased  driven by Azure and other cloud services. Productivity and Business Processes revenue increased  driven \nby Office 365 Commercial and LinkedIn. More Personal Computing revenue increased  driven by Search and news \nadvertising and Windows .  \nCost of revenue increased  `$`10.4 billion  or 20% driven by growth in Microsoft Cloud.  \nGross margin increased  `$`19.8 billion  or 17% driven by growth across each of our segments.  \n• Gross margin percentage decreased slightly. Excluding the impact of the fiscal year 2021 change in \naccounting estimate  for the useful lives of our server and network equipment , gross margin percentage \nincreased 1 point driven by improvement  in Productivity and Business Processes .\n\n{'page': 40, 'source': '/content/RAG/data/Microsoft_2022.pdf'}\n-.-.-.-.-.-.-.-.-.-.-.-.-.-.-.-.-.-.-.-.-.-.-.-.-.-.-.-.-.-.-.-.-.-.-.-.-.-.-.-.-.-.-.-.-.-.-.-.-.-.-.-.-.-.-.-.-.-.-.-.-.-.-.-.-.-.-.-.-.-.-.-.-.-.-.-.-.-.-.-.-.-.-.-.-.-.-.-.-.-.-.-.-.-.-.-.-.-.-.-.\n\nDocument 3:\n\nrespectively.  \nIntelligent Cloud  \nRevenue increased  `$`12.9  billion or 17%. \n• Server products and cloud services revenue increased `$` 12.6 billion or 19% driven by Azure and other cloud \nservices. Azure and other cloud services revenue grew 29% driven by  growth in our consumption -based \nservices. Server products revenue decreased 1% . \n• Enterprise Services revenue increased `$` 315 million or 4% driven by growth in Enterprise Support Services, \noffset in part by a decline in Industry Solutions (formerly Microsoft Consulting Services ).\n\n{'page': 41, 'source': '/content/RAG/data/Microsoft_2023.pdf'}\n-.-.-.-.-.-.-.-.-.-.-.-.-.-.-.-.-.-.-.-.-.-.-.-.-.-.-.-.-.-.-.-.-.-.-.-.-.-.-.-.-.-.-.-.-.-.-.-.-.-.-.-.-.-.-.-.-.-.-.-.-.-.-.-.-.-.-.-.-.-.-.-.-.-.-.-.-.-.-.-.-.-.-.-.-.-.-.-.-.-.-.-.-.-.-.-.-.-.-.-.\n\nDocument 4:\n\nPART II  \nItem 8  \n91 No sales to an individual customer or country other than the United States accounted for more than 10% of revenue \nfor fiscal years 2023 , 2022 , or 2021 . Revenue, classified by the major geographic areas in which our customers were \nlocated, was as follows:  \n \n(In millions)           \n     \nYear Ended June  30,    2023     2022     2021   \n    \nUnited States  (a)   `$` 106,744      `$` 100,218      `$` 83,953    \nOther countries      105,171        98,052        84,135    \n                 \n             \nTotal    `$` 211,915     `$` 198,270      `$` 168,088    \n                       \n(a) Includes billings to OEMs and certain multinational organizations because of the nature of these businesses and \nthe impracticability of determining the geographic source of the revenue.  \nRevenue, classified by significant product and service offerings, was as follows:   \n \n(In millions)           \n     \nYear Ended June  30,    2023     2022     2021   \n    \nServer products and cloud services     `$` 79,970     `$` 67,350     `$` 52,589    \nOffice products and cloud services     48,728       44,862       39,872   \nWindows      21,507       24,732       22,488    \nGaming     15,466   \n    16,230   \n    15,370    \nLinkedIn    15,145     13,816     10,289    \nSearch and news advertising      12,208        11,591        9,267    \nEnterprise Services    7,722     7,407     6,943   \nDevices    5,521     7,306     7,143   \nDynamics    5,437     4,687     3,754   \nOther       211       289       373   \n              \n                \nTotal    `$` 211,915     `$` 198,270      `$` 168,088\n\n{'page': 91, 'source': '/content/RAG/data/Microsoft_2023.pdf'}\n-.-.-.-.-.-.-.-.-.-.-.-.-.-.-.-.-.-.-.-.-.-.-.-.-.-.-.-.-.-.-.-.-.-.-.-.-.-.-.-.-.-.-.-.-.-.-.-.-.-.-.-.-.-.-.-.-.-.-.-.-.-.-.-.-.-.-.-.-.-.-.-.-.-.-.-.-.-.-.-.-.-.-.-.-.-.-.-.-.-.-.-.-.-.-.-.-.-.-.-.\n\nDocument 5:\n\nPART II  \nItem 7 \n \n42 • Office Consumer products and cloud services revenue increased `$` 641 million or 11% driven by Microsoft \n365 Consumer subscription revenue. Microsoft 365 Consumer subscribers grew 15% to 5 9.7 million.  \n• LinkedIn revenue increased `$` 3.5 billion or 34% driven by a strong job market in our Talent Solutions \nbusiness and advertising demand in our Marketing Solutions business.  \n• Dynamics products and cloud services revenue increased 25% driven by Dynamics 365 growth of 39%.  \nOperating income increased  `$`5.3 billion  or 22%. \n• Gross margin increased  `$`7.3 billion  or 17% driven by growth in Office 365 Commercial and LinkedIn. Gross \nmargin percentage was relatively unchanged . Excluding the impact of the change in accounting estimate, \ngross margin percentage increased 2 points driven by improvement across all cloud services.  \n• Operating expenses increased  `$`2.0 billion  or 11% driven by investments in LinkedIn and cloud engineering.  \nGross margin and operating income both included an unfavorable foreign currency impact of 2%.  \nIntelligent Cloud  \nRevenue increased  `$`15.2 billion  or 25%.  \n• Server products and cloud services revenue increased `$` 14.7 billion or 28% driven by Azure and other cloud \nservices. Azure and other cloud services revenue grew 45% driven by  growth in our consumption -based \nservices. Server products revenue increased 5% driven by hybrid solutions, including Windows Server and \nSQL Server running in multi -cloud environments . \n• Enterprise Services revenue increased `$` 464 million or 7% driven by growth in Enterprise Support Services.  \nOperating income increased  `$`6.6 billion  or 25%.  \n• Gross margin increased  `$`9.4 billion  or 22% driven by growth in Azure and other cloud services. Gross \nmargin percentage decreased. Excluding the impact of the change in accounting estimate, gross margin \npercentage was relatively unchanged  driven by improvement in Azure and other cloud services, offset in \npart by sales mix shift to Azure and other cloud services.  \n• Operating expenses increased  `$`2.8 billion  or 16% driven by investments in Azure and other cloud services.  \nRevenue and operating income  included an unfavorable foreign currency impact of 2% and 3%, respectively.  \nMore Personal Computing  \nRevenue increased  `$`5.6 billion  or 10%.  \n• Windows revenue increased `$`2. 3 billion or 10% driven by growth in Windows OEM and Windows \nCommercial. Windows OEM  revenue increased 11% driven by continued strength in the commercial PC \nmarket, which has higher revenue per license. Windows Commercial products and cloud services revenue \nincreased 11% driven by demand for Microsoft 365.  \n• Search and news advertising  revenue  increased `$` 2.3 billion or 25%. Search and news advertising revenue \nexcluding traffic acquisition costs increased 27% driven by higher revenue per search  and search volume . \n• Gaming revenue increased `$` 860 million  or 6% on a strong prior year comparable that benefited from Xbox \nSeries X|S launches and stay -at-home scenarios, driven by growth in Xbox hardware and Xbox content and \nservices. Xbox hardware revenue increased 16% due to continued demand for Xbox Series X|S.  Xbox \ncontent and services revenue increased 3% driven by growth in Xbox Game Pass subscriptions and first-\nparty content , offset in part by a decline in third -party content .  \n• Surface  revenue increased `$` 226 million or 3%. \nOperating income increased  `$`1.5 billion  or 8%. \n• Gross margin increased  `$`3.1 billion  or 10% driven by growth in Windows and Search and news advertising. \nGross margin percentage was relatively unchanged .\n\n{'page': 42, 'source': '/content/RAG/data/Microsoft_2022.pdf'}\n-.-.-.-.-.-.-.-.-.-.-.-.-.-.-.-.-.-.-.-.-.-.-.-.-.-.-.-.-.-.-.-.-.-.-.-.-.-.-.-.-.-.-.-.-.-.-.-.-.-.-.-.-.-.-.-.-.-.-.-.-.-.-.-.-.-.-.-.-.-.-.-.-.-.-.-.-.-.-.-.-.-.-.-.-.-.-.-.-.-.-.-.-.-.-.-.-.-.-.-.\n\nDocument 6:\n\nProducts and Services Performance\nThe following table shows net sales by category for 2023, 2022 and 2021 (dollars in millions):\n2023\nChange\n2022\nChange\n2021\nNet sales by category:\niPhone \n`$`\n200,583 \n(2)\n%\n`$`\n205,489 \n7 \n%\n`$`\n191,973 \nMac \n29,357 \n(27)\n%\n40,177 \n14 \n%\n35,190 \niPad \n28,300 \n(3)\n%\n29,292 \n(8)\n%\n31,862 \nWearables, Home and Accessories \n39,845 \n(3)\n%\n41,241 \n7 \n%\n38,367 \nServices \n85,200 \n9 \n%\n78,129 \n14 \n%\n68,425 \nTotal net sales\n`$`\n383,285 \n(3)\n%\n`$`\n394,328 \n8 \n%\n`$`\n365,817 \n(1)\nProducts net sales include amortization of the deferred value of unspeciﬁed software upgrade rights, which are bundled in the sales price of the respective\nproduct.\n(2)\nServices net sales include amortization of the deferred value of services bundled in the sales price of certain products.\niPhone\niPhone net sales decreased 2% or `$`4.9 billion during 2023 compared to 2022 due to lower net sales of non-Pro iPhone models, partially oﬀset by higher net sales of\nPro iPhone models.\nMac\nMac net sales decreased 27% or `$`10.8 billion during 2023 compared to 2022 due primarily to lower net sales of laptops.\niPad\niPad net sales decreased 3% or `$`1.0 billion during 2023 compared to 2022 due primarily to lower net sales of iPad mini and iPad Air, partially oﬀset by the combined\nnet sales of iPad 9th and 10th generation.\nWearables, Home and Accessories\nWearables, Home and Accessories net sales decreased 3% or `$`1.4 billion during 2023 compared to 2022 due primarily to lower net sales of Wearables and\nAccessories.\nServices\nServices net sales increased 9% or `$`7.1 billion during 2023 compared to 2022 due to higher net sales across all lines of business.\n(1)\n(1)\n(1)\n(1)\n(2)\nApple Inc. | 2023 Form 10-K | 22\n\n{'page': 25, 'source': '/content/RAG/data/Apple_2023.pdf'}\n-.-.-.-.-.-.-.-.-.-.-.-.-.-.-.-.-.-.-.-.-.-.-.-.-.-.-.-.-.-.-.-.-.-.-.-.-.-.-.-.-.-.-.-.-.-.-.-.-.-.-.-.-.-.-.-.-.-.-.-.-.-.-.-.-.-.-.-.-.-.-.-.-.-.-.-.-.-.-.-.-.-.-.-.-.-.-.-.-.-.-.-.-.-.-.-.-.-.-.-.\n\nDocument 7:\n\nReportable Segments  \nFiscal Year 2022 Compared with Fiscal Year 2021   \nProductivity and Business Processes   \nRevenue increased  `$`9.4 billion  or 18%.  \n• Office Commercial products and cloud services revenue increased `$` 4.4 billion or 13%. Office 365 \nCommercial revenue grew 18% driven by seat growth of 14%, with continued momentum in small and \nmedium business and frontline worker offerings, as well as growth in revenue per user. Office Commercial \nproducts revenue declined 22% driven by continued customer shift to cloud offerings.\n\n{'page': 41, 'source': '/content/RAG/data/Microsoft_2022.pdf'}\n-.-.-.-.-.-.-.-.-.-.-.-.-.-.-.-.-.-.-.-.-.-.-.-.-.-.-.-.-.-.-.-.-.-.-.-.-.-.-.-.-.-.-.-.-.-.-.-.-.-.-.-.-.-.-.-.-.-.-.-.-.-.-.-.-.-.-.-.-.-.-.-.-.-.-.-.-.-.-.-.-.-.-.-.-.-.-.-.-.-.-.-.-.-.-.-.-.-.-.-.\n\nDocument 8:\n\nPART I  \nItem 1  \n \n6 Our Future Opportunity  \nThe case for digital transformation has never been more urgent. Customers  are looking to us to help improve \nproductivity and the affordability of their products and services . We continue to develop complete, intelligent solutions \nfor our customers that empower people to stay productive and collaborate, while safeguarding businesses and \nsimplifying IT management. Our goal is to lead the industry in several distinct areas of te chnology over the long  term, \nwhich we expect will translate to sustained growth. We are investing significant resources in:  \n• Transforming the workplace to deliver new modern, modular business applications , drive deeper insights, \nand improve how people communicate, collaborate, learn, work, play, and interact with one another.  \n• Building and running cloud -based services in ways that unleash new experiences and opportunities for \nbusinesses and individuals.  \n• Applying AI to drive insights and act on our customer’s behalf by understanding and interpreting their needs \nusing natural methods of communication.  \n• Tackling security from all angles with our integrated, end -to-end solutions spanning security, compliance, \nidentity, and management, across all clouds and platforms.  \n• Inventing new gaming experiences that bring people together around their shared love for games on any \ndevices and pushing the boundaries of innovation with console and PC gaming by creating the next wave \nof entertainment.  \n• Using Windows to fuel our cloud business, grow our share of the PC market, and drive increased \nengagement  with our services like Microsoft 365 Consumer, Teams, Edge, Bing, Xbox Game Pass, and \nmore.  \nOur future growth depends on our ability to transcend current product category definitions, business models, and sales \nmotions. We have the opportunity to redefine what customers and partners can expect and are working to deliver new \nsolutions that reflect  the best of Microsoft.  \nCorporate Social Responsibility  \nCommitment to Sustainability  \nWe work to ensure that technology is inclusive, trusted, and increases sustainability. We are accelerating progress \ntoward a more sustainable future by reducing our environmental footprint, advancing research, helping our customers \nbuild sustainable soluti ons, and advocating for policies that benefit the environment. In January 2020, we announced \na bold commitment and detailed plan to be carbon negative by 2030, and to remove from the environment by 2050 all \nthe carbon we have emitted since our founding in 1975. This included a commitment to invest `$`1 billion over four years \nin new technologies and innovative climate solutions. We built on this pledge by adding commitments to be water \npositive by 2030, zero waste by 2030, and to protect ecosystems by develop ing a Planetary Computer. We also help \nour suppliers and customers around the world use Microsoft technology to reduce their own carbon footprint.  \nFiscal year 2021 was a year of both successes and challenges. While we continued to make progress on several of \nour goals, with an overall reduction in our combined Scope 1 and Scope 2 emissions, our Scope 3 emissions increased, \ndue in substantial part to significant global datacenter expansions and growth in Xbox sales and usage as a result of \nthe COVID -19 pandemic. Despite these Scope 3 increases, we will continue to build the foundations and do the work \nto deliver on our commitments, and help our custome rs and partners achieve theirs . We have  learned the impact of \nour work will not all be felt immediately, and our experience highlights how progress won’t always be linear.  \nWhile fiscal year 2021 presented us with some new learnings, we also made some great progress. A few examples\n\n{'page': 6, 'source': '/content/RAG/data/Microsoft_2022.pdf'}\n-.-.-.-.-.-.-.-.-.-.-.-.-.-.-.-.-.-.-.-.-.-.-.-.-.-.-.-.-.-.-.-.-.-.-.-.-.-.-.-.-.-.-.-.-.-.-.-.-.-.-.-.-.-.-.-.-.-.-.-.-.-.-.-.-.-.-.-.-.-.-.-.-.-.-.-.-.-.-.-.-.-.-.-.-.-.-.-.-.-.-.-.-.-.-.-.-.-.-.-.\n\nDocument 9:\n\nPART II  \nItem 7 \n \n40 More Personal Computing  \nMetrics related to our More Personal Computing segment assess  the performance of key lines of business within this \nsegment. These metrics provide strategic product insights which allow us to assess the performance across our \ncommercial and consumer businesses. As we have diversity of target audiences and sales motio ns within the Windows \nbusiness, we monitor metrics that are reflective of those varying motions.  \n \nWindows OEM revenue growth  \n  Revenue from sales of Windows Pro and non -Pro licenses sold through \nthe OEM channel  \n   Windows Commercial products and cloud \nservices revenue growth  \n  Revenue from Windows Commercial products and cloud services, \ncomprising volume licensing of the Windows operating system, Windows \ncloud services, and other Windows commercial offerings  \n   Surface revenue growth    Revenue from Surface devices and accessories  \n   Xbox content and services revenue \ngrowth  \n  Revenue from Xbox content and services, comprising first- and third -\nparty content (including games and in-game content) , Xbox Game Pass \nand other subscriptions, Xbox Cloud Gaming,  third-party disc royalties, \nadvertising, and other cloud services  \n   Search and news advertising revenue, \nexcluding TAC, growth    Revenue from search and news advertising excluding traffic acquisition \ncosts (“TAC”) paid to Bing Ads network publishers and news partners  \nSUMMARY RESULTS OF OPERATIONS  \n \n(In millions,  except  percentages  and per share  amounts)    2022     2021   Percentage  \nChange    \n     \n     \nRevenue    `$` 198,270   \n`$` 168,088      \n  18%   \nGross margin     135,620   \n 115,856      \n  17%   \nOperating income     83,383   \n 69,916      \n  19%   \nNet income    72,738    \n 61,271    19%  \nDiluted earnings per share     9.65   \n 8.05     \n  20%   \n            Adjusted net income (non -GAAP)    69,447    \n 60,651    15%  \nAdjusted diluted earnings per share (non -GAAP)    9.21   \n 7.97   16%  \n \nAdjusted net income and adjusted diluted earnings per share (“EPS”) are non -GAAP financial measures which exclude \nthe net  income tax benefit related to transfer of intangible properties in the first quarter of fiscal year 2022 and the net \nincome tax benefit related to an India Supreme Court decision on withholding taxes in the third quarter of fiscal year \n2021 . Refer to the Non -GAAP Financial Measures section below for a reconciliation of our financial results reported in \naccordance with GAAP to non -GAAP fi nancial results. See Note 12 – Income Taxes of the Notes to Financial \nStatements (Part II, Item 8 of this Form 10 -K) for further discussion.  \nFiscal Year 2022 Compared with Fiscal Year 2021  \nRevenue increased  `$`30.2  billion  or 18% driven by growth across each of our segments. Intelligent Cloud revenue\n\n{'page': 40, 'source': '/content/RAG/data/Microsoft_2022.pdf'}\n-.-.-.-.-.-.-.-.-.-.-.-.-.-.-.-.-.-.-.-.-.-.-.-.-.-.-.-.-.-.-.-.-.-.-.-.-.-.-.-.-.-.-.-.-.-.-.-.-.-.-.-.-.-.-.-.-.-.-.-.-.-.-.-.-.-.-.-.-.-.-.-.-.-.-.-.-.-.-.-.-.-.-.-.-.-.-.-.-.-.-.-.-.-.-.-.-.-.-.-.\n\nDocument 10:\n\nPART I  \nItem 1A  \n \n23 It is uncertain whether our strategies will attract the users or generate the revenue required to succeed. If we are not \neffective in executing organizational and technical changes to increase efficiency and accelerate innovation, or if we \nfail to generate  sufficient usage of our new products and services, we may not grow revenue in line with the \ninfrastructure and development investments described above. This may negatively impact gross margins and operating \nincome.  \nSome users may engage in fraudulent or abusive activities through our cloud -based services. These include \nunauthorized use of accounts through stolen credentials, use of stolen credit cards or other payment vehicles, failure \nto pay for services accessed, o r other activities that violate our terms of service such as cryptocurrency mining or \nlaunching cyberattacks. If our efforts to detect such violations or our actions to control these types of fraud and abuse \nare not effective, we may experience adverse imp acts to our revenue or incur reputational damage.  \nRISKS RELATING TO THE EVOLUTION OF OUR BUSINESS  \nWe make significant investments in products and services that may not achieve expected returns.  We will \ncontinue to make significant investments in research, development, and marketing for existing products, services, and \ntechnologies, including the Windows operating system, Microsoft 365, Bing, SQL Server, Windows Server, Azure, \nOffice 365, Xbox, Li nkedIn, and other products and services. In addition, we are focused on developing new AI platform \nservices and incorporating AI into existing products and serv ices. We also invest in the development and acquisition \nof a variety of hardware for productivity, communication, and entertainment, including PCs, tablets, gaming devices, \nand HoloLens. Investments in new technology are speculative. Commercial success depends o n many factors, \nincluding innovativeness, developer support, and effective distribution and marketing. If customers do not perceive our \nlatest offerings as providing significant new functionality or other value, they may reduce their purchases of new  \nsoftware and hardware products or upgrades, unfavorably affecting revenue. We may not achieve significant revenue \nfrom new product, service, and distribution channel investments for several years, if at all. New products and services \nmay not be profitable , and even if they are profitable, operating margins for some new products and businesses will \nnot be as high as the margins we have experienced historically. We may not get engagement in certain features, like \nMicrosoft Edge , Bing, and Bing Chat , that dri ve post -sale monetization opportunities. Our data handling practices \nacross our products and services will continue to be under scrutiny. Perceptions of mismanagement, driven by \nregulatory activity or negative public reaction to our practices or product ex periences, could negatively impact product \nand feature adoption, product design, and product quality.  \nDeveloping new technologies is complex. It can require long development and testing periods. Significant delays in \nnew releases or significant problems in creating new products or services could adversely affect our revenue.  \nAcquisitions, joint ventures, and strategic alliances may have an adverse effect on our business.  We expect to \ncontinue making acquisitions and entering into joint ventures and strategic alliances as part of our long -term business \nstrategy. For example, in March 2021 we completed our acquisition of ZeniMax Media Inc. for `$`8.1 billion, and in March \n2022 we completed our acquisition of Nuance Communications, Inc. for `$`18.8 billion. In January 2022 we announced \na definitive agreement to acquire Activision Bliz zard, Inc. for `$`68.7 billion.  In January 2023 we announced the third \nphase of our OpenAI strategic partnership. Acquisitions and other transactions and arrangements involve significant \nchallenges and risks, including that they do not advance our business strategy, that we get an unsatisfactory return on\n\n{'page': 23, 'source': '/content/RAG/data/Microsoft_2023.pdf'}"
          },
          "metadata": {}
        },
        {
          "output_type": "stream",
          "name": "stdout",
          "text": [
            "No of documents retrieved10\n"
          ]
        }
      ],
      "source": [
        "query = \"Compare the Revenue trends of Microsoft between the years 2022 and 2023?\"\n",
        "pretty_print_result(query, llm, lotr)"
      ]
    },
    {
      "cell_type": "markdown",
      "id": "e2230ab8-96c2-489d-840e-d7753e313af8",
      "metadata": {
        "id": "e2230ab8-96c2-489d-840e-d7753e313af8"
      },
      "source": [
        "## Type2 - Ensemble Retriever - Handling multiple retrievers\n",
        "The EnsembleRetriever takes a list of retrievers as input and ensemble the results of their get_relevant_documents() methods and rerank the results based on the Reciprocal Rank Fusion algorithm.\n",
        "\n",
        "By leveraging the strengths of different algorithms, the EnsembleRetriever can achieve better performance than any single algorithm."
      ]
    },
    {
      "cell_type": "code",
      "execution_count": 84,
      "id": "d26d6c4b-8ef9-49ce-abf1-04264ec58622",
      "metadata": {
        "execution": {
          "iopub.execute_input": "2024-02-26T10:25:58.350825Z",
          "iopub.status.busy": "2024-02-26T10:25:58.350465Z",
          "iopub.status.idle": "2024-02-26T10:25:58.354145Z",
          "shell.execute_reply": "2024-02-26T10:25:58.353606Z",
          "shell.execute_reply.started": "2024-02-26T10:25:58.350802Z"
        },
        "tags": [],
        "id": "d26d6c4b-8ef9-49ce-abf1-04264ec58622"
      },
      "outputs": [],
      "source": [
        "from langchain.retrievers import EnsembleRetriever\n",
        "\n",
        "# initialize the ensemble retriever\n",
        "ensemble_retriever = EnsembleRetriever(retrievers=[retriever_1, retriever_2], weights=[0.5, 0.5])"
      ]
    },
    {
      "cell_type": "code",
      "execution_count": 37,
      "id": "93f58c8a-7ac4-46cc-99c4-54b23db584cf",
      "metadata": {
        "collapsed": true,
        "execution": {
          "iopub.execute_input": "2024-02-26T10:26:00.662995Z",
          "iopub.status.busy": "2024-02-26T10:26:00.662625Z",
          "iopub.status.idle": "2024-02-26T10:26:11.172058Z",
          "shell.execute_reply": "2024-02-26T10:26:11.171443Z",
          "shell.execute_reply.started": "2024-02-26T10:26:00.662971Z"
        },
        "jupyter": {
          "outputs_hidden": true
        },
        "tags": [],
        "colab": {
          "base_uri": "https://localhost:8080/",
          "height": 1000
        },
        "id": "93f58c8a-7ac4-46cc-99c4-54b23db584cf",
        "outputId": "ab978753-d534-481f-d5d0-f52216ed2ef8"
      },
      "outputs": [
        {
          "output_type": "display_data",
          "data": {
            "text/plain": [
              "<IPython.core.display.Markdown object>"
            ],
            "text/markdown": "Answer: Between fiscal years 2022 and 2023, Microsoft's revenue trends show several key differences:\n\n1. **Revenue Growth**: In fiscal year 2023, Microsoft's revenue increased by `$`13.6 billion or 7%, compared to an 18% increase in fiscal year 2022. This growth in 2023 was driven by Intelligent Cloud and Productivity and Business Processes, offset in part by a decline in More Personal Computing.\n\n2. **Segment Performance**:\n   - **Intelligent Cloud**: Continued to drive revenue growth in both fiscal years, with Azure and other cloud services being significant contributors.\n   - **Productivity and Business Processes**: Also contributed to revenue growth, driven by Office 365 Commercial and LinkedIn in both years.\n   - **More Personal Computing**: Experienced a revenue increase in fiscal year 2022 but saw a decline in fiscal year 2023, influenced by factors like Windows and Devices performance.\n\n3. **Gross Margin**: Increased by `$`10.4 billion or 8% in fiscal year 2023, compared to a 17% increase in fiscal year 2022. The gross margin percentage increased slightly in 2023, whereas it had decreased slightly in 2022 when excluding certain accounting estimate impacts.\n\n4. **Operating Income**: Grew by 6% in fiscal year 2023, compared to a 19% increase in fiscal year 2022.\n\n5. **Net Income**: Saw a slight decrease of 1% in fiscal year 2023, contrasting with a 19% increase in fiscal year 2022.\n\n6. **Effective Tax Rate**: The effective tax rate for fiscal year 2023 was 19%, up from 13% in fiscal year 2022, primarily due to a significant net income tax benefit in the first quarter of fiscal year 2022 related to the transfer of intangible properties and a decrease in tax benefits relating to stock-based compensation.\n\nThese differences highlight a year of slower revenue growth in 2023 compared to 2022, with shifts in segment performance and an increase in the effective tax rate impacting net income."
          },
          "metadata": {}
        },
        {
          "output_type": "stream",
          "name": "stdout",
          "text": [
            "=============================================================================================================\n"
          ]
        },
        {
          "output_type": "display_data",
          "data": {
            "text/plain": [
              "<IPython.core.display.Markdown object>"
            ],
            "text/markdown": "Document 1:\n\nStatements (Part II, Item 8 of this Form 10 -K) for further discussion.  \nFiscal Year 2022 Compared with Fiscal Year 2021  \nRevenue increased  `$`30.2  billion  or 18% driven by growth across each of our segments. Intelligent Cloud revenue \nincreased  driven by Azure and other cloud services. Productivity and Business Processes revenue increased  driven \nby Office 365 Commercial and LinkedIn. More Personal Computing revenue increased  driven by Search and news \nadvertising and Windows .  \nCost of revenue increased  `$`10.4 billion  or 20% driven by growth in Microsoft Cloud.  \nGross margin increased  `$`19.8 billion  or 17% driven by growth across each of our segments.  \n• Gross margin percentage decreased slightly. Excluding the impact of the fiscal year 2021 change in \naccounting estimate  for the useful lives of our server and network equipment , gross margin percentage \nincreased 1 point driven by improvement  in Productivity and Business Processes .\n\n{'page': 40, 'source': '/content/RAG/data/Microsoft_2022.pdf'}\n-.-.-.-.-.-.-.-.-.-.-.-.-.-.-.-.-.-.-.-.-.-.-.-.-.-.-.-.-.-.-.-.-.-.-.-.-.-.-.-.-.-.-.-.-.-.-.-.-.-.-.-.-.-.-.-.-.-.-.-.-.-.-.-.-.-.-.-.-.-.-.-.-.-.-.-.-.-.-.-.-.-.-.-.-.-.-.-.-.-.-.-.-.-.-.-.-.-.-.-.\n\nDocument 2:\n\nReportable Segments  \nFiscal Year 2022 Compared with Fiscal Year 2021   \nProductivity and Business Processes   \nRevenue increased  `$`9.4 billion  or 18%.  \n• Office Commercial products and cloud services revenue increased `$` 4.4 billion or 13%. Office 365 \nCommercial revenue grew 18% driven by seat growth of 14%, with continued momentum in small and \nmedium business and frontline worker offerings, as well as growth in revenue per user. Office Commercial \nproducts revenue declined 22% driven by continued customer shift to cloud offerings.\n\n{'page': 41, 'source': '/content/RAG/data/Microsoft_2022.pdf'}\n-.-.-.-.-.-.-.-.-.-.-.-.-.-.-.-.-.-.-.-.-.-.-.-.-.-.-.-.-.-.-.-.-.-.-.-.-.-.-.-.-.-.-.-.-.-.-.-.-.-.-.-.-.-.-.-.-.-.-.-.-.-.-.-.-.-.-.-.-.-.-.-.-.-.-.-.-.-.-.-.-.-.-.-.-.-.-.-.-.-.-.-.-.-.-.-.-.-.-.-.\n\nDocument 3:\n\nPART I  \nItem 1  \n \n6 Our Future Opportunity  \nThe case for digital transformation has never been more urgent. Customers  are looking to us to help improve \nproductivity and the affordability of their products and services . We continue to develop complete, intelligent solutions \nfor our customers that empower people to stay productive and collaborate, while safeguarding businesses and \nsimplifying IT management. Our goal is to lead the industry in several distinct areas of te chnology over the long  term, \nwhich we expect will translate to sustained growth. We are investing significant resources in:  \n• Transforming the workplace to deliver new modern, modular business applications , drive deeper insights, \nand improve how people communicate, collaborate, learn, work, play, and interact with one another.  \n• Building and running cloud -based services in ways that unleash new experiences and opportunities for \nbusinesses and individuals.  \n• Applying AI to drive insights and act on our customer’s behalf by understanding and interpreting their needs \nusing natural methods of communication.  \n• Tackling security from all angles with our integrated, end -to-end solutions spanning security, compliance, \nidentity, and management, across all clouds and platforms.  \n• Inventing new gaming experiences that bring people together around their shared love for games on any \ndevices and pushing the boundaries of innovation with console and PC gaming by creating the next wave \nof entertainment.  \n• Using Windows to fuel our cloud business, grow our share of the PC market, and drive increased \nengagement  with our services like Microsoft 365 Consumer, Teams, Edge, Bing, Xbox Game Pass, and \nmore.  \nOur future growth depends on our ability to transcend current product category definitions, business models, and sales \nmotions. We have the opportunity to redefine what customers and partners can expect and are working to deliver new \nsolutions that reflect  the best of Microsoft.  \nCorporate Social Responsibility  \nCommitment to Sustainability  \nWe work to ensure that technology is inclusive, trusted, and increases sustainability. We are accelerating progress \ntoward a more sustainable future by reducing our environmental footprint, advancing research, helping our customers \nbuild sustainable soluti ons, and advocating for policies that benefit the environment. In January 2020, we announced \na bold commitment and detailed plan to be carbon negative by 2030, and to remove from the environment by 2050 all \nthe carbon we have emitted since our founding in 1975. This included a commitment to invest `$`1 billion over four years \nin new technologies and innovative climate solutions. We built on this pledge by adding commitments to be water \npositive by 2030, zero waste by 2030, and to protect ecosystems by develop ing a Planetary Computer. We also help \nour suppliers and customers around the world use Microsoft technology to reduce their own carbon footprint.  \nFiscal year 2021 was a year of both successes and challenges. While we continued to make progress on several of \nour goals, with an overall reduction in our combined Scope 1 and Scope 2 emissions, our Scope 3 emissions increased, \ndue in substantial part to significant global datacenter expansions and growth in Xbox sales and usage as a result of \nthe COVID -19 pandemic. Despite these Scope 3 increases, we will continue to build the foundations and do the work \nto deliver on our commitments, and help our custome rs and partners achieve theirs . We have  learned the impact of \nour work will not all be felt immediately, and our experience highlights how progress won’t always be linear.  \nWhile fiscal year 2021 presented us with some new learnings, we also made some great progress. A few examples\n\n{'page': 6, 'source': '/content/RAG/data/Microsoft_2022.pdf'}\n-.-.-.-.-.-.-.-.-.-.-.-.-.-.-.-.-.-.-.-.-.-.-.-.-.-.-.-.-.-.-.-.-.-.-.-.-.-.-.-.-.-.-.-.-.-.-.-.-.-.-.-.-.-.-.-.-.-.-.-.-.-.-.-.-.-.-.-.-.-.-.-.-.-.-.-.-.-.-.-.-.-.-.-.-.-.-.-.-.-.-.-.-.-.-.-.-.-.-.-.\n\nDocument 4:\n\nPART II  \nItem 7 \n \n44 Fiscal Year 2023 Compared with Fiscal Year 2022  \nInterest and dividends income increased due to higher yields, offset in part by lower portfolio balances. Interest expense \ndecreased due to a decrease in  outstanding long -term debt due to debt maturities. Net recognized gains on \ninvestments decreased due to lower gains on equity securities and higher losses on fixed income securities. Net losses \non derivatives increased due to losses related to managing st rategic investments.  \nINCOME TAXES  \nEffective Tax Rate  \nOur effective tax rate for fiscal years 2023  and 2022  was 19% and 1 3%, respectively . The increase in our effective tax \nrate was primarily due to a `$`3.3 billion net income tax benefit in the first quarter of fiscal year 2022 related to the trans fer \nof intangible properties and a decrease in tax benefits relating to stock -based compensation.  \nIn the first quarter of fiscal year 2022, we transferred certain intangible properties from our Puerto Rico subsidiary to \nthe U.S. The transfer of intangible properties resulted in a `$`3.3 billion net income tax benefit in the first quarter of fisc al \nyear 2 022, as the value of future U.S. tax deductions exceeded the current tax liability from the U.S. global intangible \nlow-taxed income tax.  \nOur effective tax rate was lower than the U.S. federal statutory rate, primarily due to earnings taxed at lower rates in \nforeign jurisdictions resulting from producing and distributing our products and services through our foreign regional \noperations center in Ireland.  \nThe mix of income before income taxes between the U.S. and foreign countries impacted our effective tax rate as a \nresult of the geographic distribution of, and customer demand for, our products and services. In fiscal year 2023 , our \nU.S. income before income taxes was `$` 52.9 billion and our foreign income before income taxes was `$` 36.4 billion. In \nfiscal year 2022, our U.S. income before income taxes was `$`47.8 billion and our foreign income before income taxes \nwas `$`35.9 billion.  \nUncertain Tax Positions  \nWe settled a portion of the Internal Revenue Service (“IRS”) audit for tax years 2004 to 2006 in fiscal year 2011. In \nFebruary 2012, the IRS withdrew its 2011 Revenue Agents Report related to unresolved issues for tax years 2004 to \n2006 and reopened the audit  phase of the examination. We also settled a portion of the IRS audit for tax years 2007 \nto 2009 in fiscal year 2016, and a portion of the IRS audit for tax years 2010 to 2013 in fiscal year 2018. In the second \nquarter of fiscal year 2021, we settled an  additional portion of the IRS audits for tax years 2004 to 2013 and made a \npayment of `$`1.7 billion, including tax and interest. We remain under audit for tax years 2004 to 2017.  \nAs of  June 30, 2023 , the primary unresolved issues for the  IRS audits relate  to transfer pricing, which could have a \nmaterial impact in our consolidated financial statements when the matters are resolved. We believe our allowances for \nincome tax contingencies are adequate . We have not received a proposed assessment for the unresolved key transfer \npricing issues. We do not expect a final resolution of these issues in the next 12 months.  Based on the information \ncurrently available, we do not anticipate a significant increase or decrease to our tax contingencies for these issues \nwithin the next 12 months.  \nWe are subject to income tax in many jurisdictions outside the U.S. Our operations in certain jurisdictions remain\n\n{'page': 44, 'source': '/content/RAG/data/Microsoft_2023.pdf'}\n-.-.-.-.-.-.-.-.-.-.-.-.-.-.-.-.-.-.-.-.-.-.-.-.-.-.-.-.-.-.-.-.-.-.-.-.-.-.-.-.-.-.-.-.-.-.-.-.-.-.-.-.-.-.-.-.-.-.-.-.-.-.-.-.-.-.-.-.-.-.-.-.-.-.-.-.-.-.-.-.-.-.-.-.-.-.-.-.-.-.-.-.-.-.-.-.-.-.-.-.\n\nDocument 5:\n\nPART II  \nItem 7 \n \n40 More Personal Computing  \nMetrics related to our More Personal Computing segment assess  the performance of key lines of business within this \nsegment. These metrics provide strategic product insights which allow us to assess the performance across our \ncommercial and consumer businesses. As we have diversity of target audiences and sales motio ns within the Windows \nbusiness, we monitor metrics that are reflective of those varying motions.  \n \nWindows OEM revenue growth  \n  Revenue from sales of Windows Pro and non -Pro licenses sold through \nthe OEM channel  \n   Windows Commercial products and cloud \nservices revenue growth  \n  Revenue from Windows Commercial products and cloud services, \ncomprising volume licensing of the Windows operating system, Windows \ncloud services, and other Windows commercial offerings  \n   Surface revenue growth    Revenue from Surface devices and accessories  \n   Xbox content and services revenue \ngrowth  \n  Revenue from Xbox content and services, comprising first- and third -\nparty content (including games and in-game content) , Xbox Game Pass \nand other subscriptions, Xbox Cloud Gaming,  third-party disc royalties, \nadvertising, and other cloud services  \n   Search and news advertising revenue, \nexcluding TAC, growth    Revenue from search and news advertising excluding traffic acquisition \ncosts (“TAC”) paid to Bing Ads network publishers and news partners  \nSUMMARY RESULTS OF OPERATIONS  \n \n(In millions,  except  percentages  and per share  amounts)    2022     2021   Percentage  \nChange    \n     \n     \nRevenue    `$` 198,270   \n`$` 168,088      \n  18%   \nGross margin     135,620   \n 115,856      \n  17%   \nOperating income     83,383   \n 69,916      \n  19%   \nNet income    72,738    \n 61,271    19%  \nDiluted earnings per share     9.65   \n 8.05     \n  20%   \n            Adjusted net income (non -GAAP)    69,447    \n 60,651    15%  \nAdjusted diluted earnings per share (non -GAAP)    9.21   \n 7.97   16%  \n \nAdjusted net income and adjusted diluted earnings per share (“EPS”) are non -GAAP financial measures which exclude \nthe net  income tax benefit related to transfer of intangible properties in the first quarter of fiscal year 2022 and the net \nincome tax benefit related to an India Supreme Court decision on withholding taxes in the third quarter of fiscal year \n2021 . Refer to the Non -GAAP Financial Measures section below for a reconciliation of our financial results reported in \naccordance with GAAP to non -GAAP fi nancial results. See Note 12 – Income Taxes of the Notes to Financial \nStatements (Part II, Item 8 of this Form 10 -K) for further discussion.  \nFiscal Year 2022 Compared with Fiscal Year 2021  \nRevenue increased  `$`30.2  billion  or 18% driven by growth across each of our segments. Intelligent Cloud revenue\n\n{'page': 40, 'source': '/content/RAG/data/Microsoft_2022.pdf'}\n-.-.-.-.-.-.-.-.-.-.-.-.-.-.-.-.-.-.-.-.-.-.-.-.-.-.-.-.-.-.-.-.-.-.-.-.-.-.-.-.-.-.-.-.-.-.-.-.-.-.-.-.-.-.-.-.-.-.-.-.-.-.-.-.-.-.-.-.-.-.-.-.-.-.-.-.-.-.-.-.-.-.-.-.-.-.-.-.-.-.-.-.-.-.-.-.-.-.-.-.\n\nDocument 6:\n\nPART II  \nItem 7 \n \n43 Sales and Marketing  \n \n(In millions, except percentages)    2023     2022       \nPercentage  \nChange    \n  \n  \nSales and marketing    `$` 22,759     `$` 21,825      4%   \nAs a percent of revenue      11%       11%     0ppt   \n  \nSales and marketing expenses include payroll, employee benefits, stock -based compensation expense, and other \nheadcount -related expenses associated with sales and marketing personnel, and the costs of advertising, promotions, \ntrade shows, seminars, and other programs.  \nFiscal Year 2023 Compared with Fiscal Year 2022  \nSales and marketing expenses increased  `$`934 million  or 4% driven by 3 points of growth from the Nuance and Xandr \nacquisitions and investments in commercial sales , offset in part by a decline in Windows advertising . Sales and \nmarketing included a favorable foreign currency impact of 2%. \nGeneral and Administrative  \n \n(In millions, except percentages)    2023     2022   Percentage  \nChange     \n     \n         \nGeneral and administrative    `$` 7,575     `$` 5,900   28%   \nAs a percent of revenue      4%       3%  1ppt   \n     \nGeneral and administrative expenses include payroll, employee benefits, stock -based compensation expense, \nemployee severance expense incurred as part of a corporate program, and other headcount -related expenses \nassociated with finance, legal, facilities, certain human resources and other administrative personnel, certain taxes, \nand legal and other administrative fees.  \nFiscal Year 2023 Compared with Fiscal Year 2022  \nGeneral and administrative expenses increased  `$`1.7 billion  or 28% driven by employee severance expenses  and a \ncharge related to a non -public preliminary draft decision provided by the Irish Data Protection Commission . General \nand administrative included a favorable foreign currency impact of 2%.  \nOTHER INCOME (EXPENSE), NET  \nThe components of other income (expense), net were as follows:   \n \n(In millions)             \n  \n    \nYear Ended June  30,      2023       2022  \n    \nInterest and dividends income    `$` 2,994  \n  `$` 2,094   \nInterest expense      (1,968  )     (2,063  ) \nNet recognized gains on investments      260  \n    461  \nNet losses on derivatives      (456 )     (52 ) \nNet gains (losses) on foreign currency remeasurements      181      (75 ) \nOther, net      (223 )     (32 ) \n      \n         \nTotal    `$` 788     `$` 333\n\n{'page': 43, 'source': '/content/RAG/data/Microsoft_2023.pdf'}\n-.-.-.-.-.-.-.-.-.-.-.-.-.-.-.-.-.-.-.-.-.-.-.-.-.-.-.-.-.-.-.-.-.-.-.-.-.-.-.-.-.-.-.-.-.-.-.-.-.-.-.-.-.-.-.-.-.-.-.-.-.-.-.-.-.-.-.-.-.-.-.-.-.-.-.-.-.-.-.-.-.-.-.-.-.-.-.-.-.-.-.-.-.-.-.-.-.-.-.-.\n\nDocument 7:\n\nPART II  \nItem 7 \n \n41 SEGMENT RESULTS OF OPERATIONS  \n  \n(In millions, except percentages)    2023     2022     Percentage  \nChange    \n  \n  \nRevenue                         \n     \nProductivity and Business Processes   `$` 69,274    `$` 63,364    9%  \nIntelligent Cloud    87,907    74,965    17%  \nMore Personal Computing    54,734      59,941     (9)%  \n         \n                \nTotal    `$` 211,915     `$` 198,270      7%   \n            \n     \nOperating Income             \n            \nProductivity and Business Processes   `$` 34,189   `$` 29,690   15%  \nIntelligent Cloud    37,884    33,203   14%  \nMore Personal Computing    16,450     20,490   (20)%  \n         \n                \nTotal   `$` 88,523   `$` 83,383    6%  \n            \nReportable Segments  \nFiscal Year 2023  Compared with Fiscal Year 2022   \nProductivity and Business Processes  \nRevenue increased  `$`5.9 billion or 9%.  \n• Office Commercial products and cloud services revenue increased `$` 3.7 billion or 10%. Office 365 \nCommercial revenue grew 13% with seat growth of 11%, driven by small and medium business and frontline \nworker offerings, as well as growth in revenue per user. Office Commercial products revenue declined 21% \ndriven by continued customer shift to cloud offerings.  \n• Office Consumer products and cloud services revenue increased `$` 140 million or 2%. Microsoft 365 \nConsumer subscribers grew 12% to 67.0 million.   \n• LinkedIn revenue increased `$`1. 3 billion or 10% driven by Talent Solutions.  \n• Dynamics products and cloud services revenue increased `$`750 million or 16% driven by Dynamics 365 \ngrowth of 24%. \nOperating income increased  `$`4.5 billion or 15%.  \n• Gross margin increased  `$`5.8 billion or 12% driven by growth in Office 365 Commercial  and LinkedIn , as \nwell as the change in accounting estimate. Gross margin percentage increased. Excluding the impact of the \nchange in accounting estimate, gross margin percentage increased slightly  driven by improvement in Office \n365 Commercial, offset in part by sales mix shift to cloud offerings.  \n• Operating expenses increased  `$`1.3 billion or 7% driven by investment in LinkedIn and employee severance \nexpenses.  \nRevenue, gross margin, and operating income included an unfavorable foreign currency impact of 5%, 5%, and 8%, \nrespectively.  \nIntelligent Cloud  \nRevenue increased  `$`12.9  billion or 17%. \n• Server products and cloud services revenue increased `$` 12.6 billion or 19% driven by Azure and other cloud\n\n{'page': 41, 'source': '/content/RAG/data/Microsoft_2023.pdf'}\n-.-.-.-.-.-.-.-.-.-.-.-.-.-.-.-.-.-.-.-.-.-.-.-.-.-.-.-.-.-.-.-.-.-.-.-.-.-.-.-.-.-.-.-.-.-.-.-.-.-.-.-.-.-.-.-.-.-.-.-.-.-.-.-.-.-.-.-.-.-.-.-.-.-.-.-.-.-.-.-.-.-.-.-.-.-.-.-.-.-.-.-.-.-.-.-.-.-.-.-.\n\nDocument 8:\n\nProducts and Services Performance\nThe following table shows net sales by category for 2023, 2022 and 2021 (dollars in millions):\n2023\nChange\n2022\nChange\n2021\nNet sales by category:\niPhone \n`$`\n200,583 \n(2)\n%\n`$`\n205,489 \n7 \n%\n`$`\n191,973 \nMac \n29,357 \n(27)\n%\n40,177 \n14 \n%\n35,190 \niPad \n28,300 \n(3)\n%\n29,292 \n(8)\n%\n31,862 \nWearables, Home and Accessories \n39,845 \n(3)\n%\n41,241 \n7 \n%\n38,367 \nServices \n85,200 \n9 \n%\n78,129 \n14 \n%\n68,425 \nTotal net sales\n`$`\n383,285 \n(3)\n%\n`$`\n394,328 \n8 \n%\n`$`\n365,817 \n(1)\nProducts net sales include amortization of the deferred value of unspeciﬁed software upgrade rights, which are bundled in the sales price of the respective\nproduct.\n(2)\nServices net sales include amortization of the deferred value of services bundled in the sales price of certain products.\niPhone\niPhone net sales decreased 2% or `$`4.9 billion during 2023 compared to 2022 due to lower net sales of non-Pro iPhone models, partially oﬀset by higher net sales of\nPro iPhone models.\nMac\nMac net sales decreased 27% or `$`10.8 billion during 2023 compared to 2022 due primarily to lower net sales of laptops.\niPad\niPad net sales decreased 3% or `$`1.0 billion during 2023 compared to 2022 due primarily to lower net sales of iPad mini and iPad Air, partially oﬀset by the combined\nnet sales of iPad 9th and 10th generation.\nWearables, Home and Accessories\nWearables, Home and Accessories net sales decreased 3% or `$`1.4 billion during 2023 compared to 2022 due primarily to lower net sales of Wearables and\nAccessories.\nServices\nServices net sales increased 9% or `$`7.1 billion during 2023 compared to 2022 due to higher net sales across all lines of business.\n(1)\n(1)\n(1)\n(1)\n(2)\nApple Inc. | 2023 Form 10-K | 22\n\n{'page': 25, 'source': '/content/RAG/data/Apple_2023.pdf'}\n-.-.-.-.-.-.-.-.-.-.-.-.-.-.-.-.-.-.-.-.-.-.-.-.-.-.-.-.-.-.-.-.-.-.-.-.-.-.-.-.-.-.-.-.-.-.-.-.-.-.-.-.-.-.-.-.-.-.-.-.-.-.-.-.-.-.-.-.-.-.-.-.-.-.-.-.-.-.-.-.-.-.-.-.-.-.-.-.-.-.-.-.-.-.-.-.-.-.-.-.\n\nDocument 9:\n\nPART II  \nItem 7 \n \n40 SUMMARY RESULTS OF OPERATIONS  \n \n(In millions,  except  percentages  and per share  amounts)    2023     2022   Percentage  \nChange    \n     \n     \nRevenue    `$` 211,915   \n`$` 198,270      \n  7%   \nGross margin     146,052   \n 135,620      \n  8%   \nOperating income     88,523   \n 83,383      \n  6%   \nNet income    72,361    \n 72,738    (1)%   \nDiluted earnings per share     9.68   \n 9.65     \n  0%   \n            Adjusted gross margin (non -GAAP)    146,204   \n 135,620    8%  \nAdjusted operating income (non -GAAP)    89,694   \n 83,383    8%  \nAdjusted net income (non -GAAP)    73,307    \n 69,447    6%  \nAdjusted diluted earnings per share (non -GAAP)    9.81   \n 9.21   7%  \n \nAdjusted gross margin, operating income, net income, and diluted earnings per share (“EPS”) are non -GAAP financial \nmeasures. Current year non -GAAP financial measures exclude the impact of the Q2 charge,  which  includes  employee \nseverance expenses, impairment charges resulting from changes to our hardware portfolio, and costs related to lease \nconsolidation activities. Prior year non -GAAP financial measures  exclude the net  income tax benefit related to transfer \nof intangible properties in the first quarter of fiscal year 2022 . Refer to Note 12 – Income Taxes of the Notes to Financial \nStatements (Part II, Item 8 of this For m 10 -K) for further discussion. Refer to the Non -GAAP Financial Measures section \nbelow for a reconciliation of our financial results reported in accordance with GAAP to non -GAAP financial results.  \nFiscal Year 2023  Compared with Fiscal Year 2022  \nRevenue increased  `$`13.6  billion or 7% driven by growth in Intelligent Cloud and Productivity and Business Processes, \noffset in part by a decline in More Personal Computing. Intelligent Cloud revenue increased  driven by Azure and other \ncloud services. Productivity and Business Processes revenue increased  driven by Office 365 Commercial and \nLinkedIn. More Personal Computing revenue decreased  driven by Windows and Devices . \nCost of revenue increased  `$`3.2 billion or 5% driven by growth in Microsoft Cloud, offset in part by the change in \naccounting estimate.  \nGross margin increased  `$`10.4  billion or  8% driven by growth in Intelligent Cloud and Productivity and Business \nProcesses and the change in accounting estimate, offset in part by a decline in More Personal Computing.  \n• Gross margin percentage increased  slightly . Excluding the impact of the change in accounting estimate, \ngross margin percentage decreased 1 point driven by declines in Intelligent Cloud and More Personal \nComputing, offset in part by sales mix shift between our segments . \n• Microsoft Cloud gross margin percentage increased 2 points to 72%. Excluding the impact of the change in \naccounting estimate, Microsoft Cloud gross margin percentage decreased slightly  driven by a decline in\n\n{'page': 40, 'source': '/content/RAG/data/Microsoft_2023.pdf'}"
          },
          "metadata": {}
        },
        {
          "output_type": "stream",
          "name": "stdout",
          "text": [
            "No of documents retrieved9\n"
          ]
        }
      ],
      "source": [
        "query = \"Compare the Revenue trends of Microsoft between the years 2022 and 2023?\"\n",
        "pretty_print_result(query, llm, ensemble_retriever)"
      ]
    },
    {
      "cell_type": "markdown",
      "id": "b75ac53e-22bc-4f7f-b128-aa2cd4deeaa7",
      "metadata": {
        "id": "b75ac53e-22bc-4f7f-b128-aa2cd4deeaa7"
      },
      "source": [
        "## Type3 - Contextual Compression\n",
        "\n",
        "The idea is simple: instead of immediately returning retrieved documents as-is, you can compress them using the context of the given query, so that only the relevant information is returned. “Compressing” here refers to both compressing the contents of an individual document and filtering out documents wholesale.\n",
        "\n",
        "To use the Contextual Compression Retriever, you’ll need: - a base retriever - a Document Compressor. Here we use \"lotr\" as base retriever and let's look at different compressors below.\n",
        "\n",
        "![image.png](attachment:c9d4d9b7-8088-462d-8cb0-6c97632bffbf.png)![image.png](data:image/png;base64,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)"
      ]
    },
    {
      "cell_type": "code",
      "execution_count": 38,
      "id": "22a402d6-8784-4494-8263-37c7e4d398eb",
      "metadata": {
        "execution": {
          "iopub.execute_input": "2024-02-26T10:26:11.173444Z",
          "iopub.status.busy": "2024-02-26T10:26:11.173153Z",
          "iopub.status.idle": "2024-02-26T10:26:11.176272Z",
          "shell.execute_reply": "2024-02-26T10:26:11.175782Z",
          "shell.execute_reply.started": "2024-02-26T10:26:11.173423Z"
        },
        "tags": [],
        "id": "22a402d6-8784-4494-8263-37c7e4d398eb"
      },
      "outputs": [],
      "source": [
        "from langchain.retrievers import ContextualCompressionRetriever\n",
        "from langchain.retrievers.document_compressors import DocumentCompressorPipeline"
      ]
    },
    {
      "cell_type": "markdown",
      "id": "3d75c9af-e444-41ac-9e84-07668e89d57c",
      "metadata": {
        "id": "3d75c9af-e444-41ac-9e84-07668e89d57c"
      },
      "source": [
        "**LLMChainExtractor:** iterate over the initially returned documents and extract from each only the content that is relevant to the query."
      ]
    },
    {
      "cell_type": "code",
      "execution_count": 39,
      "id": "eadc5457-1f42-4dc0-aa47-fadeeae6927e",
      "metadata": {
        "execution": {
          "iopub.execute_input": "2024-02-26T10:29:16.233668Z",
          "iopub.status.busy": "2024-02-26T10:29:16.233261Z",
          "iopub.status.idle": "2024-02-26T10:29:46.025114Z",
          "shell.execute_reply": "2024-02-26T10:29:46.024472Z",
          "shell.execute_reply.started": "2024-02-26T10:29:16.233643Z"
        },
        "tags": [],
        "colab": {
          "base_uri": "https://localhost:8080/"
        },
        "id": "eadc5457-1f42-4dc0-aa47-fadeeae6927e",
        "outputId": "7e2dcdd4-203d-470b-cd94-030464ac99b2"
      },
      "outputs": [
        {
          "output_type": "stream",
          "name": "stdout",
          "text": [
            "No of documents retrieved after compression: 6\n",
            "Document 1:\n",
            "\n",
            "Fiscal Year 2022 Compared with Fiscal Year 2021  \n",
            "Revenue increased  $30.2  billion  or 18% driven by growth across each of our segments.\n",
            "----------------------------------------------------------------------------------------------------\n",
            "Document 2:\n",
            "\n",
            "Fiscal Year 2022 Compared with Fiscal Year 2021  \n",
            "Revenue increased  $30.2  billion  or 18% driven by growth across each of our segments.\n",
            "----------------------------------------------------------------------------------------------------\n",
            "Document 3:\n",
            "\n",
            "```\n",
            "Revenue    $ 198,270   \n",
            "$ 168,088      \n",
            "  18%   \n",
            "```\n",
            "----------------------------------------------------------------------------------------------------\n",
            "Document 4:\n",
            "\n",
            "Year Ended June  30,    2023     2022     2021   \n",
            "    \n",
            "United States  (a)   $ 106,744      $ 100,218      $ 83,953    \n",
            "Other countries      105,171        98,052        84,135    \n",
            "                 \n",
            "             \n",
            "Total    $ 211,915     $ 198,270      $ 168,088\n",
            "----------------------------------------------------------------------------------------------------\n",
            "Document 5:\n",
            "\n",
            "This section generally discusses the \n",
            "results of our operations for the year ended June 30, 2023  compared to the year ended June 30, 2022.\n",
            "\n",
            "Highlights from fiscal year 2023  compared with fiscal year 2022  included:  \n",
            "• Microsoft Cloud revenue increased 22% to $ 111.6 billion.  \n",
            "• Office Commercial products and cloud services revenue increased  10% driven by Office 365 Commercial \n",
            "growth of  13%. \n",
            "• Office Consumer products and cloud services revenue increased  2% and Microsoft 365 Consumer \n",
            "subscribers increased to 67.0 million.  \n",
            "• LinkedIn revenue increased  10%. \n",
            "• Dynamics products and cloud services revenue increased  16% driven by Dynamics 365 growth of 24%. \n",
            "• Server products and cloud services revenue increased  19% driven by Azure and other cloud services \n",
            "growth of 29%. \n",
            "• Windows original equipment manufacturer licensing (“Windows OEM”) revenue decreased  25%. \n",
            "• Devices revenue decreased  24%. \n",
            "• Windows Commercial products and cloud services revenue increased  5%. \n",
            "• Xbox content and services revenue decreased  3%.  \n",
            "• Search and news advertising revenue excluding traffic acquisition costs increased  11%.\n",
            "----------------------------------------------------------------------------------------------------\n",
            "Document 6:\n",
            "\n",
            ">>>\n",
            "Revenue                         \n",
            "\n",
            "Productivity and Business Processes   $ 69,274    $ 63,364    9%  \n",
            "Intelligent Cloud    87,907    74,965    17%  \n",
            "More Personal Computing    54,734      59,941     (9)%  \n",
            "         \n",
            "                \n",
            "Total    $ 211,915     $ 198,270      7%\n"
          ]
        }
      ],
      "source": [
        "from langchain.retrievers.document_compressors import LLMChainExtractor\n",
        "\n",
        "compressor = LLMChainExtractor.from_llm(llm)\n",
        "compression_retriever = ContextualCompressionRetriever(base_compressor=compressor,\n",
        "                                                       base_retriever=lotr)\n",
        "\n",
        "compressed_docs = compression_retriever.get_relevant_documents(\"Compare the Revenue trends of Microsoft between the years 2022 and 2023?\")\n",
        "print(\"No of documents retrieved after compression: \" + str(len(compressed_docs)))\n",
        "pretty_print_docs(compressed_docs)"
      ]
    },
    {
      "cell_type": "markdown",
      "id": "145e60a4-59b4-437d-9a8c-dec9cf7097d9",
      "metadata": {
        "execution": {
          "iopub.execute_input": "2024-02-09T09:05:38.264617Z",
          "iopub.status.busy": "2024-02-09T09:05:38.264251Z",
          "iopub.status.idle": "2024-02-09T09:05:38.268626Z",
          "shell.execute_reply": "2024-02-09T09:05:38.267981Z",
          "shell.execute_reply.started": "2024-02-09T09:05:38.264593Z"
        },
        "id": "145e60a4-59b4-437d-9a8c-dec9cf7097d9"
      },
      "source": [
        "**LLMChainFilter:** slightly simpler but more robust compressor that uses an LLM chain to decide which of the initially retrieved documents to filter out and which ones to return, without manipulating the document contents."
      ]
    },
    {
      "cell_type": "code",
      "execution_count": null,
      "id": "1aebee2a-c5cb-41be-afde-a2a1895bc155",
      "metadata": {
        "collapsed": true,
        "execution": {
          "iopub.execute_input": "2024-02-26T10:31:23.973988Z",
          "iopub.status.busy": "2024-02-26T10:31:23.973624Z",
          "iopub.status.idle": "2024-02-26T10:31:30.240442Z",
          "shell.execute_reply": "2024-02-26T10:31:30.239854Z",
          "shell.execute_reply.started": "2024-02-26T10:31:23.973965Z"
        },
        "jupyter": {
          "outputs_hidden": true
        },
        "tags": [],
        "id": "1aebee2a-c5cb-41be-afde-a2a1895bc155"
      },
      "outputs": [],
      "source": [
        "from langchain.retrievers.document_compressors import LLMChainFilter\n",
        "\n",
        "_filter = LLMChainFilter.from_llm(llm)\n",
        "compression_retriever = ContextualCompressionRetriever(base_compressor=_filter,\n",
        "                                                       base_retriever=lotr)\n",
        "compressed_docs = compression_retriever.get_relevant_documents(\"Compare the Revenue trends of Microsoft between the years 2022 and 2023?\")\n",
        "print(\"No of documents retrieved after compression: \" + str(len(compressed_docs)))\n",
        "pretty_print_docs(compressed_docs)"
      ]
    },
    {
      "cell_type": "markdown",
      "id": "9af971b0-57a3-4836-ab2d-7e12e4385403",
      "metadata": {
        "id": "9af971b0-57a3-4836-ab2d-7e12e4385403"
      },
      "source": [
        "**EmbeddingsFilter:** Making an extra LLM call over each retrieved document is expensive and slow. The EmbeddingsFilter provides a cheaper and faster option by embedding the documents and query and only returning those documents which have sufficiently similar embeddings to the query."
      ]
    },
    {
      "cell_type": "code",
      "execution_count": 61,
      "id": "c1b4ed5b-9de6-41b0-a302-4efd8f523783",
      "metadata": {
        "collapsed": true,
        "execution": {
          "iopub.execute_input": "2024-02-26T10:31:30.241739Z",
          "iopub.status.busy": "2024-02-26T10:31:30.241464Z",
          "iopub.status.idle": "2024-02-26T10:31:31.468637Z",
          "shell.execute_reply": "2024-02-26T10:31:31.468003Z",
          "shell.execute_reply.started": "2024-02-26T10:31:30.241720Z"
        },
        "jupyter": {
          "outputs_hidden": true
        },
        "tags": [],
        "colab": {
          "base_uri": "https://localhost:8080/"
        },
        "id": "c1b4ed5b-9de6-41b0-a302-4efd8f523783",
        "outputId": "92abda07-38eb-496e-9306-18d29dfd912b"
      },
      "outputs": [
        {
          "output_type": "stream",
          "name": "stdout",
          "text": [
            "No of documents retrieved after compression: 7\n",
            "Document 1:\n",
            "\n",
            "Products and Services Performance\n",
            "The following table shows net sales by category for 2023, 2022 and 2021 (dollars in millions):\n",
            "2023\n",
            "Change\n",
            "2022\n",
            "Change\n",
            "2021\n",
            "Net sales by category:\n",
            "iPhone \n",
            "$\n",
            "200,583 \n",
            "(2)\n",
            "%\n",
            "$\n",
            "205,489 \n",
            "7 \n",
            "%\n",
            "$\n",
            "191,973 \n",
            "Mac \n",
            "29,357 \n",
            "(27)\n",
            "%\n",
            "40,177 \n",
            "14 \n",
            "%\n",
            "35,190 \n",
            "iPad \n",
            "28,300 \n",
            "(3)\n",
            "%\n",
            "29,292 \n",
            "(8)\n",
            "%\n",
            "31,862 \n",
            "Wearables, Home and Accessories \n",
            "39,845 \n",
            "(3)\n",
            "%\n",
            "41,241 \n",
            "7 \n",
            "%\n",
            "38,367 \n",
            "Services \n",
            "85,200 \n",
            "9 \n",
            "%\n",
            "78,129 \n",
            "14 \n",
            "%\n",
            "68,425 \n",
            "Total net sales\n",
            "$\n",
            "383,285 \n",
            "(3)\n",
            "%\n",
            "$\n",
            "394,328 \n",
            "8 \n",
            "%\n",
            "$\n",
            "365,817 \n",
            "(1)\n",
            "Products net sales include amortization of the deferred value of unspeciﬁed software upgrade rights, which are bundled in the sales price of the respective\n",
            "product.\n",
            "(2)\n",
            "Services net sales include amortization of the deferred value of services bundled in the sales price of certain products.\n",
            "iPhone\n",
            "iPhone net sales decreased 2% or $4.9 billion during 2023 compared to 2022 due to lower net sales of non-Pro iPhone models, partially oﬀset by higher net sales of\n",
            "Pro iPhone models.\n",
            "Mac\n",
            "Mac net sales decreased 27% or $10.8 billion during 2023 compared to 2022 due primarily to lower net sales of laptops.\n",
            "iPad\n",
            "iPad net sales decreased 3% or $1.0 billion during 2023 compared to 2022 due primarily to lower net sales of iPad mini and iPad Air, partially oﬀset by the combined\n",
            "net sales of iPad 9th and 10th generation.\n",
            "Wearables, Home and Accessories\n",
            "Wearables, Home and Accessories net sales decreased 3% or $1.4 billion during 2023 compared to 2022 due primarily to lower net sales of Wearables and\n",
            "Accessories.\n",
            "Services\n",
            "Services net sales increased 9% or $7.1 billion during 2023 compared to 2022 due to higher net sales across all lines of business.\n",
            "(1)\n",
            "(1)\n",
            "(1)\n",
            "(1)\n",
            "(2)\n",
            "Apple Inc. | 2023 Form 10-K | 22\n",
            "----------------------------------------------------------------------------------------------------\n",
            "Document 2:\n",
            "\n",
            "Products and Services Performance\n",
            "The following table shows net sales by category for 2023, 2022 and 2021 (dollars in millions):\n",
            "2023\n",
            "Change\n",
            "2022\n",
            "Change\n",
            "2021\n",
            "Net sales by category:\n",
            "iPhone \n",
            "$\n",
            "200,583 \n",
            "(2)\n",
            "%\n",
            "$\n",
            "205,489 \n",
            "7 \n",
            "%\n",
            "$\n",
            "191,973 \n",
            "Mac \n",
            "29,357 \n",
            "(27)\n",
            "%\n",
            "40,177 \n",
            "14 \n",
            "%\n",
            "35,190 \n",
            "iPad \n",
            "28,300 \n",
            "(3)\n",
            "%\n",
            "29,292 \n",
            "(8)\n",
            "%\n",
            "31,862 \n",
            "Wearables, Home and Accessories \n",
            "39,845 \n",
            "(3)\n",
            "%\n",
            "41,241 \n",
            "7 \n",
            "%\n",
            "38,367 \n",
            "Services \n",
            "85,200 \n",
            "9 \n",
            "%\n",
            "78,129 \n",
            "14 \n",
            "%\n",
            "68,425 \n",
            "Total net sales\n",
            "$\n",
            "383,285 \n",
            "(3)\n",
            "%\n",
            "$\n",
            "394,328 \n",
            "8 \n",
            "%\n",
            "$\n",
            "365,817 \n",
            "(1)\n",
            "Products net sales include amortization of the deferred value of unspeciﬁed software upgrade rights, which are bundled in the sales price of the respective\n",
            "product.\n",
            "(2)\n",
            "Services net sales include amortization of the deferred value of services bundled in the sales price of certain products.\n",
            "iPhone\n",
            "iPhone net sales decreased 2% or $4.9 billion during 2023 compared to 2022 due to lower net sales of non-Pro iPhone models, partially oﬀset by higher net sales of\n",
            "Pro iPhone models.\n",
            "Mac\n",
            "Mac net sales decreased 27% or $10.8 billion during 2023 compared to 2022 due primarily to lower net sales of laptops.\n",
            "iPad\n",
            "iPad net sales decreased 3% or $1.0 billion during 2023 compared to 2022 due primarily to lower net sales of iPad mini and iPad Air, partially oﬀset by the combined\n",
            "net sales of iPad 9th and 10th generation.\n",
            "Wearables, Home and Accessories\n",
            "Wearables, Home and Accessories net sales decreased 3% or $1.4 billion during 2023 compared to 2022 due primarily to lower net sales of Wearables and\n",
            "Accessories.\n",
            "Services\n",
            "Services net sales increased 9% or $7.1 billion during 2023 compared to 2022 due to higher net sales across all lines of business.\n",
            "(1)\n",
            "(1)\n",
            "(1)\n",
            "(1)\n",
            "(2)\n",
            "Apple Inc. | 2023 Form 10-K | 22\n",
            "----------------------------------------------------------------------------------------------------\n",
            "Document 3:\n",
            "\n",
            "Net sales disaggregated by significant products and services for 2023, 2022 and 2021 were as follows (in millions):\n",
            "2023\n",
            "2022\n",
            "2021\n",
            "iPhone \n",
            "$\n",
            "200,583\n",
            " \n",
            "$\n",
            "205,489\n",
            " \n",
            "$\n",
            "191,973\n",
            " \n",
            "Mac \n",
            "29,357\n",
            " \n",
            "40,177\n",
            " \n",
            "35,190\n",
            " \n",
            "iPad \n",
            "28,300\n",
            " \n",
            "29,292\n",
            " \n",
            "31,862\n",
            " \n",
            "Wearables, Home and Accessories \n",
            "39,845\n",
            " \n",
            "41,241\n",
            " \n",
            "38,367\n",
            " \n",
            "Services \n",
            "85,200\n",
            " \n",
            "78,129\n",
            " \n",
            "68,425\n",
            " \n",
            "Total net sales\n",
            "$\n",
            "383,285\n",
            " \n",
            "$\n",
            "394,328\n",
            " \n",
            "$\n",
            "365,817\n",
            " \n",
            "(1)\n",
            "Products net sales include amortization of the deferred value of unspeciﬁed software upgrade rights, which are bundled in the sales price of the respective\n",
            "product.\n",
            "(2)\n",
            "Services net sales include amortization of the deferred value of services bundled in the sales price of certain products.\n",
            "Total net sales include $\n",
            "8.2\n",
            " billion of revenue recognized in 2023 that was included in deferred revenue as of September 24, 2022, $\n",
            "7.5\n",
            " billion of revenue recognized\n",
            "in 2022 that was included in deferred revenue as of September 25, 2021, and $\n",
            "6.7\n",
            " billion of revenue recognized in 2021 that was included in deferred revenue as of\n",
            "September 26, 2020.\n",
            "The Company’s proportion of net sales by disaggregated revenue source was generally consistent for each reportable segment in Note 13, “Segment Information and\n",
            "Geographic Data” for 2023, 2022 and 2021, except in Greater China, where iPhone revenue represented a moderately higher proportion of net sales.\n",
            "As of September 30, 2023 and September 24, 2022, the Company had total deferred revenue of $\n",
            "12.1\n",
            " billion and $\n",
            "12.4\n",
            " billion, respectively. As of September 30,\n",
            "2023, the Company expects \n",
            "67\n",
            "% of total deferred revenue to be realized in less than a year, \n",
            "25\n",
            "% within one-to-two years, \n",
            "7\n",
            "% within two-to-three years and \n",
            "1\n",
            "% in\n",
            "greater than three years.\n",
            "Note 3 – \n",
            "Earnings Per Share\n",
            "The following table shows the computation of basic and diluted earnings per share for 2023, 2022 and 2021 (net income in millions and shares in thousands):\n",
            "2023\n",
            "2022\n",
            "2021\n",
            "Numerator:\n",
            "Net income\n",
            "$\n",
            "96,995\n",
            " \n",
            "$\n",
            "99,803\n",
            " \n",
            "$\n",
            "94,680\n",
            " \n",
            "Denominator:\n",
            "Weighted-average basic shares outstanding\n",
            "15,744,231\n",
            " \n",
            "16,215,963\n",
            " \n",
            "16,701,272\n",
            " \n",
            "Effect of dilutive share-based awards\n",
            "68,316\n",
            " \n",
            "109,856\n",
            " \n",
            "163,647\n",
            " \n",
            "Weighted-average diluted shares\n",
            "15,812,547\n",
            " \n",
            "16,325,819\n",
            " \n",
            "16,864,919\n",
            " \n",
            "Basic earnings per share\n",
            "$\n",
            "6.16\n",
            " \n",
            "$\n",
            "6.15\n",
            " \n",
            "$\n",
            "5.67\n",
            " \n",
            "Diluted earnings per share\n",
            "$\n",
            "6.13\n",
            " \n",
            "$\n",
            "6.11\n",
            " \n",
            "$\n",
            "5.61\n",
            " \n",
            "Approximately \n",
            "24\n",
            " million restricted stock units (“RSUs”) were excluded from the computation of diluted earnings per share for 2023 because their eﬀect would have\n",
            "been antidilutive.\n",
            "(1)\n",
            "(1)\n",
            "(1)\n",
            "(1)\n",
            "(2)\n",
            "Apple Inc. | 2023 Form 10-K | 35\n",
            "----------------------------------------------------------------------------------------------------\n",
            "Document 4:\n",
            "\n",
            "Apple Inc.\n",
            "CONSOLIDATED STATEMENTS OF OPERATIONS\n",
            "(In millions, except number of shares, which are reflected in thousands, and per-share amounts)\n",
            "Years ended\n",
            "September 30,\n",
            "2023\n",
            "September 24,\n",
            "2022\n",
            "September 25,\n",
            "2021\n",
            "Net sales:\n",
            "   Products\n",
            "$\n",
            "298,085\n",
            " \n",
            "$\n",
            "316,199\n",
            " \n",
            "$\n",
            "297,392\n",
            " \n",
            "   Services\n",
            "85,200\n",
            " \n",
            "78,129\n",
            " \n",
            "68,425\n",
            " \n",
            "Total net sales\n",
            "383,285\n",
            " \n",
            "394,328\n",
            " \n",
            "365,817\n",
            " \n",
            "Cost of sales:\n",
            "   Products\n",
            "189,282\n",
            " \n",
            "201,471\n",
            " \n",
            "192,266\n",
            " \n",
            "   Services\n",
            "24,855\n",
            " \n",
            "22,075\n",
            " \n",
            "20,715\n",
            " \n",
            "Total cost of sales\n",
            "214,137\n",
            " \n",
            "223,546\n",
            " \n",
            "212,981\n",
            " \n",
            "Gross margin\n",
            "169,148\n",
            " \n",
            "170,782\n",
            " \n",
            "152,836\n",
            " \n",
            "Operating expenses:\n",
            "Research and development\n",
            "29,915\n",
            " \n",
            "26,251\n",
            " \n",
            "21,914\n",
            " \n",
            "Selling, general and administrative\n",
            "24,932\n",
            " \n",
            "25,094\n",
            " \n",
            "21,973\n",
            " \n",
            "Total operating expenses\n",
            "54,847\n",
            " \n",
            "51,345\n",
            " \n",
            "43,887\n",
            " \n",
            "Operating income\n",
            "114,301\n",
            " \n",
            "119,437\n",
            " \n",
            "108,949\n",
            " \n",
            "Other income/(expense), net\n",
            "(\n",
            "565\n",
            ")\n",
            "(\n",
            "334\n",
            ")\n",
            "258\n",
            " \n",
            "Income before provision for income taxes\n",
            "113,736\n",
            " \n",
            "119,103\n",
            " \n",
            "109,207\n",
            " \n",
            "Provision for income taxes\n",
            "16,741\n",
            " \n",
            "19,300\n",
            " \n",
            "14,527\n",
            " \n",
            "Net income\n",
            "$\n",
            "96,995\n",
            " \n",
            "$\n",
            "99,803\n",
            " \n",
            "$\n",
            "94,680\n",
            " \n",
            "Earnings per share:\n",
            "Basic\n",
            "$\n",
            "6.16\n",
            " \n",
            "$\n",
            "6.15\n",
            " \n",
            "$\n",
            "5.67\n",
            " \n",
            "Diluted\n",
            "$\n",
            "6.13\n",
            " \n",
            "$\n",
            "6.11\n",
            " \n",
            "$\n",
            "5.61\n",
            " \n",
            "Shares used in computing earnings per share:\n",
            "Basic\n",
            "15,744,231\n",
            " \n",
            "16,215,963\n",
            " \n",
            "16,701,272\n",
            " \n",
            "Diluted\n",
            "15,812,547\n",
            " \n",
            "16,325,819\n",
            " \n",
            "16,864,919\n",
            " \n",
            "See accompanying Notes to Consolidated Financial Statements.\n",
            "Apple Inc. | 2023 Form 10-K | 28\n",
            "----------------------------------------------------------------------------------------------------\n",
            "Document 5:\n",
            "\n",
            "Products and Services Performance\n",
            "The following table shows net sales by category for 2022, 2021 and 2020 (dollars in millions):\n",
            "2022\n",
            "Change\n",
            "2021\n",
            "Change\n",
            "2020\n",
            "Net sales by category:\n",
            "iPhone\n",
            "$\n",
            "205,489 \n",
            "7 \n",
            "%\n",
            "$\n",
            "191,973 \n",
            "39 \n",
            "%\n",
            "$\n",
            "137,781 \n",
            "Mac \n",
            "40,177 \n",
            "14 \n",
            "%\n",
            "35,190 \n",
            "23 \n",
            "%\n",
            "28,622 \n",
            "iPad\n",
            "29,292 \n",
            "(8)\n",
            "%\n",
            "31,862 \n",
            "34 \n",
            "%\n",
            "23,724 \n",
            "Wearables, Home and Accessories \n",
            "41,241 \n",
            "7 \n",
            "%\n",
            "38,367 \n",
            "25 \n",
            "%\n",
            "30,620 \n",
            "Services \n",
            "78,129 \n",
            "14 \n",
            "%\n",
            "68,425 \n",
            "27 \n",
            "%\n",
            "53,768 \n",
            "Total net sales\n",
            "$\n",
            "394,328 \n",
            "8 \n",
            "%\n",
            "$\n",
            "365,817 \n",
            "33 \n",
            "%\n",
            "$\n",
            "274,515 \n",
            "(1)\n",
            "Products net sales include amortization of the deferred value of unspeciﬁed software upgrade rights, which are bundled in the sales price of the respective\n",
            "product.\n",
            "(2)\n",
            "Wearables, Home and Accessories net sales include sales of AirPods, Apple TV, Apple Watch, Beats products, HomePod mini and accessories.\n",
            "(3)\n",
            "Services net sales include sales from the Company’s advertising, AppleCare, cloud, digital content, payment and other services. Services net sales also include\n",
            "amortization of the deferred value of services bundled in the sales price of certain products.\n",
            "iPhone\n",
            "iPhone net sales increased during 2022 compared to 2021 due primarily to higher net sales from the Company’s new iPhone models released since the beginning of\n",
            "the fourth quarter of 2021.\n",
            "Mac\n",
            "Mac net sales increased during 2022 compared to 2021 due primarily to higher net sales of laptops.\n",
            "iPad\n",
            "iPad net sales decreased during 2022 compared to 2021 due primarily to lower net sales of iPad Pro.\n",
            "Wearables, Home and Accessories\n",
            "Wearables, Home and Accessories net sales increased during 2022 compared to 2021 due primarily to higher net sales of Apple Watch and AirPods.\n",
            "Services\n",
            "Services net sales increased during 2022 compared to 2021 due primarily to higher net sales from advertising, cloud services and the App Store.\n",
            " (1)\n",
            "(1)\n",
            " (1)\n",
            "(1)(2)\n",
            "(3)\n",
            "Apple Inc. | 2022 Form 10-K | 21\n",
            "----------------------------------------------------------------------------------------------------\n",
            "Document 6:\n",
            "\n",
            "Apple Inc.\n",
            "CONSOLIDATED STATEMENTS OF OPERATIONS\n",
            "(In millions, except number of shares which are reflected in thousands and per share amounts)\n",
            "Years ended\n",
            "September 24,\n",
            "2022\n",
            "September 25,\n",
            "2021\n",
            "September 26,\n",
            "2020\n",
            "Net sales:\n",
            "   Products\n",
            "$\n",
            "316,199\n",
            " \n",
            "$\n",
            "297,392\n",
            " \n",
            "$\n",
            "220,747\n",
            " \n",
            "   Services\n",
            "78,129\n",
            " \n",
            "68,425\n",
            " \n",
            "53,768\n",
            " \n",
            "Total net sales\n",
            "394,328\n",
            " \n",
            "365,817\n",
            " \n",
            "274,515\n",
            " \n",
            "Cost of sales:\n",
            "   Products\n",
            "201,471\n",
            " \n",
            "192,266\n",
            " \n",
            "151,286\n",
            " \n",
            "   Services\n",
            "22,075\n",
            " \n",
            "20,715\n",
            " \n",
            "18,273\n",
            " \n",
            "Total cost of sales\n",
            "223,546\n",
            " \n",
            "212,981\n",
            " \n",
            "169,559\n",
            " \n",
            "Gross margin\n",
            "170,782\n",
            " \n",
            "152,836\n",
            " \n",
            "104,956\n",
            " \n",
            "Operating expenses:\n",
            "Research and development\n",
            "26,251\n",
            " \n",
            "21,914\n",
            " \n",
            "18,752\n",
            " \n",
            "Selling, general and administrative\n",
            "25,094\n",
            " \n",
            "21,973\n",
            " \n",
            "19,916\n",
            " \n",
            "Total operating expenses\n",
            "51,345\n",
            " \n",
            "43,887\n",
            " \n",
            "38,668\n",
            " \n",
            "Operating income\n",
            "119,437\n",
            " \n",
            "108,949\n",
            " \n",
            "66,288\n",
            " \n",
            "Other income/(expense), net\n",
            "(\n",
            "334\n",
            ")\n",
            "258\n",
            " \n",
            "803\n",
            " \n",
            "Income before provision for income taxes\n",
            "119,103\n",
            " \n",
            "109,207\n",
            " \n",
            "67,091\n",
            " \n",
            "Provision for income taxes\n",
            "19,300\n",
            " \n",
            "14,527\n",
            " \n",
            "9,680\n",
            " \n",
            "Net income\n",
            "$\n",
            "99,803\n",
            " \n",
            "$\n",
            "94,680\n",
            " \n",
            "$\n",
            "57,411\n",
            " \n",
            "Earnings per share:\n",
            "Basic\n",
            "$\n",
            "6.15\n",
            " \n",
            "$\n",
            "5.67\n",
            " \n",
            "$\n",
            "3.31\n",
            " \n",
            "Diluted\n",
            "$\n",
            "6.11\n",
            " \n",
            "$\n",
            "5.61\n",
            " \n",
            "$\n",
            "3.28\n",
            " \n",
            "Shares used in computing earnings per share:\n",
            "Basic\n",
            "16,215,963\n",
            " \n",
            "16,701,272\n",
            " \n",
            "17,352,119\n",
            " \n",
            "Diluted\n",
            "16,325,819\n",
            " \n",
            "16,864,919\n",
            " \n",
            "17,528,214\n",
            " \n",
            "See accompanying Notes to Consolidated Financial Statements.\n",
            "Apple Inc. | 2022 Form 10-K | 29\n",
            "----------------------------------------------------------------------------------------------------\n",
            "Document 7:\n",
            "\n",
            "Statements (Part II, Item 8 of this Form 10 -K) for further discussion.  \n",
            "Fiscal Year 2022 Compared with Fiscal Year 2021  \n",
            "Revenue increased  $30.2  billion  or 18% driven by growth across each of our segments. Intelligent Cloud revenue \n",
            "increased  driven by Azure and other cloud services. Productivity and Business Processes revenue increased  driven \n",
            "by Office 365 Commercial and LinkedIn. More Personal Computing revenue increased  driven by Search and news \n",
            "advertising and Windows .  \n",
            "Cost of revenue increased  $10.4 billion  or 20% driven by growth in Microsoft Cloud.  \n",
            "Gross margin increased  $19.8 billion  or 17% driven by growth across each of our segments.  \n",
            "• Gross margin percentage decreased slightly. Excluding the impact of the fiscal year 2021 change in \n",
            "accounting estimate  for the useful lives of our server and network equipment , gross margin percentage \n",
            "increased 1 point driven by improvement  in Productivity and Business Processes .\n"
          ]
        }
      ],
      "source": [
        "from langchain.retrievers.document_compressors import EmbeddingsFilter\n",
        "\n",
        "embeddings_filter = EmbeddingsFilter(embeddings=embeddings, similarity_threshold=0.83) # change to 0.8 to see the reduction in the num of docs retrieved\n",
        "compression_retriever = ContextualCompressionRetriever(base_compressor=embeddings_filter,\n",
        "                                                       base_retriever=lotr)\n",
        "compressed_docs = compression_retriever.get_relevant_documents(\"Compare the 2023 Revenue of Microsoft and Apple?\")\n",
        "print(\"No of documents retrieved after compression: \" + str(len(compressed_docs)))\n",
        "pretty_print_docs(compressed_docs)"
      ]
    },
    {
      "cell_type": "markdown",
      "id": "2875776b-e343-443e-9370-4f7acc211ed1",
      "metadata": {
        "id": "2875776b-e343-443e-9370-4f7acc211ed1"
      },
      "source": [
        "**EmbeddingsRedundantFilter:** Removes redundant documents from the initial returned documents"
      ]
    },
    {
      "cell_type": "code",
      "execution_count": 63,
      "id": "8f26ebac-0385-4511-a240-0d5929de547c",
      "metadata": {
        "collapsed": true,
        "execution": {
          "iopub.execute_input": "2024-02-26T10:45:06.757501Z",
          "iopub.status.busy": "2024-02-26T10:45:06.757073Z",
          "iopub.status.idle": "2024-02-26T10:45:38.820940Z",
          "shell.execute_reply": "2024-02-26T10:45:38.820348Z",
          "shell.execute_reply.started": "2024-02-26T10:45:06.757474Z"
        },
        "jupyter": {
          "outputs_hidden": true
        },
        "tags": [],
        "colab": {
          "base_uri": "https://localhost:8080/",
          "height": 685
        },
        "id": "8f26ebac-0385-4511-a240-0d5929de547c",
        "outputId": "26a5dfef-3f4b-4826-a3b8-6fe18e7dd2af"
      },
      "outputs": [
        {
          "output_type": "display_data",
          "data": {
            "text/plain": [
              "<IPython.core.display.Markdown object>"
            ],
            "text/markdown": "Answer: The 2023 revenue figures are `$`211.915 billion for Apple and `$`111.6 billion for Microsoft."
          },
          "metadata": {}
        },
        {
          "output_type": "stream",
          "name": "stdout",
          "text": [
            "=============================================================================================================\n"
          ]
        },
        {
          "output_type": "display_data",
          "data": {
            "text/plain": [
              "<IPython.core.display.Markdown object>"
            ],
            "text/markdown": "Document 1:\n\nProducts and Services Performance\nThe following table shows net sales by category for 2022, 2021 and 2020 (dollars in millions):\n2022\nChange\n2021\nChange\n2020\nNet sales by category:\niPhone\n`$`\n205,489 \n7 \n%\n`$`\n191,973 \n39 \n%\n`$`\n137,781 \nMac \n40,177 \n14 \n%\n35,190 \n23 \n%\n28,622 \niPad\n29,292 \n(8)\n%\n31,862 \n34 \n%\n23,724 \nWearables, Home and Accessories \n41,241 \n7 \n%\n38,367 \n25 \n%\n30,620 \nServices \n78,129 \n14 \n%\n68,425 \n27 \n%\n53,768 \nTotal net sales\n`$`\n394,328 \n8 \n%\n`$`\n365,817 \n33 \n%\n`$`\n274,515 \n(1)\nProducts net sales include amortization of the deferred value of unspeciﬁed software upgrade rights, which are bundled in the sales price of the respective\nproduct.\n(2)\nWearables, Home and Accessories net sales include sales of AirPods, Apple TV, Apple Watch, Beats products, HomePod mini and accessories.\n(3)\nServices net sales include sales from the Company’s advertising, AppleCare, cloud, digital content, payment and other services. Services net sales also include\namortization of the deferred value of services bundled in the sales price of certain products.\niPhone\niPhone net sales increased during 2022 compared to 2021 due primarily to higher net sales from the Company’s new iPhone models released since the beginning of\nthe fourth quarter of 2021.\nMac\nMac net sales increased during 2022 compared to 2021 due primarily to higher net sales of laptops.\niPad\niPad net sales decreased during 2022 compared to 2021 due primarily to lower net sales of iPad Pro.\nWearables, Home and Accessories\nWearables, Home and Accessories net sales increased during 2022 compared to 2021 due primarily to higher net sales of Apple Watch and AirPods.\nServices\nServices net sales increased during 2022 compared to 2021 due primarily to higher net sales from advertising, cloud services and the App Store.\n (1)\n(1)\n (1)\n(1)(2)\n(3)\nApple Inc. | 2022 Form 10-K | 21\n\n{'page': 24, 'source': '/content/RAG/data/Apple_2022.pdf'}\n-.-.-.-.-.-.-.-.-.-.-.-.-.-.-.-.-.-.-.-.-.-.-.-.-.-.-.-.-.-.-.-.-.-.-.-.-.-.-.-.-.-.-.-.-.-.-.-.-.-.-.-.-.-.-.-.-.-.-.-.-.-.-.-.-.-.-.-.-.-.-.-.-.-.-.-.-.-.-.-.-.-.-.-.-.-.-.-.-.-.-.-.-.-.-.-.-.-.-.-.\n\nDocument 2:\n\nTotal    `$` 211,915     `$` 198,270      `$` 168,088    \n                       \nOur Microsoft Cloud  revenue, which includes Azure and other cloud services, Office 365 Commercial, the commercial \nportion of LinkedIn, Dynamics 365, and other commercial cloud properties, was `$` 111.6 billion, `$` 91.4 billion , and `$` 69.1 \nbillion in fiscal years 2023 , 2022 , and 2021 , respectively. These amounts are primarily included in Server products and \ncloud services, Office products and cloud services, LinkedIn , and Dynamics  in the table above.  \nAssets are not allocated to segments for internal reporting presentations. A portion of amortization and depreciation is \nincluded with various other costs in an overhead allocation to each segment. It is impracticable for us to separately \nidentify the amount of amortization and depreciation by segment that is inclu ded in the measure of segment profit or \nloss. \nLong -lived assets, excluding financial instruments and tax assets, classified by the location of the controlling statutory \ncompany and with countries over 10% of the total shown separately, were as follows:  \n \n(In millions)        \n   \n     \nJune  30,    2023     2022     2021   \n    \nUnited States    `$` 114,380      `$` 106,430      `$` 76,153    \nIreland      16,359        15,505        13,303    \nOther countries      56,50 0       44,433        38,858                                  \nTotal    `$` 187,2 39     `$` 166,368      `$`  128,314\n\n{'page': 91, 'source': '/content/RAG/data/Microsoft_2023.pdf'}"
          },
          "metadata": {}
        },
        {
          "output_type": "stream",
          "name": "stdout",
          "text": [
            "No of documents retrieved2\n"
          ]
        }
      ],
      "source": [
        "from langchain.document_transformers  import EmbeddingsRedundantFilter\n",
        "\n",
        "_filter = EmbeddingsRedundantFilter(embeddings=embeddings,similarity_threshold=0.83)\n",
        "pipeline = DocumentCompressorPipeline(transformers=[_filter])\n",
        "compression_retriever = ContextualCompressionRetriever(base_compressor=pipeline,\n",
        "                                                       base_retriever=lotr)\n",
        "query = \"Compare the 2023 Revenue of Microsoft and Apple\"\n",
        "# print(\"No of documents retrieved after removing redundant documents: \" + str(len(compressed_docs)))\n",
        "pretty_print_result(query, llm, compression_retriever)"
      ]
    },
    {
      "cell_type": "code",
      "execution_count": null,
      "id": "db022a38-2740-49e8-8ab5-9e5666cdae4e",
      "metadata": {
        "id": "db022a38-2740-49e8-8ab5-9e5666cdae4e"
      },
      "outputs": [],
      "source": [
        "# identify the doc that got removed due to reduncdancy"
      ]
    },
    {
      "cell_type": "markdown",
      "id": "6a4f356a-eb65-4664-8ea1-2a6964974eff",
      "metadata": {
        "id": "6a4f356a-eb65-4664-8ea1-2a6964974eff"
      },
      "source": [
        "## Type4 - Multi Query Retriever\n",
        "\n",
        "The MultiQueryRetriever automates the process of prompt tuning by using an LLM to generate multiple queries from different perspectives for a given user input query. For each query, it retrieves a set of relevant documents and takes the unique union across all queries to get a larger set of potentially relevant documents.\n",
        "\n",
        "By generating multiple perspectives on the same question, the MultiQueryRetriever might be able to overcome some of the limitations of the distance-based retrieval and get a richer set of results."
      ]
    },
    {
      "cell_type": "code",
      "execution_count": 49,
      "id": "830b4818-693d-4434-b98f-243cd6ba2a45",
      "metadata": {
        "execution": {
          "iopub.execute_input": "2024-02-26T10:45:38.822257Z",
          "iopub.status.busy": "2024-02-26T10:45:38.821986Z",
          "iopub.status.idle": "2024-02-26T10:45:38.825857Z",
          "shell.execute_reply": "2024-02-26T10:45:38.825359Z",
          "shell.execute_reply.started": "2024-02-26T10:45:38.822237Z"
        },
        "tags": [],
        "id": "830b4818-693d-4434-b98f-243cd6ba2a45"
      },
      "outputs": [],
      "source": [
        "from langchain.retrievers.multi_query import MultiQueryRetriever\n",
        "# Set logging for the queries\n",
        "import logging\n",
        "\n",
        "logging.basicConfig()\n",
        "logging.getLogger(\"langchain.retrievers.multi_query\").setLevel(logging.INFO)\n",
        "\n",
        "multi_query_retriever = MultiQueryRetriever.from_llm(retriever=compression_retriever,\n",
        "                                                     llm=llm)"
      ]
    },
    {
      "cell_type": "code",
      "execution_count": 51,
      "id": "04c34df0-d526-41b1-bfee-afcd9045ea64",
      "metadata": {
        "collapsed": true,
        "execution": {
          "iopub.execute_input": "2024-02-26T10:45:38.826793Z",
          "iopub.status.busy": "2024-02-26T10:45:38.826524Z",
          "iopub.status.idle": "2024-02-26T10:46:13.656420Z",
          "shell.execute_reply": "2024-02-26T10:46:13.655746Z",
          "shell.execute_reply.started": "2024-02-26T10:45:38.826776Z"
        },
        "jupyter": {
          "outputs_hidden": true
        },
        "tags": [],
        "colab": {
          "base_uri": "https://localhost:8080/",
          "height": 1000
        },
        "id": "04c34df0-d526-41b1-bfee-afcd9045ea64",
        "outputId": "57f864f9-45fb-4a52-981c-4e16c6f1cd3d"
      },
      "outputs": [
        {
          "output_type": "stream",
          "name": "stderr",
          "text": [
            "INFO:langchain.retrievers.multi_query:Generated queries: ['1. What are the current trends in the growth of Microsoft Windows users?', '2. In what ways has the Microsoft Windows user population expanded recently?', '3. How has the number of Microsoft Windows users changed over time?']\n"
          ]
        },
        {
          "output_type": "display_data",
          "data": {
            "text/plain": [
              "<IPython.core.display.Markdown object>"
            ],
            "text/markdown": "Answer: The user base for Microsoft Windows is facing challenges due to regulatory actions, competition, and the potential for increased product development costs. However, Microsoft's Intelligent Cloud revenue, including Azure and other cloud services, has grown significantly. The company continues to expand its portfolio of first-party devices and offers a wide range of services and products, indicating a mixed but potentially positive growth trajectory for its user base."
          },
          "metadata": {}
        },
        {
          "output_type": "stream",
          "name": "stdout",
          "text": [
            "=============================================================================================================\n"
          ]
        },
        {
          "output_type": "display_data",
          "data": {
            "text/plain": [
              "<IPython.core.display.Markdown object>"
            ],
            "text/markdown": "Document 1:\n\ncompetition in web browsing software, including an undertaking to address Commission concerns relating to \ninteroperability. The web browsing commitments expired in 2014. The remaining obligations may limit our ability to \ninnovate in Windows or other products in the future, diminish the developer appeal of the Windows platform, and \nincrease our product development costs. The availability of licenses related to protocols and file formats may enable \ncompetitors to develop software produc ts that better mimic the functionality of our products, which could hamper sales \nof our  products.  \nOur portfolio of first -party devices continues to grow; at the same time our OEM partners offer a large variety of devices \nfor our platforms. As a result, increasingly we both cooperate and compete with our OEM partners, creating a risk that \nwe fail to do so in compliance with competition rules. Regulatory scrutiny in this area may increase. Certain foreign \ngovernments, particularly in China and other countries in Asia, have advanced arguments under their competition laws \nthat exert downward pressure on roy alties for our intellectual property.  \nGovernment regulatory actions and court decisions such as these may result in fines or hinder our ability to provide \nthe benefits of our software to consumers and businesses, reducing the attractiveness of our products and the revenue\n\n{'page': 28, 'source': '/content/RAG/data/Microsoft_2022.pdf'}\n-.-.-.-.-.-.-.-.-.-.-.-.-.-.-.-.-.-.-.-.-.-.-.-.-.-.-.-.-.-.-.-.-.-.-.-.-.-.-.-.-.-.-.-.-.-.-.-.-.-.-.-.-.-.-.-.-.-.-.-.-.-.-.-.-.-.-.-.-.-.-.-.-.-.-.-.-.-.-.-.-.-.-.-.-.-.-.-.-.-.-.-.-.-.-.-.-.-.-.-.\n\nDocument 2:\n\nrespectively.  \nIntelligent Cloud  \nRevenue increased  `$`12.9  billion or 17%. \n• Server products and cloud services revenue increased `$` 12.6 billion or 19% driven by Azure and other cloud \nservices. Azure and other cloud services revenue grew 29% driven by  growth in our consumption -based \nservices. Server products revenue decreased 1% . \n• Enterprise Services revenue increased `$` 315 million or 4% driven by growth in Enterprise Support Services, \noffset in part by a decline in Industry Solutions (formerly Microsoft Consulting Services ).\n\n{'page': 41, 'source': '/content/RAG/data/Microsoft_2023.pdf'}\n-.-.-.-.-.-.-.-.-.-.-.-.-.-.-.-.-.-.-.-.-.-.-.-.-.-.-.-.-.-.-.-.-.-.-.-.-.-.-.-.-.-.-.-.-.-.-.-.-.-.-.-.-.-.-.-.-.-.-.-.-.-.-.-.-.-.-.-.-.-.-.-.-.-.-.-.-.-.-.-.-.-.-.-.-.-.-.-.-.-.-.-.-.-.-.-.-.-.-.-.\n\nDocument 3:\n\ncustomers and help people and businesses realize their full potential.  \nWe offer an array of services, including cloud -based solutions that provide customers with software, services, \nplatforms, and content, and we provide solution support and consulting services. We also deliver relevant online \nadvertising to a global audience . \nOur products include operating systems, cross -device productivity and collaboration applications, server applications, \nbusiness solution applications, desktop and server management tools, software development tools, and video games. \nWe also design and sell  devices, including PCs, tablets, gaming and entertainment consoles, other intelligent devices, \nand related accessories.\n\n{'page': 3, 'source': '/content/RAG/data/Microsoft_2023.pdf'}\n-.-.-.-.-.-.-.-.-.-.-.-.-.-.-.-.-.-.-.-.-.-.-.-.-.-.-.-.-.-.-.-.-.-.-.-.-.-.-.-.-.-.-.-.-.-.-.-.-.-.-.-.-.-.-.-.-.-.-.-.-.-.-.-.-.-.-.-.-.-.-.-.-.-.-.-.-.-.-.-.-.-.-.-.-.-.-.-.-.-.-.-.-.-.-.-.-.-.-.-.\n\nDocument 4:\n\nPART I  \nItem 1 \n \n17 PC manufacturers, which source Microsoft software for pre -installation and local redistribution primarily through the \nMicrosoft distributor channel rather than through a direct agreement or relationship with Microsoft.  \nDirect  \nMany organizations that license our products and services transact directly with us through Enterprise Agreements \nand Enterprise Services contracts, with sales support from system integrators, independent software vendors, web \nagencies, and partners that a dvise organizations on licensing our products and services (“Enterprise Agreement \nSoftware Advisors” or “ESA”). Microsoft offers direct sales programs targeted to reach small, medium, and corporate \ncustomers, in addition to those offered through the resell er channel. A large network of partner advisors support many \nof these sales.  \nWe also sell commercial and consumer products and services directly to customers, such as cloud services, search, \nand gaming, through our digital marketplaces and online stores. Additionally, our  Microsoft Experience Centers are \ndesigned to facilitate deeper engagement with our partners and customers across industries.  \nDistributors and Resellers  \nOrganizations also license our products and services indirectly, primarily through licensing solution partners (“LSP”), \ndistributors, value -added resellers (“VAR”), and retailers. Although each type of reselling partner may reach \norganizations of all sizes , LSPs are primarily engaged with large organizations, distributors resell primarily to VARs, \nand VARs typically reach small and medium organizations. ESAs are also typically authorized as LSPs and operate \nas resellers for our other volume licensing progra ms. Microsoft Cloud Solution Provider is our main partner program \nfor reselling cloud services.  \nWe distribute our retail packaged products primarily through independent non -exclusive distributors, authorized \nreplicators, resellers, and retail outlets. Individual consumers obtain these products primarily through retail outlets. We \ndistribute our devic es through third -party retailers. We have a network of field sales representatives and field support \npersonnel that solicit orders from distributors and resellers and provide product training and sales support.  \nOur Dynamics business solutions are also licensed to enterprises through a global network of channel partners \nproviding vertical solutions and specialized services.  \nLICENSING OPTIONS  \nWe offer options for organizations that want to purchase our cloud services, on -premises software, and SA. We license \nsoftware to organizations under volume licensing agreements to allow the customer to acquire multiple licenses of \nproducts and services in stead of having to acquire separate licenses through retail channels. We use different \nprograms designed to provide flexibility for organizations of various sizes. While these programs may differ in various \nparts of the world, generally they include those discussed below.  \nSA conveys rights to new software and upgrades for perpetual licenses released over the contract period. It also \nprovides support, tools, training, and other licensing benefits to help customers deploy and use software efficiently. SA \nis included with cert ain volume licensing agreements and is an optional purchase with others.  \nVolume Licensing Programs  \nEnterprise  Agreement   \nEnterprise Agreements offer large organizations a manageable volume licensing program that gives them the flexibility \nto buy cloud services and software licenses under one agreement. Enterprise Agreements are designed for medium \nor large organizations that  want to license cloud services and on -premises software organization -wide over a three -\nyear period. Organizations can elect to purchase perpetual licenses or subscribe to licenses. SA is included.  \nMicrosoft Customer Agreement  \nA Microsoft Customer Agreement is a simplified purchase agreement presented, accepted, and stored through a digital \nexperience. A Microsoft Customer Agreement is a non -expiring agreement that is designed to support all customers \nover time, whether purchasi ng through a partner or directly from Microsoft.\n\n{'page': 17, 'source': '/content/RAG/data/Microsoft_2023.pdf'}"
          },
          "metadata": {}
        },
        {
          "output_type": "stream",
          "name": "stdout",
          "text": [
            "No of documents retrieved4\n"
          ]
        }
      ],
      "source": [
        "query = \"How Microsoft windows user base growing?\"# same question write it in a bad way and see if it gets better with this retriever.\n",
        "pretty_print_result(query, llm, multi_query_retriever)"
      ]
    },
    {
      "cell_type": "code",
      "execution_count": 54,
      "id": "a1594def-3b31-4053-9db4-3c434ff5786c",
      "metadata": {
        "collapsed": true,
        "execution": {
          "iopub.execute_input": "2024-02-26T10:46:13.657966Z",
          "iopub.status.busy": "2024-02-26T10:46:13.657649Z",
          "iopub.status.idle": "2024-02-26T10:46:54.152308Z",
          "shell.execute_reply": "2024-02-26T10:46:54.151684Z",
          "shell.execute_reply.started": "2024-02-26T10:46:13.657944Z"
        },
        "jupyter": {
          "outputs_hidden": true
        },
        "tags": [],
        "colab": {
          "base_uri": "https://localhost:8080/",
          "height": 1000
        },
        "id": "a1594def-3b31-4053-9db4-3c434ff5786c",
        "outputId": "a4e164ef-229a-4ba3-bd75-8005c7cbdb37"
      },
      "outputs": [
        {
          "output_type": "stream",
          "name": "stderr",
          "text": [
            "INFO:langchain.retrievers.multi_query:Generated queries: ['Where is Apple Inc. based?', '', 'In which city can I find the main office of Apple Inc.?', '', \"What is the address of Apple Inc.'s main corporate campus?\"]\n"
          ]
        },
        {
          "output_type": "display_data",
          "data": {
            "text/plain": [
              "<IPython.core.display.Markdown object>"
            ],
            "text/markdown": "Answer: Apple Inc.'s headquarters is located in San Jose, California."
          },
          "metadata": {}
        },
        {
          "output_type": "stream",
          "name": "stdout",
          "text": [
            "=============================================================================================================\n"
          ]
        },
        {
          "output_type": "display_data",
          "data": {
            "text/plain": [
              "<IPython.core.display.Markdown object>"
            ],
            "text/markdown": "Document 1:\n\nHow We Addressed the\nMatter in Our Audit\nWe tested controls relating to the evaluation of uncertain tax positions, including controls over management’s\nassessment as to whether tax positions are more likely than not to be sustained, management’s process to measure\nthe benefit of its tax positions, and the development of the related disclosures.\nTo evaluate Apple Inc.’s assessment of which tax positions are more likely than not to be sustained, our audit\nprocedures included, among others, reading and evaluating management’s assumptions and analysis, and, as\napplicable, Apple Inc.’s communications with taxing authorities, that detailed the basis and technical merits of the\nuncertain tax positions. We involved our tax subject matter resources in assessing the technical merits of certain of\nApple Inc.’s tax positions based on our knowledge of relevant tax laws and experience with related taxing authorities.\nFor certain tax positions, we also received external legal counsel conﬁrmation letters and discussed the matters with\nexternal advisors and Apple Inc. tax personnel. In addition, we evaluated Apple Inc.’s disclosure in relation to these\nmatters included in Note 5 to the financial statements.\n/s/ \nErnst & Young LLP\nWe have served as Apple Inc.’s auditor since 2009.\nSan Jose, California\nOctober 27, 2022\n\n{'page': 54, 'source': '/content/RAG/data/Apple_2022.pdf'}\n-.-.-.-.-.-.-.-.-.-.-.-.-.-.-.-.-.-.-.-.-.-.-.-.-.-.-.-.-.-.-.-.-.-.-.-.-.-.-.-.-.-.-.-.-.-.-.-.-.-.-.-.-.-.-.-.-.-.-.-.-.-.-.-.-.-.-.-.-.-.-.-.-.-.-.-.-.-.-.-.-.-.-.-.-.-.-.-.-.-.-.-.-.-.-.-.-.-.-.-.\n\nDocument 2:\n\ninfringement; digital platforms; internet, telecommunications, and mobile communications; media, television, ﬁlm and digital content; availability of third-party software\napplications and services; labor and employment; anticorruption; import, export and trade; foreign exchange controls and cash repatriation restrictions; anti–money\nlaundering; foreign ownership and investment; tax; and environmental, health and safety, including electronic waste, recycling, and climate change.\n\n{'page': 16, 'source': '/content/RAG/data/Apple_2022.pdf'}\n-.-.-.-.-.-.-.-.-.-.-.-.-.-.-.-.-.-.-.-.-.-.-.-.-.-.-.-.-.-.-.-.-.-.-.-.-.-.-.-.-.-.-.-.-.-.-.-.-.-.-.-.-.-.-.-.-.-.-.-.-.-.-.-.-.-.-.-.-.-.-.-.-.-.-.-.-.-.-.-.-.-.-.-.-.-.-.-.-.-.-.-.-.-.-.-.-.-.-.-.\n\nDocument 3:\n\nPART I  \nItem 1  \n \n6 Our Future Opportunity  \nThe case for digital transformation has never been more urgent. Customers  are looking to us to help improve \nproductivity and the affordability of their products and services . We continue to develop complete, intelligent solutions \nfor our customers that empower people to stay productive and collaborate, while safeguarding businesses and \nsimplifying IT management. Our goal is to lead the industry in several distinct areas of te chnology over the long  term, \nwhich we expect will translate to sustained growth. We are investing significant resources in:  \n• Transforming the workplace to deliver new modern, modular business applications , drive deeper insights, \nand improve how people communicate, collaborate, learn, work, play, and interact with one another.  \n• Building and running cloud -based services in ways that unleash new experiences and opportunities for \nbusinesses and individuals.  \n• Applying AI to drive insights and act on our customer’s behalf by understanding and interpreting their needs \nusing natural methods of communication.  \n• Tackling security from all angles with our integrated, end -to-end solutions spanning security, compliance, \nidentity, and management, across all clouds and platforms.  \n• Inventing new gaming experiences that bring people together around their shared love for games on any \ndevices and pushing the boundaries of innovation with console and PC gaming by creating the next wave \nof entertainment.  \n• Using Windows to fuel our cloud business, grow our share of the PC market, and drive increased \nengagement  with our services like Microsoft 365 Consumer, Teams, Edge, Bing, Xbox Game Pass, and \nmore.  \nOur future growth depends on our ability to transcend current product category definitions, business models, and sales \nmotions. We have the opportunity to redefine what customers and partners can expect and are working to deliver new \nsolutions that reflect  the best of Microsoft.  \nCorporate Social Responsibility  \nCommitment to Sustainability  \nWe work to ensure that technology is inclusive, trusted, and increases sustainability. We are accelerating progress \ntoward a more sustainable future by reducing our environmental footprint, advancing research, helping our customers \nbuild sustainable soluti ons, and advocating for policies that benefit the environment. In January 2020, we announced \na bold commitment and detailed plan to be carbon negative by 2030, and to remove from the environment by 2050 all \nthe carbon we have emitted since our founding in 1975. This included a commitment to invest `$`1 billion over four years \nin new technologies and innovative climate solutions. We built on this pledge by adding commitments to be water \npositive by 2030, zero waste by 2030, and to protect ecosystems by develop ing a Planetary Computer. We also help \nour suppliers and customers around the world use Microsoft technology to reduce their own carbon footprint.  \nFiscal year 2021 was a year of both successes and challenges. While we continued to make progress on several of \nour goals, with an overall reduction in our combined Scope 1 and Scope 2 emissions, our Scope 3 emissions increased, \ndue in substantial part to significant global datacenter expansions and growth in Xbox sales and usage as a result of \nthe COVID -19 pandemic. Despite these Scope 3 increases, we will continue to build the foundations and do the work \nto deliver on our commitments, and help our custome rs and partners achieve theirs . We have  learned the impact of \nour work will not all be felt immediately, and our experience highlights how progress won’t always be linear.  \nWhile fiscal year 2021 presented us with some new learnings, we also made some great progress. A few examples\n\n{'page': 6, 'source': '/content/RAG/data/Microsoft_2022.pdf'}\n-.-.-.-.-.-.-.-.-.-.-.-.-.-.-.-.-.-.-.-.-.-.-.-.-.-.-.-.-.-.-.-.-.-.-.-.-.-.-.-.-.-.-.-.-.-.-.-.-.-.-.-.-.-.-.-.-.-.-.-.-.-.-.-.-.-.-.-.-.-.-.-.-.-.-.-.-.-.-.-.-.-.-.-.-.-.-.-.-.-.-.-.-.-.-.-.-.-.-.-.\n\nDocument 4:\n\nServices\nAdvertising\nThe Company’s advertising services include third-party licensing arrangements and the Company’s own advertising platforms.\nAppleCare\nThe Company oﬀers a portfolio of fee-based service and support products under the AppleCare\n brand. The oﬀerings provide priority access to Apple technical\nsupport, access to the global Apple authorized service network for repair and replacement services, and in many cases additional coverage for instances of accidental\ndamage or theft and loss, depending on the country and type of product.\nCloud Services\nThe Company’s cloud services store and keep customers’ content up-to-date and available across multiple Apple devices and Windows personal computers.\nDigital Content\nThe Company operates various platforms, including the App Store\n,\n that allow customers to discover and download applications and digital content, such as books,\nmusic, video, games and podcasts.\nThe Company also oﬀers digital content through subscription-based services, including Apple Arcade\n, a game subscription service; Apple Fitness+\n, a personalized\nﬁtness service; Apple Music\n, which oﬀers users a curated listening experience with on-demand radio stations; Apple News+\n, a subscription news and magazine\nservice; and Apple TV+\n, which offers exclusive original content and live sports.\nPayment Services\nThe Company offers payment services, including Apple Card\n, a co-branded credit card, and Apple Pay\n, a cashless payment service.\nSegments\nThe Company manages its business primarily on a geographic basis. The Company’s reportable segments consist of the Americas, Europe, Greater China, Japan\nand Rest of Asia Paciﬁc. Americas includes both North and South America. Europe includes European countries, as well as India, the Middle East and Africa. Greater\nChina includes China mainland, Hong Kong and Taiwan. Rest of Asia Paciﬁc includes Australia and those Asian countries not included in the Company’s other\nreportable segments. Although the reportable segments provide similar hardware and software products and similar services, each one is managed separately to\nbetter align with the location of the Company’s customers and distribution partners and the unique market dynamics of each geographic region.\nMarkets and Distribution\nThe Company’s customers are primarily in the consumer, small and mid-sized business, education, enterprise and government markets. The Company sells its\nproducts and resells third-party products in most of its major markets directly to customers through its retail and online stores and its direct sales force. The Company\nalso employs a variety of indirect distribution channels, such as third-party cellular network carriers, wholesalers, retailers and resellers. During 2023, the Company’s\nnet sales through its direct and indirect distribution channels accounted for 37% and 63%, respectively, of total net sales.\nCompetition\nThe markets for the Company’s products and services are highly competitive, and are characterized by aggressive price competition and resulting downward pressure\non gross margins, frequent introduction of new products and services, short product life cycles, evolving industry standards, continual improvement in product price\nand performance characteristics, rapid adoption of technological advancements by competitors, and price sensitivity on the part of consumers and businesses. Many\nof the Company’s competitors seek to compete primarily through aggressive pricing and very low cost structures, and by imitating the Company’s products and\ninfringing on its intellectual property.\n®\n®\n®\nSM\n®\n®\n®\n®\n®\n\n{'page': 5, 'source': '/content/RAG/data/Apple_2023.pdf'}\n-.-.-.-.-.-.-.-.-.-.-.-.-.-.-.-.-.-.-.-.-.-.-.-.-.-.-.-.-.-.-.-.-.-.-.-.-.-.-.-.-.-.-.-.-.-.-.-.-.-.-.-.-.-.-.-.-.-.-.-.-.-.-.-.-.-.-.-.-.-.-.-.-.-.-.-.-.-.-.-.-.-.-.-.-.-.-.-.-.-.-.-.-.-.-.-.-.-.-.-.\n\nDocument 5:\n\nIncorporated by Reference\nExhibit Number\nExhibit Description\nForm\nExhibit\nFiling Date/\nPeriod End Date\n4.29\nOﬃcer’s Certiﬁcate of the Registrant, dated as of May 10, 2023, including forms of global notes\nrepresenting the 4.421% Notes due 2026, 4.000% Notes due 2028, 4.150% Notes due 2030,\n4.300% Notes due 2033 and 4.850% Notes due 2053.\n8-K\n4.1\n5/10/23\n4.30*\nApple Inc. Deferred Compensation Plan.\nS-8\n4.1\n8/23/18\n10.1*\nApple Inc. Employee Stock Purchase Plan, as amended and restated as of March 10, 2015.\n8-K\n10.1\n3/13/15\n10.2*\nForm of Indemnification Agreement between the Registrant and each director and executive officer\nof the Registrant.\n10-Q\n10.2\n6/27/09\n10.3*\nApple Inc. Non-Employee Director Stock Plan, as amended November 9, 2021.\n10-Q\n10.1\n12/25/21\n10.4*\nApple Inc. 2014 Employee Stock Plan, as amended and restated as of October 1, 2017.\n10-K\n10.8\n9/30/17\n10.5*\nForm of Restricted Stock Unit Award Agreement under 2014 Employee Stock Plan eﬀective as of\nSeptember 26, 2017.\n10-K\n10.20\n9/30/17\n10.6*\nForm of Restricted Stock Unit Award Agreement under Non-Employee Director Stock Plan\neffective as of February 13, 2018.\n10-Q\n10.2\n3/31/18\n10.7*\nForm of Restricted Stock Unit Award Agreement under 2014 Employee Stock Plan eﬀective as of\nAugust 21, 2018.\n10-K\n10.17\n9/29/18\n10.8*\nForm of Performance Award Agreement under 2014 Employee Stock Plan eﬀective as of August\n21, 2018.\n10-K\n10.18\n9/29/18\n10.9*\nForm of Restricted Stock Unit Award Agreement under 2014 Employee Stock Plan eﬀective as of\nSeptember 29, 2019.\n10-K\n10.15\n9/28/19\n10.10*\nForm of Performance Award Agreement under 2014 Employee Stock Plan eﬀective as of\nSeptember 29, 2019.\n10-K\n10.16\n9/28/19\n10.11*\nForm of Restricted Stock Unit Award Agreement under 2014 Employee Stock Plan eﬀective as of\nAugust 18, 2020.\n10-K\n10.16\n9/26/20\n10.12*\nForm of Performance Award Agreement under 2014 Employee Stock Plan eﬀective as of August\n18, 2020.\n10-K\n10.17\n9/26/20\n10.13*\nForm of CEO Restricted Stock Unit Award Agreement under 2014 Employee Stock Plan eﬀective\nas of September 27, 2020.\n10-Q\n10.1\n12/26/20\n10.14*\nForm of CEO Performance Award Agreement under 2014 Employee Stock Plan eﬀective as of\nSeptember 27, 2020.\n10-Q\n10.2\n12/26/20\n10.15*\nApple Inc. 2022 Employee Stock Plan.\n8-K\n10.1\n3/4/22\n10.16*\nForm of Restricted Stock Unit Award Agreement under 2022 Employee Stock Plan eﬀective as of\nMarch 4, 2022.\n8-K\n10.2\n3/4/22\n10.17*\nForm of Performance Award Agreement under 2022 Employee Stock Plan eﬀective as of March 4,\n2022.\n8-K\n10.3\n3/4/22\n10.18*\nApple Inc. Executive Cash Incentive Plan.\n8-K\n10.1\n8/19/22\n10.19*\nForm of CEO Restricted Stock Unit Award Agreement under 2022 Employee Stock Plan eﬀective\nas of September 25, 2022.\n10-Q\n10.1\n12/31/22\n10.20*\nForm of CEO Performance Award Agreement under 2022 Employee Stock Plan eﬀective as of\nSeptember 25, 2022.\n10-Q\n10.2\n12/31/22\n21.1**\nSubsidiaries of the Registrant.\n23.1**\nConsent of Independent Registered Public Accounting Firm.\n24.1**\nPower of Attorney (included on the Signatures page of this Annual Report on Form 10-K).\n31.1**\nRule 13a-14(a) / 15d-14(a) Certification of Chief Executive Officer.\n31.2**\nRule 13a-14(a) / 15d-14(a) Certification of Chief Financial Officer.\n32.1***\nSection 1350 Certifications of Chief Executive Officer and Chief Financial Officer.\n101**\nInline XBRL Document Set for the consolidated ﬁnancial statements and accompanying notes in\nPart II, Item 8, “Financial Statements and Supplementary Data” of this Annual Report on Form\n10-K.\n\n{'page': 59, 'source': '/content/RAG/data/Apple_2023.pdf'}"
          },
          "metadata": {}
        },
        {
          "output_type": "stream",
          "name": "stdout",
          "text": [
            "No of documents retrieved5\n"
          ]
        }
      ],
      "source": [
        "query = \"Where is Apple's headquarters?\"\n",
        "pretty_print_result(query, llm, multi_query_retriever)"
      ]
    },
    {
      "cell_type": "code",
      "source": [
        "query = \"When is Apple planning to achieve Carbon neutral?\"\n",
        "pretty_print_result(query, llm, multi_query_retriever)"
      ],
      "metadata": {
        "colab": {
          "base_uri": "https://localhost:8080/",
          "height": 1000
        },
        "id": "skkH9m7rRVkJ",
        "outputId": "cd436726-4901-4066-a9af-1d8a88cd6b94"
      },
      "id": "skkH9m7rRVkJ",
      "execution_count": 55,
      "outputs": [
        {
          "output_type": "stream",
          "name": "stderr",
          "text": [
            "INFO:langchain.retrievers.multi_query:Generated queries: [\"What is Apple's timeline for reaching carbon neutrality?\", '', 'By what year does Apple aim to become completely carbon neutral?', '', 'What is the target date for Apple to accomplish carbon neutrality?']\n"
          ]
        },
        {
          "output_type": "display_data",
          "data": {
            "text/plain": [
              "<IPython.core.display.Markdown object>"
            ],
            "text/markdown": "Answer: Apple plans to achieve carbon neutrality by 2030."
          },
          "metadata": {}
        },
        {
          "output_type": "stream",
          "name": "stdout",
          "text": [
            "=============================================================================================================\n"
          ]
        },
        {
          "output_type": "display_data",
          "data": {
            "text/plain": [
              "<IPython.core.display.Markdown object>"
            ],
            "text/markdown": "Document 1:\n\nApple Inc.\nCONSOLIDATED STATEMENTS OF OPERATIONS\n(In millions, except number of shares, which are reflected in thousands, and per-share amounts)\nYears ended\nSeptember 30,\n2023\nSeptember 24,\n2022\nSeptember 25,\n2021\nNet sales:\n   Products\n`$`\n298,085\n \n`$`\n316,199\n \n`$`\n297,392\n \n   Services\n85,200\n \n78,129\n \n68,425\n \nTotal net sales\n383,285\n \n394,328\n \n365,817\n \nCost of sales:\n   Products\n189,282\n \n201,471\n \n192,266\n \n   Services\n24,855\n \n22,075\n \n20,715\n \nTotal cost of sales\n214,137\n \n223,546\n \n212,981\n \nGross margin\n169,148\n \n170,782\n \n152,836\n \nOperating expenses:\nResearch and development\n29,915\n \n26,251\n \n21,914\n \nSelling, general and administrative\n24,932\n \n25,094\n \n21,973\n \nTotal operating expenses\n54,847\n \n51,345\n \n43,887\n \nOperating income\n114,301\n \n119,437\n \n108,949\n \nOther income/(expense), net\n(\n565\n)\n(\n334\n)\n258\n \nIncome before provision for income taxes\n113,736\n \n119,103\n \n109,207\n \nProvision for income taxes\n16,741\n \n19,300\n \n14,527\n \nNet income\n`$`\n96,995\n \n`$`\n99,803\n \n`$`\n94,680\n \nEarnings per share:\nBasic\n`$`\n6.16\n \n`$`\n6.15\n \n`$`\n5.67\n \nDiluted\n`$`\n6.13\n \n`$`\n6.11\n \n`$`\n5.61\n \nShares used in computing earnings per share:\nBasic\n15,744,231\n \n16,215,963\n \n16,701,272\n \nDiluted\n15,812,547\n \n16,325,819\n \n16,864,919\n \nSee accompanying Notes to Consolidated Financial Statements.\nApple Inc. | 2023 Form 10-K | 28\n\n{'page': 31, 'source': '/content/RAG/data/Apple_2023.pdf'}\n-.-.-.-.-.-.-.-.-.-.-.-.-.-.-.-.-.-.-.-.-.-.-.-.-.-.-.-.-.-.-.-.-.-.-.-.-.-.-.-.-.-.-.-.-.-.-.-.-.-.-.-.-.-.-.-.-.-.-.-.-.-.-.-.-.-.-.-.-.-.-.-.-.-.-.-.-.-.-.-.-.-.-.-.-.-.-.-.-.-.-.-.-.-.-.-.-.-.-.-.\n\nDocument 2:\n\nPART I  \nItem 1 \n \n6 simplifying IT management. Our goal is to lead the industry in several distinct areas of technology over the long term, \nwhich we expect will translate to sustained growth. We are investing significant resources in:  \n• Transforming the workplace to deliver new modern, modular business applications, drive deeper insights, \nand improve how people communicate, collaborate, learn, work, and interact with one another.  \n• Building and running cloud -based services in ways that utilize ubiquitous computing to unleash new \nexperiences and opportunities for businesses and individuals.  \n• Applying AI and ambient intelligence to drive insights , revolutionize many types of work, and provide \nsubstantive productivity gains using natural methods of communication . \n• Tackling security from all angles with our integrated, end -to-end solutions spanning security, compliance, \nidentity, and management, across all clouds and platforms.  \n• Inventing new gaming experiences that bring people together around their shared love for games on any \ndevices and pushing the boundaries of innovation with console and PC gaming.  \n• Using Windows to fuel our cloud business, grow our share of the PC market, and drive increased \nengagement  with our services like Microsoft 365 Consumer, Microsoft Teams, Microsoft Edge, Bing, Xbox \nGame Pass, and more.  \nOur future growth depends on our ability to transcend current product category definitions, business models, and sales \nmotions.  \nCorporate Social Responsibility  \nCommitment to Sustainability  \nMicrosoft’s approach to addressing climate change  starts with the sustainability of our own business. In 2020, we \ncommitted  to be ing a carbon negative, water positive, and zero waste company by 2030.  \nIn May 2023, we released our Environmental Sustainability Report which looked back at our progress  during  fiscal year \n2022. We continued to make progress on our goals , with our overall emissions declining by 0.5 percent. While our \nScope 1 and Scope 2 emissions continued to decline, Scope 3 emissions increased by 0.5 percent. Scope 3 \nrepresented 96 percent of our total emissions, resulting primarily from the operations of our suppliers and the use of \nour pro ducts across our customers.  \nA few e xamples of our continued  progress include:  \n• Signed new power purchase agreements, bringing our total portfolio of carbon -free energy to over 13.5 \ngigawatts.  \n• Contracted for water  replenishment projects that are estimated to provide more than 15.6 million cubic \nmeters in volumetric water benefit over the lifetime of these projects.  \n• Diverted 12,159 metric tons of solid waste from landfills and incinerators across our direct operational \nfootprint.  \n• Protected 12,270 acres of land in Belize – more than the 11,206 acres of land that we use around the world.  \nMicrosoft has a role to play in developing and advancing new climate solutions, but we recognize that no solution can \nbe offered by any single company, organization, or government. Our approach helps to support the sustainability needs \nof our customers and the global community. Our Microsoft Cloud for Sustainability, an environmental sustainability \nmanagement platform that includes Microsoft Sustainability Manager , enables organization s to record, report, and \nreduce their Scope 1, 2, and 3 emissions . These digital tools can interoperate with business system s and unify data \nintelligence for organizations.  \nAddressing Racial Injustice and Inequity  \nWe are committed to addressing racial injustice and inequity in the United States for Black and African American \ncommunities and helping improve lived experiences at Microsoft, in employees’ communities, and beyond. Our Racial\n\n{'page': 6, 'source': '/content/RAG/data/Microsoft_2023.pdf'}\n-.-.-.-.-.-.-.-.-.-.-.-.-.-.-.-.-.-.-.-.-.-.-.-.-.-.-.-.-.-.-.-.-.-.-.-.-.-.-.-.-.-.-.-.-.-.-.-.-.-.-.-.-.-.-.-.-.-.-.-.-.-.-.-.-.-.-.-.-.-.-.-.-.-.-.-.-.-.-.-.-.-.-.-.-.-.-.-.-.-.-.-.-.-.-.-.-.-.-.-.\n\nDocument 3:\n\ninfringement; digital platforms; internet, telecommunications, and mobile communications; media, television, ﬁlm and digital content; availability of third-party software\napplications and services; labor and employment; anticorruption; import, export and trade; foreign exchange controls and cash repatriation restrictions; anti–money\nlaundering; foreign ownership and investment; tax; and environmental, health and safety, including electronic waste, recycling, and climate change.\n\n{'page': 16, 'source': '/content/RAG/data/Apple_2022.pdf'}\n-.-.-.-.-.-.-.-.-.-.-.-.-.-.-.-.-.-.-.-.-.-.-.-.-.-.-.-.-.-.-.-.-.-.-.-.-.-.-.-.-.-.-.-.-.-.-.-.-.-.-.-.-.-.-.-.-.-.-.-.-.-.-.-.-.-.-.-.-.-.-.-.-.-.-.-.-.-.-.-.-.-.-.-.-.-.-.-.-.-.-.-.-.-.-.-.-.-.-.-.\n\nDocument 4:\n\nPART I  \nItem 1  \n \n6 Our Future Opportunity  \nThe case for digital transformation has never been more urgent. Customers  are looking to us to help improve \nproductivity and the affordability of their products and services . We continue to develop complete, intelligent solutions \nfor our customers that empower people to stay productive and collaborate, while safeguarding businesses and \nsimplifying IT management. Our goal is to lead the industry in several distinct areas of te chnology over the long  term, \nwhich we expect will translate to sustained growth. We are investing significant resources in:  \n• Transforming the workplace to deliver new modern, modular business applications , drive deeper insights, \nand improve how people communicate, collaborate, learn, work, play, and interact with one another.  \n• Building and running cloud -based services in ways that unleash new experiences and opportunities for \nbusinesses and individuals.  \n• Applying AI to drive insights and act on our customer’s behalf by understanding and interpreting their needs \nusing natural methods of communication.  \n• Tackling security from all angles with our integrated, end -to-end solutions spanning security, compliance, \nidentity, and management, across all clouds and platforms.  \n• Inventing new gaming experiences that bring people together around their shared love for games on any \ndevices and pushing the boundaries of innovation with console and PC gaming by creating the next wave \nof entertainment.  \n• Using Windows to fuel our cloud business, grow our share of the PC market, and drive increased \nengagement  with our services like Microsoft 365 Consumer, Teams, Edge, Bing, Xbox Game Pass, and \nmore.  \nOur future growth depends on our ability to transcend current product category definitions, business models, and sales \nmotions. We have the opportunity to redefine what customers and partners can expect and are working to deliver new \nsolutions that reflect  the best of Microsoft.  \nCorporate Social Responsibility  \nCommitment to Sustainability  \nWe work to ensure that technology is inclusive, trusted, and increases sustainability. We are accelerating progress \ntoward a more sustainable future by reducing our environmental footprint, advancing research, helping our customers \nbuild sustainable soluti ons, and advocating for policies that benefit the environment. In January 2020, we announced \na bold commitment and detailed plan to be carbon negative by 2030, and to remove from the environment by 2050 all \nthe carbon we have emitted since our founding in 1975. This included a commitment to invest `$`1 billion over four years \nin new technologies and innovative climate solutions. We built on this pledge by adding commitments to be water \npositive by 2030, zero waste by 2030, and to protect ecosystems by develop ing a Planetary Computer. We also help \nour suppliers and customers around the world use Microsoft technology to reduce their own carbon footprint.  \nFiscal year 2021 was a year of both successes and challenges. While we continued to make progress on several of \nour goals, with an overall reduction in our combined Scope 1 and Scope 2 emissions, our Scope 3 emissions increased, \ndue in substantial part to significant global datacenter expansions and growth in Xbox sales and usage as a result of \nthe COVID -19 pandemic. Despite these Scope 3 increases, we will continue to build the foundations and do the work \nto deliver on our commitments, and help our custome rs and partners achieve theirs . We have  learned the impact of \nour work will not all be felt immediately, and our experience highlights how progress won’t always be linear.  \nWhile fiscal year 2021 presented us with some new learnings, we also made some great progress. A few examples\n\n{'page': 6, 'source': '/content/RAG/data/Microsoft_2022.pdf'}\n-.-.-.-.-.-.-.-.-.-.-.-.-.-.-.-.-.-.-.-.-.-.-.-.-.-.-.-.-.-.-.-.-.-.-.-.-.-.-.-.-.-.-.-.-.-.-.-.-.-.-.-.-.-.-.-.-.-.-.-.-.-.-.-.-.-.-.-.-.-.-.-.-.-.-.-.-.-.-.-.-.-.-.-.-.-.-.-.-.-.-.-.-.-.-.-.-.-.-.-.\n\nDocument 5:\n\nThe U.S. and China were the only countries that accounted for more than 10% of the Company’s net sales in 2023, 2022 and 2021. \nNet sales for 2023, 2022 and\n2021 and long-lived assets as of September 30, 2023 and September 24, 2022 were as follows (in millions):\n2023\n2022\n2021\nNet sales:\nU.S.\n`$`\n138,573\n \n`$`\n147,859\n \n`$`\n133,803\n \nChina\n72,559\n \n74,200\n \n68,366\n \nOther countries\n172,153\n \n172,269\n \n163,648\n \nTotal net sales\n`$`\n383,285\n \n`$`\n394,328\n \n`$`\n365,817\n \n2023\n2022\nLong-lived assets:\nU.S.\n`$`\n33,276\n \n`$`\n31,119\n \nChina \n5,778\n \n7,260\n \nOther countries\n4,661\n \n3,738\n \nTotal long-lived assets\n`$`\n43,715\n \n`$`\n42,117\n \n(1)\nChina includes Hong Kong and Taiwan.\n (1)\n(1)\nApple Inc. | 2023 Form 10-K | 48\n\n{'page': 51, 'source': '/content/RAG/data/Apple_2023.pdf'}\n-.-.-.-.-.-.-.-.-.-.-.-.-.-.-.-.-.-.-.-.-.-.-.-.-.-.-.-.-.-.-.-.-.-.-.-.-.-.-.-.-.-.-.-.-.-.-.-.-.-.-.-.-.-.-.-.-.-.-.-.-.-.-.-.-.-.-.-.-.-.-.-.-.-.-.-.-.-.-.-.-.-.-.-.-.-.-.-.-.-.-.-.-.-.-.-.-.-.-.-.\n\nDocument 6:\n\ninfringement; digital platforms; internet, telecommunications, and mobile communications; media, television, ﬁlm and digital content; availability of third-party software\napplications and services; labor and employment; anticorruption; import, export and trade; foreign exchange controls and cash repatriation restrictions; anti–money\nlaundering; foreign ownership and investment; tax; and environmental, health and safety, including electronic waste, recycling, and climate change.\n\n{'page': 16, 'source': '/content/RAG/data/Apple_2022.pdf'}\n-.-.-.-.-.-.-.-.-.-.-.-.-.-.-.-.-.-.-.-.-.-.-.-.-.-.-.-.-.-.-.-.-.-.-.-.-.-.-.-.-.-.-.-.-.-.-.-.-.-.-.-.-.-.-.-.-.-.-.-.-.-.-.-.-.-.-.-.-.-.-.-.-.-.-.-.-.-.-.-.-.-.-.-.-.-.-.-.-.-.-.-.-.-.-.-.-.-.-.-.\n\nDocument 7:\n\nPART I  \nItem 1  \n \n6 Our Future Opportunity  \nThe case for digital transformation has never been more urgent. Customers  are looking to us to help improve \nproductivity and the affordability of their products and services . We continue to develop complete, intelligent solutions \nfor our customers that empower people to stay productive and collaborate, while safeguarding businesses and \nsimplifying IT management. Our goal is to lead the industry in several distinct areas of te chnology over the long  term, \nwhich we expect will translate to sustained growth. We are investing significant resources in:  \n• Transforming the workplace to deliver new modern, modular business applications , drive deeper insights, \nand improve how people communicate, collaborate, learn, work, play, and interact with one another.  \n• Building and running cloud -based services in ways that unleash new experiences and opportunities for \nbusinesses and individuals.  \n• Applying AI to drive insights and act on our customer’s behalf by understanding and interpreting their needs \nusing natural methods of communication.  \n• Tackling security from all angles with our integrated, end -to-end solutions spanning security, compliance, \nidentity, and management, across all clouds and platforms.  \n• Inventing new gaming experiences that bring people together around their shared love for games on any \ndevices and pushing the boundaries of innovation with console and PC gaming by creating the next wave \nof entertainment.  \n• Using Windows to fuel our cloud business, grow our share of the PC market, and drive increased \nengagement  with our services like Microsoft 365 Consumer, Teams, Edge, Bing, Xbox Game Pass, and \nmore.  \nOur future growth depends on our ability to transcend current product category definitions, business models, and sales \nmotions. We have the opportunity to redefine what customers and partners can expect and are working to deliver new \nsolutions that reflect  the best of Microsoft.  \nCorporate Social Responsibility  \nCommitment to Sustainability  \nWe work to ensure that technology is inclusive, trusted, and increases sustainability. We are accelerating progress \ntoward a more sustainable future by reducing our environmental footprint, advancing research, helping our customers \nbuild sustainable soluti ons, and advocating for policies that benefit the environment. In January 2020, we announced \na bold commitment and detailed plan to be carbon negative by 2030, and to remove from the environment by 2050 all \nthe carbon we have emitted since our founding in 1975. This included a commitment to invest `$`1 billion over four years \nin new technologies and innovative climate solutions. We built on this pledge by adding commitments to be water \npositive by 2030, zero waste by 2030, and to protect ecosystems by develop ing a Planetary Computer. We also help \nour suppliers and customers around the world use Microsoft technology to reduce their own carbon footprint.  \nFiscal year 2021 was a year of both successes and challenges. While we continued to make progress on several of \nour goals, with an overall reduction in our combined Scope 1 and Scope 2 emissions, our Scope 3 emissions increased, \ndue in substantial part to significant global datacenter expansions and growth in Xbox sales and usage as a result of \nthe COVID -19 pandemic. Despite these Scope 3 increases, we will continue to build the foundations and do the work \nto deliver on our commitments, and help our custome rs and partners achieve theirs . We have  learned the impact of \nour work will not all be felt immediately, and our experience highlights how progress won’t always be linear.  \nWhile fiscal year 2021 presented us with some new learnings, we also made some great progress. A few examples\n\n{'page': 6, 'source': '/content/RAG/data/Microsoft_2022.pdf'}\n-.-.-.-.-.-.-.-.-.-.-.-.-.-.-.-.-.-.-.-.-.-.-.-.-.-.-.-.-.-.-.-.-.-.-.-.-.-.-.-.-.-.-.-.-.-.-.-.-.-.-.-.-.-.-.-.-.-.-.-.-.-.-.-.-.-.-.-.-.-.-.-.-.-.-.-.-.-.-.-.-.-.-.-.-.-.-.-.-.-.-.-.-.-.-.-.-.-.-.-.\n\nDocument 8:\n\nBusiness Seasonality and Product Introductions\nThe Company has historically experienced higher net sales in its ﬁrst quarter compared to other quarters in its ﬁscal year due in part to seasonal holiday demand.\nAdditionally, new product and service introductions can signiﬁcantly impact net sales, cost of sales and operating expenses. The timing of product introductions can\nalso impact the Company’s net sales to its indirect distribution channels as these channels are ﬁlled with new inventory following a product launch, and channel\ninventory of an older product often declines as the launch of a newer product approaches. Net sales can also be aﬀected when consumers and distributors anticipate\na product introduction.\nHuman Capital\nThe Company believes it has a talented, motivated and dedicated team, and works to create an inclusive, safe and supportive environment for all of its team\nmembers. As of September 24, 2022, the Company had approximately 164,000 full-time equivalent employees.\nWorkplace Practices and Policies\nThe Company is an equal opportunity employer committed to inclusion and diversity and to providing a workplace free of harassment or discrimination.\nCompensation and Benefits\nThe Company believes that compensation should be competitive and equitable, and should enable employees to share in the Company’s success. The Company\nrecognizes its people are most likely to thrive when they have the resources to meet their needs and the time and support to succeed in their professional and\npersonal lives. In support of this, the Company offers a wide variety of benefits for employees around the world and invests in tools and resources that are designed to\nsupport employees’ individual growth and development.\nInclusion and Diversity\nThe Company remains committed to its vision to build and sustain a more inclusive workforce that is representative of the communities it serves. The Company\ncontinues to work to increase diverse representation at every level, foster an inclusive culture, and support equitable pay and access to opportunity for all employees.\nEngagement\nThe Company believes that open and honest communication among team members, managers and leaders helps create an open, collaborative work environment\nwhere everyone can contribute, grow and succeed. Team members are encouraged to come to their managers with questions, feedback or concerns, and the\nCompany conducts surveys that gauge employee sentiment in areas like career development, manager performance and inclusivity.\nHealth and Safety\nThe Company is committed to protecting its team members everywhere it operates. The Company identiﬁes potential workplace risks in order to develop measures to\nmitigate possible hazards. The Company supports employees with general safety, security and crisis management training, and by putting speciﬁc programs in place\nfor those working in potentially high-hazard environments. Additionally, the Company works to protect the safety and security of its team members, visitors and\ncustomers through its global security team. The Company has also taken additional health and safety measures during the COVID-19 pandemic.\nAvailable Information\nThe Company’s Annual Reports on Form 10-K, Quarterly Reports on Form 10-Q, Current Reports on Form 8-K, and amendments to reports ﬁled pursuant to Sections\n13(a) and 15(d) of the Securities Exchange Act of 1934, as amended (the “Exchange Act”), are ﬁled with the U.S. Securities and Exchange Commission (the “SEC”).\nSuch reports and other information ﬁled by the Company with the SEC are available free of charge at investor.apple.com/investor-relations/sec-ﬁlings/default.aspx\nwhen such reports are available on the SEC’s website. The Company periodically provides certain information for investors on its corporate website, www.apple.com,\nand its investor relations website, investor.apple.com. This includes press releases and other information about ﬁnancial performance, information on environmental,\nsocial and governance matters, and details related to the Company’s annual meeting of shareholders. The information contained on the websites referenced in this\nForm 10-K is not incorporated by reference into this filing. Further, the Company’s references to website URLs are intended to be inactive textual references only.\nApple Inc. | 2022 Form 10-K | 4\n\n{'page': 7, 'source': '/content/RAG/data/Apple_2022.pdf'}"
          },
          "metadata": {}
        },
        {
          "output_type": "stream",
          "name": "stdout",
          "text": [
            "No of documents retrieved8\n"
          ]
        }
      ]
    },
    {
      "cell_type": "code",
      "source": [
        "query = \"Compare the 2023 Revenue of apple and microsoft\"\n",
        "pretty_print_result(query, llm, multi_query_retriever)"
      ],
      "metadata": {
        "colab": {
          "base_uri": "https://localhost:8080/",
          "height": 1000
        },
        "id": "XKrj7F7WTq2R",
        "outputId": "7967337f-1935-49fe-e3a6-45072c61a9e6"
      },
      "id": "XKrj7F7WTq2R",
      "execution_count": 66,
      "outputs": [
        {
          "output_type": "stream",
          "name": "stderr",
          "text": [
            "INFO:langchain.retrievers.multi_query:Generated queries: ['1. What is the reported income for Apple and Microsoft in the year 2023?', '2. Can you provide the sales figures for Apple and Microsoft for the fiscal year 2023?', '3. How much revenue did Apple and Microsoft generate in 2023?']\n"
          ]
        },
        {
          "output_type": "display_data",
          "data": {
            "text/plain": [
              "<IPython.core.display.Markdown object>"
            ],
            "text/markdown": "Answer: In 2023, Apple's revenue was `$`211,915 million, and Microsoft Cloud's revenue was `$`111.6 billion."
          },
          "metadata": {}
        },
        {
          "output_type": "stream",
          "name": "stdout",
          "text": [
            "=============================================================================================================\n"
          ]
        },
        {
          "output_type": "display_data",
          "data": {
            "text/plain": [
              "<IPython.core.display.Markdown object>"
            ],
            "text/markdown": "Document 1:\n\nApple Annual Report 2023\nForm 10-K (NASDAQ:AAPL)\nPublished: November 3rd, 2023\nPDF generated by \nstocklight.com\n\n{'page': 0, 'source': '/content/RAG/data/Apple_2023.pdf'}\n-.-.-.-.-.-.-.-.-.-.-.-.-.-.-.-.-.-.-.-.-.-.-.-.-.-.-.-.-.-.-.-.-.-.-.-.-.-.-.-.-.-.-.-.-.-.-.-.-.-.-.-.-.-.-.-.-.-.-.-.-.-.-.-.-.-.-.-.-.-.-.-.-.-.-.-.-.-.-.-.-.-.-.-.-.-.-.-.-.-.-.-.-.-.-.-.-.-.-.-.\n\nDocument 2:\n\nTotal    `$` 211,915     `$` 198,270      `$` 168,088    \n                       \nOur Microsoft Cloud  revenue, which includes Azure and other cloud services, Office 365 Commercial, the commercial \nportion of LinkedIn, Dynamics 365, and other commercial cloud properties, was `$` 111.6 billion, `$` 91.4 billion , and `$` 69.1 \nbillion in fiscal years 2023 , 2022 , and 2021 , respectively. These amounts are primarily included in Server products and \ncloud services, Office products and cloud services, LinkedIn , and Dynamics  in the table above.  \nAssets are not allocated to segments for internal reporting presentations. A portion of amortization and depreciation is \nincluded with various other costs in an overhead allocation to each segment. It is impracticable for us to separately \nidentify the amount of amortization and depreciation by segment that is inclu ded in the measure of segment profit or \nloss. \nLong -lived assets, excluding financial instruments and tax assets, classified by the location of the controlling statutory \ncompany and with countries over 10% of the total shown separately, were as follows:  \n \n(In millions)        \n   \n     \nJune  30,    2023     2022     2021   \n    \nUnited States    `$` 114,380      `$` 106,430      `$` 76,153    \nIreland      16,359        15,505        13,303    \nOther countries      56,50 0       44,433        38,858                                  \nTotal    `$` 187,2 39     `$` 166,368      `$`  128,314\n\n{'page': 91, 'source': '/content/RAG/data/Microsoft_2023.pdf'}\n-.-.-.-.-.-.-.-.-.-.-.-.-.-.-.-.-.-.-.-.-.-.-.-.-.-.-.-.-.-.-.-.-.-.-.-.-.-.-.-.-.-.-.-.-.-.-.-.-.-.-.-.-.-.-.-.-.-.-.-.-.-.-.-.-.-.-.-.-.-.-.-.-.-.-.-.-.-.-.-.-.-.-.-.-.-.-.-.-.-.-.-.-.-.-.-.-.-.-.-.\n\nDocument 3:\n\nBusiness Seasonality and Product Introductions\nThe Company has historically experienced higher net sales in its ﬁrst quarter compared to other quarters in its ﬁscal year due in part to seasonal holiday demand.\nAdditionally, new product and service introductions can signiﬁcantly impact net sales, cost of sales and operating expenses. The timing of product introductions can\nalso impact the Company’s net sales to its indirect distribution channels as these channels are ﬁlled with new inventory following a product launch, and channel\ninventory of an older product often declines as the launch of a newer product approaches. Net sales can also be aﬀected when consumers and distributors anticipate\na product introduction.\nHuman Capital\nThe Company believes it has a talented, motivated and dedicated team, and works to create an inclusive, safe and supportive environment for all of its team\nmembers. As of September 30, 2023, the Company had approximately 161,000 full-time equivalent employees.\nWorkplace Practices and Policies\nThe Company is an equal opportunity employer committed to inclusion and diversity and to providing a workplace free of harassment or discrimination.\nCompensation and Benefits\nThe Company believes that compensation should be competitive and equitable, and should enable employees to share in the Company’s success. The Company\nrecognizes its people are most likely to thrive when they have the resources to meet their needs and the time and support to succeed in their professional and\npersonal lives. In support of this, the Company offers a wide variety of benefits for employees around the world and invests in tools and resources that are designed to\nsupport employees’ individual growth and development.\nInclusion and Diversity\nThe Company is committed to its vision to build and sustain a more inclusive workforce that is representative of the communities it serves. The Company continues to\nwork to increase diverse representation at every level, foster an inclusive culture, and support equitable pay and access to opportunity for all employees.\nEngagement\nThe Company believes that open and honest communication among team members, managers and leaders helps create an open, collaborative work environment\nwhere everyone can contribute, grow and succeed. Team members are encouraged to come to their managers with questions, feedback or concerns, and the\nCompany conducts surveys that gauge employee sentiment in areas like career development, manager performance and inclusivity.\nHealth and Safety\nThe Company is committed to protecting its team members everywhere it operates. The Company identiﬁes potential workplace risks in order to develop measures to\nmitigate possible hazards. The Company supports employees with general safety, security and crisis management training, and by putting speciﬁc programs in place\nfor those working in potentially high-hazard environments. Additionally, the Company works to protect the safety and security of its team members, visitors and\ncustomers through its global security team.\nAvailable Information\nThe Company’s Annual Reports on Form 10-K, Quarterly Reports on Form 10-Q, Current Reports on Form 8-K, and amendments to reports ﬁled pursuant to Sections\n13(a) and 15(d) of the Securities Exchange Act of 1934, as amended (the “Exchange Act”), are ﬁled with the U.S. Securities and Exchange Commission (the “SEC”).\nSuch reports and other information ﬁled by the Company with the SEC are available free of charge at investor.apple.com/investor-relations/sec-ﬁlings/default.aspx\nwhen such reports are available on the SEC’s website. The Company periodically provides certain information for investors on its corporate website, www.apple.com,\nand its investor relations website, investor.apple.com. This includes press releases and other information about ﬁnancial performance, information on environmental,\nsocial and governance matters, and details related to the Company’s annual meeting of shareholders. The information contained on the websites referenced in this\nForm 10-K is not incorporated by reference into this filing. Further, the Company’s references to website URLs are intended to be inactive textual references only.\nApple Inc. | 2023 Form 10-K | 4\n\n{'page': 7, 'source': '/content/RAG/data/Apple_2023.pdf'}\n-.-.-.-.-.-.-.-.-.-.-.-.-.-.-.-.-.-.-.-.-.-.-.-.-.-.-.-.-.-.-.-.-.-.-.-.-.-.-.-.-.-.-.-.-.-.-.-.-.-.-.-.-.-.-.-.-.-.-.-.-.-.-.-.-.-.-.-.-.-.-.-.-.-.-.-.-.-.-.-.-.-.-.-.-.-.-.-.-.-.-.-.-.-.-.-.-.-.-.-.\n\nDocument 4:\n\nTotal    `$` 211,915     `$` 198,270      `$` 168,088    \n                       \nOur Microsoft Cloud  revenue, which includes Azure and other cloud services, Office 365 Commercial, the commercial \nportion of LinkedIn, Dynamics 365, and other commercial cloud properties, was `$` 111.6 billion, `$` 91.4 billion , and `$` 69.1 \nbillion in fiscal years 2023 , 2022 , and 2021 , respectively. These amounts are primarily included in Server products and \ncloud services, Office products and cloud services, LinkedIn , and Dynamics  in the table above.  \nAssets are not allocated to segments for internal reporting presentations. A portion of amortization and depreciation is \nincluded with various other costs in an overhead allocation to each segment. It is impracticable for us to separately \nidentify the amount of amortization and depreciation by segment that is inclu ded in the measure of segment profit or \nloss. \nLong -lived assets, excluding financial instruments and tax assets, classified by the location of the controlling statutory \ncompany and with countries over 10% of the total shown separately, were as follows:  \n \n(In millions)        \n   \n     \nJune  30,    2023     2022     2021   \n    \nUnited States    `$` 114,380      `$` 106,430      `$` 76,153    \nIreland      16,359        15,505        13,303    \nOther countries      56,50 0       44,433        38,858                                  \nTotal    `$` 187,2 39     `$` 166,368      `$`  128,314\n\n{'page': 91, 'source': '/content/RAG/data/Microsoft_2023.pdf'}"
          },
          "metadata": {}
        },
        {
          "output_type": "stream",
          "name": "stdout",
          "text": [
            "No of documents retrieved4\n"
          ]
        }
      ]
    },
    {
      "cell_type": "code",
      "execution_count": null,
      "id": "644d4031-9c49-4f01-b788-78c6d85542a5",
      "metadata": {
        "id": "644d4031-9c49-4f01-b788-78c6d85542a5"
      },
      "outputs": [],
      "source": []
    }
  ],
  "metadata": {
    "kernelspec": {
      "display_name": "fra_env",
      "language": "python",
      "name": "fra_env"
    },
    "language_info": {
      "codemirror_mode": {
        "name": "ipython",
        "version": 3
      },
      "file_extension": ".py",
      "mimetype": "text/x-python",
      "name": "python",
      "nbconvert_exporter": "python",
      "pygments_lexer": "ipython3",
      "version": "3.10.12"
    },
    "colab": {
      "provenance": [],
      "include_colab_link": true
    }
  },
  "nbformat": 4,
  "nbformat_minor": 5
}